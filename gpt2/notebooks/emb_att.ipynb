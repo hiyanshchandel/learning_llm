{
 "cells": [
  {
   "cell_type": "markdown",
   "id": "f7ab332f",
   "metadata": {},
   "source": [
    "## TOKEN EMBEDDINGS\n"
   ]
  },
  {
   "cell_type": "markdown",
   "id": "4ffea184",
   "metadata": {},
   "source": [
    "![Screenshot](images/screenshot1.png)\n"
   ]
  },
  {
   "cell_type": "markdown",
   "id": "2e3d0f85",
   "metadata": {},
   "source": [
    "a well trained embedding can capture significant syntactical information"
   ]
  },
  {
   "cell_type": "markdown",
   "id": "19969981",
   "metadata": {},
   "source": [
    "<div class=\"alert alert-block alert-success\">\n",
    "    \n",
    "Let's illustrate how the token ID to embedding vector conversion works with a hands-on\n",
    "example. Suppose we have the following four input tokens with IDs 2, 3, 5, and 1:</div>"
   ]
  },
  {
   "cell_type": "code",
   "execution_count": 2,
   "id": "952d6baa",
   "metadata": {},
   "outputs": [],
   "source": [
    "import torch\n",
    "input_ids = torch.tensor([1, 2, 3, 4, 5])"
   ]
  },
  {
   "cell_type": "markdown",
   "id": "cc6e47a2",
   "metadata": {},
   "source": [
    "<div class=\"alert alert-block alert-success\">\n",
    "    \n",
    "For the sake of simplicity and illustration purposes, suppose we have a small vocabulary of\n",
    "only 6 words (instead of the 50,257 words in the BPE tokenizer vocabulary), and we want\n",
    "to create embeddings of size 3 (in GPT-3, the embedding size is 12,288 dimensions):\n",
    "\n",
    "</div>"
   ]
  },
  {
   "cell_type": "markdown",
   "id": "64ffae68",
   "metadata": {},
   "source": [
    "<div class=\"alert alert-block alert-success\">\n",
    "    \n",
    "Using the vocab_size and output_dim, we can instantiate an embedding layer in PyTorch,\n",
    "setting the random seed to 123 for reproducibility purposes:\n",
    "\n",
    "</div>"
   ]
  },
  {
   "cell_type": "code",
   "execution_count": 3,
   "id": "fb058f33",
   "metadata": {},
   "outputs": [],
   "source": [
    "vocab_size = 6\n",
    "output_dim = 4\n",
    "torch.manual_seed(123)\n",
    "embedding_layer = torch.nn.Embedding(vocab_size,output_dim)"
   ]
  },
  {
   "cell_type": "code",
   "execution_count": 4,
   "id": "c8e46182",
   "metadata": {},
   "outputs": [
    {
     "data": {
      "text/plain": [
       "Parameter containing:\n",
       "tensor([[ 0.3374, -0.1778, -0.3035, -0.5880],\n",
       "        [ 0.3486,  0.6603, -0.2196, -0.3792],\n",
       "        [-0.1606, -0.4015,  0.6957, -1.8061],\n",
       "        [ 1.8960, -0.1750,  1.3689, -1.6033],\n",
       "        [-0.7849, -1.4096, -0.4076,  0.7953],\n",
       "        [ 0.9985,  0.2212,  1.8319, -0.3378]], requires_grad=True)"
      ]
     },
     "execution_count": 4,
     "metadata": {},
     "output_type": "execute_result"
    }
   ],
   "source": [
    "embedding_layer.weight"
   ]
  },
  {
   "cell_type": "markdown",
   "id": "ba2b4bea",
   "metadata": {},
   "source": [
    "<div class=\"alert alert-block alert-info\">\n",
    "    \n",
    "We can see that the weight matrix of the embedding layer contains small, random values.\n",
    "These values are optimized during LLM training as part of the LLM optimization itself, as we\n",
    "will see in upcoming chapters. Moreover, we can see that the weight matrix has six rows\n",
    "and three columns. There is one row for each of the six possible tokens in the vocabulary.\n",
    "And there is one column for each of the three embedding dimensions.\n",
    "    \n",
    "</div>"
   ]
  },
  {
   "cell_type": "markdown",
   "id": "9e9df96b",
   "metadata": {},
   "source": [
    "<div class=\"alert alert-block alert-success\">\n",
    "    \n",
    "After we instantiated the embedding layer, let's now apply it to a token ID to obtain the\n",
    "embedding vector:\n",
    "\n",
    "</div>"
   ]
  },
  {
   "cell_type": "code",
   "execution_count": 5,
   "id": "ff52f679",
   "metadata": {},
   "outputs": [
    {
     "data": {
      "text/plain": [
       "tensor([[ 1.8960, -0.1750,  1.3689, -1.6033]], grad_fn=<EmbeddingBackward0>)"
      ]
     },
     "execution_count": 5,
     "metadata": {},
     "output_type": "execute_result"
    }
   ],
   "source": [
    "embedding_layer(torch.tensor([3])) # 4ht row of the matrix"
   ]
  },
  {
   "cell_type": "markdown",
   "id": "37d05549",
   "metadata": {},
   "source": [
    "\n",
    "\n",
    "<div class=\"alert alert-block alert-info\">\n",
    "    \n",
    "each row in the embedding matrix is just an lookup to the token ids\n",
    "    \n",
    "</div>"
   ]
  },
  {
   "cell_type": "code",
   "execution_count": 6,
   "id": "b9975a08",
   "metadata": {},
   "outputs": [
    {
     "data": {
      "text/plain": [
       "tensor([3])"
      ]
     },
     "execution_count": 6,
     "metadata": {},
     "output_type": "execute_result"
    }
   ],
   "source": [
    "torch.tensor([3])"
   ]
  },
  {
   "cell_type": "markdown",
   "id": "1c456f66",
   "metadata": {},
   "source": [
    "![Screenshot](images/screenshot4.png)\n",
    "\n"
   ]
  },
  {
   "cell_type": "markdown",
   "id": "c49f39fd",
   "metadata": {},
   "source": [
    "this is after sinosuindal encoding, pick and 2 words which are close you'll see that most of the vector is same and for any two vectroo far away from each other the vectors are differnt , thus this is captuirinmg the relative positions pretty good, also if you see absolute positions of words are also captures in this as first word and last word are quite different (pick a line horizontally it represents positional encoding vector)"
   ]
  },
  {
   "cell_type": "markdown",
   "id": "4cb1979b",
   "metadata": {},
   "source": [
    "![Screenshot](images/screenshot5.png)\n",
    "\n",
    "\n"
   ]
  },
  {
   "cell_type": "markdown",
   "id": "2c0b8616",
   "metadata": {},
   "source": [
    "**POSITIONAL EMBEDDINGS (ENCODING WORD POSITIONS)**"
   ]
  },
  {
   "cell_type": "code",
   "execution_count": 7,
   "id": "0349bc2b",
   "metadata": {},
   "outputs": [],
   "source": [
    "from torch.utils.data import Dataset, DataLoader\n",
    "import torch\n",
    "import tiktoken\n",
    "import re"
   ]
  },
  {
   "cell_type": "code",
   "execution_count": 8,
   "id": "7b61be80",
   "metadata": {},
   "outputs": [],
   "source": [
    "from torch.utils.data import Dataset, DataLoader\n",
    "import torch\n",
    "class GPTDatasetV1(Dataset):\n",
    "    def __init__(self, txt, tokenizer, max_length, stride):\n",
    "        self.input_ids = []\n",
    "        self.target_ids = []\n",
    "\n",
    "        token_ids = tokenizer.encode(txt, allowed_special={\"<|endoftext|>\"})\n",
    "\n",
    "        #using sliding window to ceate input and target pairs\n",
    "        for i in range(0, len(token_ids) - max_length, stride):\n",
    "            input_chunk = token_ids[i: i + max_length]\n",
    "            target_chunk = token_ids[i+1: max_length + 1 + i]\n",
    "            self.input_ids.append(torch.tensor(input_chunk))\n",
    "            self.target_ids.append(torch.tensor(target_chunk))\n",
    "\n",
    "    def __len__(self):\n",
    "        return len(self.input_ids)\n",
    "    \n",
    "    def __getitem__(self, idx):\n",
    "\n",
    "        return self.input_ids[idx], self.target_ids[idx]"
   ]
  },
  {
   "cell_type": "code",
   "execution_count": 9,
   "id": "2808f243",
   "metadata": {},
   "outputs": [],
   "source": [
    "class SimpleTokenizerV2:\n",
    "    def __init__(self,vocab):\n",
    "        self.str_to_int = vocab\n",
    "        self.int_to_str = {i:s for s,i in vocab.items()}\n",
    "\n",
    "    def encode(self, text):\n",
    "        pre_processed = re.split(r'([,.:;\"!?()\\'_]|--|\\s)', text)   \n",
    "        pre_processed = [item for item in pre_processed if item.strip()]\n",
    "        pre_processed = [item if item in self.str_to_int else \"<|unk|>\" for item in pre_processed]\n",
    "\n",
    "        ids = [self.str_to_int[s] for s in pre_processed]\n",
    "        return ids\n",
    "    \n",
    "    def decode(self, ids):\n",
    "        text = \" \".join([self.int_to_str[i] for i in ids])\n",
    "        text = re.sub(r'\\s+([,.?!\"()\\'])', r'\\1', text)\n",
    "        return text\n"
   ]
  },
  {
   "cell_type": "code",
   "execution_count": 10,
   "id": "9de25085",
   "metadata": {},
   "outputs": [],
   "source": [
    "def create_dataloader_v1(txt, batch_size=4, max_length=256, \n",
    "                         stride=128, shuffle=True, drop_last=True,\n",
    "                         num_workers=0):\n",
    "\n",
    "    # Initialize the tokenizer\n",
    "    tokenizer = tiktoken.get_encoding(\"gpt2\")\n",
    "\n",
    "    # Create dataset\n",
    "    dataset = GPTDatasetV1(txt, tokenizer, max_length, stride)\n",
    "\n",
    "    # Create dataloader\n",
    "    dataloader = DataLoader(\n",
    "        dataset,\n",
    "        batch_size=batch_size,\n",
    "        shuffle=shuffle,\n",
    "        drop_last=drop_last,\n",
    "        num_workers=num_workers\n",
    "    )\n",
    "\n",
    "    return dataloader"
   ]
  },
  {
   "cell_type": "code",
   "execution_count": 11,
   "id": "85c3cc70",
   "metadata": {},
   "outputs": [],
   "source": [
    "import torch\n",
    "vocab_size = 50257\n",
    "output_dim = 256\n",
    "\n",
    "token_embedding_layer = torch.nn.Embedding(vocab_size,output_dim)"
   ]
  },
  {
   "cell_type": "code",
   "execution_count": 12,
   "id": "1d7adde2",
   "metadata": {},
   "outputs": [],
   "source": [
    "with open(\"wharton_verdict.txt\", \"r\", encoding = \"utf-8\") as f:\n",
    "    raw_text = f.read()"
   ]
  },
  {
   "cell_type": "code",
   "execution_count": 13,
   "id": "d921e5d7",
   "metadata": {},
   "outputs": [],
   "source": [
    "max_length = 4\n",
    "dataloader = create_dataloader_v1(raw_text, batch_size = 8,\n",
    "                                  max_length = max_length, stride = 2,\n",
    "                                  shuffle = True)\n",
    "\n",
    "data_iter = iter(dataloader)\n",
    "inputs, targets  = next(data_iter)"
   ]
  },
  {
   "cell_type": "code",
   "execution_count": 14,
   "id": "c4235a1d",
   "metadata": {},
   "outputs": [
    {
     "name": "stdout",
     "output_type": "stream",
     "text": [
      "Token IDs:\n",
      " tensor([[  257,  1207,  8344,   803],\n",
      "        [  625,   262, 24818,   417],\n",
      "        [  257,  6487,    13,   366],\n",
      "        [  198,  1544, 13818,  4622],\n",
      "        [35569,   502,    13,   887],\n",
      "        [  683,    11, 10597,   314],\n",
      "        [  198,  1870,   465,  8216],\n",
      "        [  198,   265,  6384,  1456]])\n",
      "\n",
      "Inputs shape:\n",
      " torch.Size([8, 4])\n"
     ]
    }
   ],
   "source": [
    "print(\"Token IDs:\\n\", inputs)\n",
    "print(\"\\nInputs shape:\\n\", inputs.shape)"
   ]
  },
  {
   "cell_type": "code",
   "execution_count": 15,
   "id": "ffb0d549",
   "metadata": {},
   "outputs": [
    {
     "name": "stdout",
     "output_type": "stream",
     "text": [
      "\n",
      "Token Embeddings:\n",
      " torch.Size([8, 4, 256])\n"
     ]
    }
   ],
   "source": [
    "token_embeddings = token_embedding_layer(inputs)\n",
    "print(\"\\nToken Embeddings:\\n\", token_embeddings.shape)"
   ]
  },
  {
   "cell_type": "code",
   "execution_count": 16,
   "id": "5f523449",
   "metadata": {},
   "outputs": [],
   "source": [
    "context_length = max_length\n",
    "pos_embedding_layer = torch.nn.Embedding(context_length, output_dim)"
   ]
  },
  {
   "cell_type": "code",
   "execution_count": 17,
   "id": "28eddb56",
   "metadata": {},
   "outputs": [
    {
     "name": "stdout",
     "output_type": "stream",
     "text": [
      "torch.Size([4, 256])\n"
     ]
    }
   ],
   "source": [
    "pos_embeddings = pos_embedding_layer(torch.arange(max_length))\n",
    "print(pos_embeddings.shape)"
   ]
  },
  {
   "cell_type": "code",
   "execution_count": 18,
   "id": "792eaec5",
   "metadata": {},
   "outputs": [
    {
     "name": "stdout",
     "output_type": "stream",
     "text": [
      "torch.Size([8, 4, 256])\n"
     ]
    }
   ],
   "source": [
    "input_embeddings = token_embeddings + pos_embeddings\n",
    "print(input_embeddings.shape)"
   ]
  },
  {
   "cell_type": "markdown",
   "id": "947cbf51",
   "metadata": {},
   "source": [
    "<div class=\"alert alert-block alert-info\">\n",
    "    \n",
    "As shown in the preceding code example, the input to the pos_embeddings is usually a\n",
    "placeholder vector torch.arange(context_length), which contains a sequence of\n",
    "numbers 0, 1, ..., up to the maximum input length − 1. \n",
    "\n",
    "The context_length is a variable\n",
    "that represents the supported input size of the LLM. \n",
    "\n",
    "Here, we choose it similar to the\n",
    "maximum length of the input text. \n",
    "\n",
    "In practice, input text can be longer than the supported\n",
    "context length, in which case we have to truncate the text.\n",
    "    \n",
    "</div>"
   ]
  },
  {
   "cell_type": "markdown",
   "id": "9bea5ae9",
   "metadata": {},
   "source": [
    "<div class=\"alert alert-block alert-info\">\n",
    "    \n",
    "As we can see, the positional embedding tensor consists of four 256-dimensional vectors.\n",
    "We can now add these directly to the token embeddings, where PyTorch will add the 4x256-\n",
    "dimensional pos_embeddings tensor to each 4x256-dimensional token embedding tensor in\n",
    "each of the 8 batches:\n",
    "    \n",
    "</div>"
   ]
  },
  {
   "cell_type": "code",
   "execution_count": 19,
   "id": "b5b75b54",
   "metadata": {},
   "outputs": [
    {
     "data": {
      "text/plain": [
       "torch.Size([8, 4, 256])"
      ]
     },
     "execution_count": 19,
     "metadata": {},
     "output_type": "execute_result"
    }
   ],
   "source": [
    "input_embeddings.shape"
   ]
  },
  {
   "cell_type": "markdown",
   "id": "39297c36",
   "metadata": {},
   "source": [
    "## IMPLEMENTING A COMPACT SELF ATTENTION PYTHON CLASS"
   ]
  },
  {
   "cell_type": "code",
   "execution_count": 20,
   "id": "0c2f45c1",
   "metadata": {},
   "outputs": [],
   "source": [
    "import torch.nn as nn\n",
    "import torch\n",
    "\n",
    "class SelfAttention_v1(nn.Module):\n",
    "\n",
    "    def __init__(self, d_in, d_out):\n",
    "        super().__init__()\n",
    "        self.W_Q = nn.Parameter(torch.randn(d_in, d_out))\n",
    "        self.W_K = nn.Parameter(torch.randn(d_in, d_out))\n",
    "        self.W_V = nn.Parameter(torch.randn(d_in, d_out))\n",
    "\n",
    "    def forward(self, x):\n",
    "        keys = x @ self.W_K\n",
    "        queries = x @ self.W_Q\n",
    "        values = x @ self.W_V\n",
    "\n",
    "        attn_scores = queries @ keys.T\n",
    "        attn_weights = torch.softmax(attn_scores / keys.shape[-1]**0.5 , dim=-1)\n",
    "        context_vec = attn_weights @ values\n",
    "        return context_vec"
   ]
  },
  {
   "cell_type": "code",
   "execution_count": 21,
   "id": "6ab1d396",
   "metadata": {},
   "outputs": [
    {
     "name": "stdout",
     "output_type": "stream",
     "text": [
      "tensor([[ 0.7053, -0.5213,  0.7561, -1.1033,  0.0726],\n",
      "        [ 0.6443, -0.5202,  0.7027, -1.0369,  0.1176],\n",
      "        [ 0.6507, -0.5203,  0.7091, -1.0447,  0.1130],\n",
      "        [ 0.6933, -0.5269,  0.7448, -1.0918,  0.0881],\n",
      "        [ 0.7910, -0.5222,  0.8522, -1.2159,  0.0105],\n",
      "        [ 0.6292, -0.5259,  0.6801, -1.0142,  0.1349]], grad_fn=<MmBackward0>)\n"
     ]
    }
   ],
   "source": [
    "inputs = torch.tensor(\n",
    "  [[0.43, 0.15, 0.89], # Your     (x^1)\n",
    "   [0.55, 0.87, 0.66], # journey  (x^2)\n",
    "   [0.57, 0.85, 0.64], # starts   (x^3)\n",
    "   [0.22, 0.58, 0.33], # with     (x^4)\n",
    "   [0.77, 0.25, 0.10], # one      (x^5)\n",
    "   [0.05, 0.80, 0.55]] # step     (x^6)\n",
    ")\n",
    "\n",
    "torch.manual_seed(123) \n",
    "\n",
    "sa_v1 = SelfAttention_v1(3,5)\n",
    "print(sa_v1(inputs))"
   ]
  },
  {
   "cell_type": "code",
   "execution_count": 22,
   "id": "9b62737c",
   "metadata": {},
   "outputs": [],
   "source": [
    "import torch.nn as nn\n",
    "\n",
    "class SelfAttention_v2(nn.Module):\n",
    "\n",
    "    def __init__(self, d_in, d_out):\n",
    "        super().__init__()\n",
    "        self.W_Q = nn.Linear(d_in, d_out, bias=False)\n",
    "        self.W_K = nn.Linear(d_in, d_out, bias=False)\n",
    "        self.W_V = nn.Linear(d_in, d_out, bias=False)\n",
    "\n",
    "    def forward(self, x):\n",
    "        keys = self.W_K(x)\n",
    "        queries = self.W_Q(x)\n",
    "        values = self.W_V(x)\n",
    "\n",
    "        attn_scores = queries @ keys.T\n",
    "        attn_weights = torch.softmax(attn_scores / keys.shape[-1]**0.5 , dim=-1)\n",
    "        context_vec = attn_weights @ values\n",
    "        return context_vec"
   ]
  },
  {
   "cell_type": "code",
   "execution_count": 23,
   "id": "eb0fea03",
   "metadata": {},
   "outputs": [
    {
     "name": "stdout",
     "output_type": "stream",
     "text": [
      "tensor([[-0.0739,  0.0713],\n",
      "        [-0.0748,  0.0703],\n",
      "        [-0.0749,  0.0702],\n",
      "        [-0.0760,  0.0685],\n",
      "        [-0.0763,  0.0679],\n",
      "        [-0.0754,  0.0693]], grad_fn=<MmBackward0>)\n"
     ]
    }
   ],
   "source": [
    "torch.manual_seed(789)\n",
    "sa_v1 = SelfAttention_v2(3,2)\n",
    "print(sa_v1(inputs))"
   ]
  },
  {
   "cell_type": "markdown",
   "id": "ca7a7095",
   "metadata": {},
   "source": [
    "## HIDING FUTURE WORDS WITH CAUSAL ATTENTION"
   ]
  },
  {
   "cell_type": "code",
   "execution_count": 24,
   "id": "a1b20967",
   "metadata": {},
   "outputs": [
    {
     "data": {
      "text/plain": [
       "tensor([[1., 1., 1., 1., 1., 1.],\n",
       "        [0., 1., 1., 1., 1., 1.],\n",
       "        [0., 0., 1., 1., 1., 1.],\n",
       "        [0., 0., 0., 1., 1., 1.],\n",
       "        [0., 0., 0., 0., 1., 1.],\n",
       "        [0., 0., 0., 0., 0., 1.]])"
      ]
     },
     "execution_count": 24,
     "metadata": {},
     "output_type": "execute_result"
    }
   ],
   "source": [
    "context_length = inputs.shape[0]\n",
    "torch.triu(torch.ones(context_length, context_length))"
   ]
  },
  {
   "cell_type": "markdown",
   "id": "77d788eb",
   "metadata": {},
   "source": [
    "### IMPLEMENTING A COMPACT CAUSAL ATTENTION CLASS"
   ]
  },
  {
   "cell_type": "markdown",
   "id": "c0e309b9",
   "metadata": {},
   "source": [
    "<div class=\"alert alert-block alert-success\">\n",
    "\n",
    "In this section, we will now incorporate the causal attention and dropout modifications into\n",
    "the SelfAttention Python class we developed in section 3.4. \n",
    "\n",
    "This class will then serve as a\n",
    "template for developing multi-head attention in the upcoming section.\n",
    "\n",
    "</div>"
   ]
  },
  {
   "cell_type": "markdown",
   "id": "9b8b611d",
   "metadata": {},
   "source": [
    "<div class=\"alert alert-block alert-success\">\n",
    "\n",
    "Before we begin, one more thing is to ensure that the code can handle batches\n",
    "consisting of more than one input. \n",
    "\n",
    "This will ensure that the CausalAttention class supports the batch\n",
    "outputs produced by the data loader we implemented earlier.\n",
    "\n",
    "</div>"
   ]
  },
  {
   "cell_type": "markdown",
   "id": "25e96154",
   "metadata": {},
   "source": [
    "<div class=\"alert alert-block alert-success\">\n",
    "\n",
    "For simplicity, to simulate such batch inputs, we duplicate the input text example:\n",
    "\n",
    "</div>"
   ]
  },
  {
   "cell_type": "markdown",
   "id": "5598e083",
   "metadata": {},
   "source": [
    "<div class=\"alert alert-block alert-info\">\n",
    "\n",
    " 2 inputs with 6 tokens each, and each token has embedding dimension 3\n",
    "    \n",
    "</div>"
   ]
  },
  {
   "cell_type": "code",
   "execution_count": 25,
   "id": "65378ac4",
   "metadata": {},
   "outputs": [
    {
     "name": "stdout",
     "output_type": "stream",
     "text": [
      "torch.Size([2, 6, 3])\n"
     ]
    }
   ],
   "source": [
    "inputs = torch.tensor(\n",
    "  [[0.43, 0.15, 0.89], # Your     (x^1)\n",
    "   [0.55, 0.87, 0.66], # journey  (x^2)\n",
    "   [0.57, 0.85, 0.64], # starts   (x^3)\n",
    "   [0.22, 0.58, 0.33], # with     (x^4)\n",
    "   [0.77, 0.25, 0.10], # one      (x^5)\n",
    "   [0.05, 0.80, 0.55]] # step     (x^6)\n",
    "                )\n",
    "batch = torch.stack((inputs, inputs), dim=0)\n",
    "print(batch.shape) \n",
    "\n"
   ]
  },
  {
   "cell_type": "code",
   "execution_count": 26,
   "id": "84968b45",
   "metadata": {},
   "outputs": [],
   "source": [
    "class CasualAttention(nn.Module):\n",
    "\n",
    "    def __init__(self, d_in, d_out, context_length, dropout, qkv_bias=False):\n",
    "        super().__init__()\n",
    "        self.d_out = d_out\n",
    "        self.W_query = nn.Linear(d_in, d_out, bias=qkv_bias)\n",
    "        self.W_key   = nn.Linear(d_in, d_out, bias=qkv_bias)\n",
    "        self.W_value = nn.Linear(d_in, d_out, bias=qkv_bias)\n",
    "        self.dropout = nn.Dropout(dropout)\n",
    "        self.register_buffer('mask', torch.triu(torch.ones(context_length,context_length),diagonal = 1))\n",
    "\n",
    "    def forward(self, x):\n",
    "        b, num_tokens , d_in = x.shape\n",
    "        keys = self.W_key(x)\n",
    "        queries = self.W_query(x)\n",
    "        values = self.W_value(x)\n",
    "\n",
    "        attn_scores = queries @ keys.transpose(1,2)\n",
    "        attn_scores.masked_fill_(self.mask.bool()[:num_tokens, :num_tokens], -torch.inf) \n",
    "        attn_weights = torch.softmax(attn_scores /keys.shape[-1]**0.5, dim = 1)\n",
    "        attn_weights = self.dropout(attn_weights)\n",
    "        context_vec = attn_weights @ values\n",
    "        return context_vec\n"
   ]
  },
  {
   "cell_type": "code",
   "execution_count": 27,
   "id": "7560ba2e",
   "metadata": {},
   "outputs": [
    {
     "data": {
      "text/plain": [
       "tensor([[[ 0.0000,  0.0000,  0.0000],\n",
       "         [ 0.1081,  0.1840, -0.1018],\n",
       "         [ 0.1729,  0.2798, -0.0797],\n",
       "         [ 0.2621,  0.4295, -0.1738],\n",
       "         [ 0.3809,  0.5929, -0.1858],\n",
       "         [ 0.4447,  0.7247, -0.2576]],\n",
       "\n",
       "        [[ 0.0997,  0.1696, -0.0939],\n",
       "         [ 0.0000,  0.0000,  0.0000],\n",
       "         [ 0.2518,  0.4119, -0.1638],\n",
       "         [ 0.2621,  0.4295, -0.1738],\n",
       "         [ 0.0951,  0.3614, -0.2786],\n",
       "         [ 0.4420,  0.6948, -0.2183]]], grad_fn=<UnsafeViewBackward0>)"
      ]
     },
     "execution_count": 27,
     "metadata": {},
     "output_type": "execute_result"
    }
   ],
   "source": [
    "torch.manual_seed(123)\n",
    "context_length = batch.shape[1]\n",
    "ca = CasualAttention(3, 3, context_length, dropout=0.5)\n",
    "context_vec = ca(batch)\n",
    "context_vec"
   ]
  },
  {
   "cell_type": "markdown",
   "id": "0613e4ff",
   "metadata": {},
   "source": [
    "## EXTENDING SINGLE HEAD ATTENTION TO STACKED ATTENTION (MULTIHEAD ATTENTION)"
   ]
  },
  {
   "cell_type": "code",
   "execution_count": 28,
   "id": "71eb2168",
   "metadata": {},
   "outputs": [],
   "source": [
    "import torch\n",
    "import torch.nn as nn"
   ]
  },
  {
   "cell_type": "code",
   "execution_count": 29,
   "id": "98264cf1",
   "metadata": {},
   "outputs": [],
   "source": [
    "class MultiHeadAtttentionWrapper(nn.Module):\n",
    "    def __init__(self, d_in, d_out, context_length,dropout, num_heads, qkv_bias = False):\n",
    "        super().__init__()\n",
    "        self.heads = nn.ModuleList([\n",
    "            CasualAttention(d_in, d_out, context_length, dropout, qkv_bias) \n",
    "            for _ in range(num_heads)\n",
    "        ])\n",
    "    def forward(self, x):\n",
    "        return torch.cat([head(x) for head in self.heads], dim = -1)"
   ]
  },
  {
   "cell_type": "code",
   "execution_count": 30,
   "id": "4653dbd0",
   "metadata": {},
   "outputs": [
    {
     "data": {
      "text/plain": [
       "tensor([[[ 0.0499,  0.0848, -0.0469,  0.0143,  0.0871,  0.0520],\n",
       "         [ 0.1262,  0.2064, -0.0820,  0.0101,  0.2142,  0.1086],\n",
       "         [ 0.2124,  0.3458, -0.1218,  0.0081,  0.3906,  0.1888],\n",
       "         [ 0.2885,  0.4546, -0.1387,  0.0028,  0.5420,  0.2603],\n",
       "         [ 0.2615,  0.5105, -0.2161,  0.0027,  0.7399,  0.3124],\n",
       "         [ 0.6519,  0.9957, -0.2431, -0.0180,  1.2439,  0.5864]],\n",
       "\n",
       "        [[ 0.0499,  0.0848, -0.0469,  0.0143,  0.0871,  0.0520],\n",
       "         [ 0.1262,  0.2064, -0.0820,  0.0101,  0.2142,  0.1086],\n",
       "         [ 0.2124,  0.3458, -0.1218,  0.0081,  0.3906,  0.1888],\n",
       "         [ 0.2885,  0.4546, -0.1387,  0.0028,  0.5420,  0.2603],\n",
       "         [ 0.2615,  0.5105, -0.2161,  0.0027,  0.7399,  0.3124],\n",
       "         [ 0.6519,  0.9957, -0.2431, -0.0180,  1.2439,  0.5864]]],\n",
       "       grad_fn=<CatBackward0>)"
      ]
     },
     "execution_count": 30,
     "metadata": {},
     "output_type": "execute_result"
    }
   ],
   "source": [
    "torch.manual_seed(123)\n",
    "context_length = batch.shape[1]\n",
    "mha = MultiHeadAtttentionWrapper(3, 3, context_length, dropout=0, num_heads = 2)\n",
    "context_vec = mha(batch)\n",
    "context_vec"
   ]
  },
  {
   "cell_type": "markdown",
   "id": "cac42a33",
   "metadata": {},
   "source": [
    "### BATCHED STACKED MULTI HEADED ATTENTION"
   ]
  },
  {
   "cell_type": "code",
   "execution_count": 31,
   "id": "a73a18e1",
   "metadata": {},
   "outputs": [],
   "source": [
    "import torch.nn as nn\n",
    "import torch \n",
    "class MultiHeadedAttention(nn.Module):\n",
    "    def __init__(self, d_in, d_out, context_length, dropout, num_heads, qkv_bias = False):\n",
    "        super().__init__()\n",
    "        assert (d_out % num_heads == 0) , \"d_out must be divisible by num_heads\"\n",
    "\n",
    "        self.d_out = d_out\n",
    "        self.num_heads = num_heads\n",
    "        self.head_dim = d_out // num_heads\n",
    "\n",
    "        self.W_query = nn.Linear(d_in, d_out, bias = qkv_bias)\n",
    "        self.W_key = nn.Linear(d_in, d_out, bias = qkv_bias)\n",
    "        self.W_Value = nn.Linear(d_in, d_out, bias = qkv_bias)\n",
    "        self.out_proj = nn.Linear(d_out, d_out) # same as W_O\n",
    "        self.dropout = nn.Dropout(dropout)\n",
    "        self.register_buffer(\"mask\", torch.triu(torch.ones(context_length, context_length), diagonal=1))\n",
    "\n",
    "    def forward(self, x):\n",
    "        b, num_tokens , d_in = x.shape\n",
    "\n",
    "        keys = self.W_key(x)\n",
    "        queries = self.W_query(x)\n",
    "        values = self.W_Value(x)\n",
    "\n",
    "        keys = keys.view(b, num_tokens, self.num_heads, self.head_dim)\n",
    "        values = values.view(b, num_tokens, self.num_heads, self.head_dim)\n",
    "        queries = queries.view(b, num_tokens, self.num_heads, self.head_dim)\n",
    "\n",
    "        keys = keys.transpose(1,2)\n",
    "        queries = queries.transpose(1,2)\n",
    "        values = values.transpose(1,2)\n",
    "\n",
    "        attn_scores = queries @ keys.transpose(2,3)\n",
    "\n",
    "        mask_bool = self.mask.bool()[:num_tokens, :num_tokens]\n",
    "\n",
    "        attn_scores.masked_fill_(mask_bool, -torch.inf)\n",
    "        attn_weights = torch.softmax(attn_scores / keys.shape[-1]**0.5, dim = -1)\n",
    "        attn_weights = self.dropout(attn_weights)\n",
    "        \n",
    "        context_vec = (attn_weights @ values).transpose(1,2)\n",
    "\n",
    "        context_vec = context_vec.contiguous().view(b, num_tokens, self.d_out)\n",
    "        context_vec = self.out_proj(context_vec)\n",
    "\n",
    "        return context_vec\n"
   ]
  },
  {
   "cell_type": "markdown",
   "id": "284c8e16",
   "metadata": {},
   "source": [
    "![Screenshot](images/screenshot6.jpg)\n"
   ]
  },
  {
   "cell_type": "code",
   "execution_count": 1,
   "id": "464ca14c",
   "metadata": {},
   "outputs": [
    {
     "ename": "NameError",
     "evalue": "name 'torch' is not defined",
     "output_type": "error",
     "traceback": [
      "\u001b[0;31m---------------------------------------------------------------------------\u001b[0m",
      "\u001b[0;31mNameError\u001b[0m                                 Traceback (most recent call last)",
      "Cell \u001b[0;32mIn[1], line 1\u001b[0m\n\u001b[0;32m----> 1\u001b[0m torch\u001b[38;5;241m.\u001b[39mmanual_seed(\u001b[38;5;241m123\u001b[39m)\n\u001b[1;32m      3\u001b[0m \u001b[38;5;66;03m# Define the tensor with 3 rows and 6 columns\u001b[39;00m\n\u001b[1;32m      4\u001b[0m inputs \u001b[38;5;241m=\u001b[39m torch\u001b[38;5;241m.\u001b[39mtensor(\n\u001b[1;32m      5\u001b[0m     [[\u001b[38;5;241m0.43\u001b[39m, \u001b[38;5;241m0.15\u001b[39m, \u001b[38;5;241m0.89\u001b[39m, \u001b[38;5;241m0.55\u001b[39m, \u001b[38;5;241m0.87\u001b[39m, \u001b[38;5;241m0.66\u001b[39m],  \u001b[38;5;66;03m# Row 1\u001b[39;00m\n\u001b[1;32m      6\u001b[0m      [\u001b[38;5;241m0.57\u001b[39m, \u001b[38;5;241m0.85\u001b[39m, \u001b[38;5;241m0.64\u001b[39m, \u001b[38;5;241m0.22\u001b[39m, \u001b[38;5;241m0.58\u001b[39m, \u001b[38;5;241m0.33\u001b[39m],  \u001b[38;5;66;03m# Row 2\u001b[39;00m\n\u001b[1;32m      7\u001b[0m      [\u001b[38;5;241m0.77\u001b[39m, \u001b[38;5;241m0.25\u001b[39m, \u001b[38;5;241m0.10\u001b[39m, \u001b[38;5;241m0.05\u001b[39m, \u001b[38;5;241m0.80\u001b[39m, \u001b[38;5;241m0.55\u001b[39m]]  \u001b[38;5;66;03m# Row 3\u001b[39;00m\n\u001b[1;32m      8\u001b[0m )\n",
      "\u001b[0;31mNameError\u001b[0m: name 'torch' is not defined"
     ]
    }
   ],
   "source": [
    "torch.manual_seed(123)\n",
    "\n",
    "# Define the tensor with 3 rows and 6 columns\n",
    "inputs = torch.tensor(\n",
    "    [[0.43, 0.15, 0.89, 0.55, 0.87, 0.66],  # Row 1\n",
    "     [0.57, 0.85, 0.64, 0.22, 0.58, 0.33],  # Row 2\n",
    "     [0.77, 0.25, 0.10, 0.05, 0.80, 0.55]]  # Row 3\n",
    ")\n",
    "\n",
    "batch = torch.stack((inputs, inputs), dim=0)\n",
    "print(batch.shape) \n",
    "\n",
    "batch_size, context_length, d_in = batch.shape\n",
    "d_out = 6\n",
    "mha = MultiHeadedAttention(d_in, d_out, context_length, 0.0, num_heads=2)\n",
    "context_vecs = mha(batch)\n",
    "print(context_vecs)\n",
    "print(\"context_vecs.shape:\", context_vecs.shape)"
   ]
  },
  {
   "cell_type": "markdown",
   "id": "1c5a7ec0",
   "metadata": {},
   "source": [
    "<div class=\"alert alert-block alert-warning\">\n",
    "\n",
    "For comparison, the smallest GPT-2 model (117 million parameters) has 12 attention\n",
    "heads and a context vector embedding size of 768. \n",
    "\n",
    "The largest GPT-2 model (1.5 billion\n",
    "parameters) has 25 attention heads and a context vector embedding size of 1600.\n",
    "\n",
    "Note\n",
    "that the embedding sizes of the token inputs and context embeddings are the same in GPT\n",
    "models (d_in = d_out).\n",
    "\n",
    "</div>"
   ]
  },
  {
   "cell_type": "markdown",
   "id": "053efc83",
   "metadata": {},
   "source": [
    "## GPT ARCHITECTURE PART 1: DUMMY GPT MODEL CLASS\n"
   ]
  },
  {
   "cell_type": "markdown",
   "id": "ddf58d2f",
   "metadata": {},
   "source": [
    "<div class=\"alert alert-block alert-info\">\n",
    "\n",
    "Step 1: Use a placeholder for TransformerBlock\n",
    "\n",
    "Step 2: Use a placeholder for LayerNorm\n",
    "</div>"
   ]
  },
  {
   "cell_type": "code",
   "execution_count": 37,
   "id": "98f15783",
   "metadata": {},
   "outputs": [],
   "source": [
    "GPT_CONFIG_124M = {\n",
    "    \"vocab_size\": 50257,    # Vocabulary size\n",
    "    \"context_length\": 1024, # Context length\n",
    "    \"emb_dim\": 768,         # Embedding dimension\n",
    "    \"n_heads\": 12,          # Number of attention heads\n",
    "    \"n_layers\": 12,         # Number of layers\n",
    "    \"drop_rate\": 0.1,       # Dropout rate\n",
    "    \"qkv_bias\": False       # Query-Key-Value bias\n",
    "}"
   ]
  },
  {
   "cell_type": "code",
   "execution_count": 38,
   "id": "73ff8cb3",
   "metadata": {},
   "outputs": [],
   "source": [
    "cfg = GPT_CONFIG_124M"
   ]
  },
  {
   "cell_type": "code",
   "execution_count": 39,
   "id": "ccb83c8d",
   "metadata": {},
   "outputs": [],
   "source": [
    "import torch\n",
    "import torch.nn as nn\n",
    "\n",
    "class DummyGPTModel(nn.Module):\n",
    "    def __init__(self, cfg):\n",
    "        super().__init__()\n",
    "\n",
    "        self.tok_emb = nn.Embedding(cfg[\"vocab_size\"], cfg[\"emb_dim\"])\n",
    "        self.pos_emb = nn.Embedding(cfg[\"context_length\"], cfg[\"emb_dim\"])\n",
    "        self.dropout = nn.Dropout(cfg[\"drop_rate\"])\n",
    "\n",
    "        # Use a placeholder for TransformerBlock\n",
    "        self.trf_blocks = nn.Sequential(\n",
    "            *[DummyTransformerBlock(cfg) for _ in range(cfg[\"n_layers\"])]\n",
    "        )\n",
    "        self.final_norm = DummyLayerNorm(cfg[\"emb_dim\"])\n",
    "        self.out_head = nn.Linear(cfg[\"emb_dim\"], cfg[\"vocab_size\"], bias=False)\n",
    "    \n",
    "    def forward(self, in_idx):\n",
    "        batch_size, seq_len = in_idx.shape\n",
    "        tok_embeds = self.tok_emb(in_idx)\n",
    "        pos_embeds = self.pos_emb(torch.arange(seq_len, device=in_idx.device))\n",
    "        x = tok_embeds + pos_embeds\n",
    "        x = self.dropout(x)\n",
    "        x = self.trf_blocks(x)\n",
    "        x = self.final_norm(x)\n",
    "        logits = self.out_head(x)\n",
    "        return logits\n",
    "\n",
    "\n",
    "class DummyTransformerBlock(nn.Module):\n",
    "    def __init__(self, cfg): \n",
    "        super().__init__()\n",
    "        # A simple placeholder\n",
    "\n",
    "    def forward(self, x):\n",
    "        # This block does nothing and just returns its input.\n",
    "        return x\n",
    "\n",
    "\n",
    "class DummyLayerNorm(nn.Module):\n",
    "    def __init__(self, normalized_shape, eps=1e-5):\n",
    "        super().__init__()\n",
    "        # The parameters here are just to mimic the LayerNorm interface.\n",
    "\n",
    "    def forward(self, x):\n",
    "        # This layer does nothing and just returns its input.\n",
    "        return x"
   ]
  },
  {
   "cell_type": "code",
   "execution_count": 40,
   "id": "20866762",
   "metadata": {},
   "outputs": [
    {
     "name": "stdout",
     "output_type": "stream",
     "text": [
      "tensor([[6109, 3626, 6100,  345],\n",
      "        [6109, 1110, 6622,  257]])\n"
     ]
    }
   ],
   "source": [
    "import tiktoken\n",
    "tokenizer = tiktoken.get_encoding(\"gpt2\")\n",
    "batch = []\n",
    "txt1 = \"Every effort moves you\"\n",
    "txt2 = \"Every day holds a\"\n",
    "batch.append(torch.tensor(tokenizer.encode(txt1)))\n",
    "batch.append(torch.tensor(tokenizer.encode(txt2)))\n",
    "batch = torch.stack(batch, dim=0)\n",
    "print(batch)"
   ]
  },
  {
   "cell_type": "code",
   "execution_count": 41,
   "id": "c966b88a",
   "metadata": {},
   "outputs": [
    {
     "name": "stdout",
     "output_type": "stream",
     "text": [
      "Output shape: torch.Size([2, 4, 50257])\n",
      "tensor([[[-1.2034,  0.3201, -0.7130,  ..., -1.5548, -0.2390, -0.4667],\n",
      "         [-0.1192,  0.4539, -0.4432,  ...,  0.2392,  1.3469,  1.2430],\n",
      "         [ 0.5307,  1.6720, -0.4695,  ...,  1.1966,  0.0111,  0.5835],\n",
      "         [ 0.0139,  1.6754, -0.3388,  ...,  1.1586, -0.0435, -1.0400]],\n",
      "\n",
      "        [[-1.0908,  0.1798, -0.9484,  ..., -1.6047,  0.2439, -0.4530],\n",
      "         [-0.7860,  0.5581, -0.0610,  ...,  0.4835, -0.0077,  1.6621],\n",
      "         [ 0.3567,  1.2698, -0.6398,  ..., -0.0162, -0.1296,  0.3717],\n",
      "         [-0.2407, -0.7349, -0.5102,  ...,  2.0057, -0.3694,  0.1814]]],\n",
      "       grad_fn=<UnsafeViewBackward0>)\n"
     ]
    }
   ],
   "source": [
    "torch.manual_seed(123)\n",
    "model = DummyGPTModel(GPT_CONFIG_124M)\n",
    "logits = model(batch)\n",
    "print(\"Output shape:\", logits.shape)\n",
    "print(logits)"
   ]
  },
  {
   "cell_type": "markdown",
   "id": "1ab6f9f5",
   "metadata": {},
   "source": [
    "## LAYER NORMALIZATION"
   ]
  },
  {
   "cell_type": "code",
   "execution_count": 42,
   "id": "80a99f9f",
   "metadata": {},
   "outputs": [
    {
     "name": "stdout",
     "output_type": "stream",
     "text": [
      "tensor([[0.2260, 0.3470, 0.0000, 0.2216, 0.0000, 0.0000],\n",
      "        [0.2133, 0.2394, 0.0000, 0.5198, 0.3297, 0.0000]],\n",
      "       grad_fn=<ReluBackward0>)\n"
     ]
    }
   ],
   "source": [
    "torch.manual_seed(123)\n",
    "batch_example = torch.randn(2, 5)\n",
    "layer = nn.Sequential(nn.Linear(5,6), nn.ReLU())\n",
    "out = layer(batch_example)\n",
    "print(out)"
   ]
  },
  {
   "cell_type": "markdown",
   "id": "0a38419a",
   "metadata": {},
   "source": [
    "<div class=\"alert alert-block alert-info\">\n",
    "\n",
    "The neural network layer we have coded consists of a Linear layer followed by a non-linear\n",
    "activation function, ReLU (short for Rectified Linear Unit), which is a standard activation\n",
    "function in neural networks. \n",
    "\n",
    "If you are unfamiliar with ReLU, it simply thresholds negative\n",
    "inputs to 0, ensuring that a layer outputs only positive values, which explains why the\n",
    "resulting layer output does not contain any negative values. \n",
    "\n",
    "(Note that we will use another,\n",
    "more sophisticated activation function in GPT, which we will introduce in the next section).\n",
    "</div>"
   ]
  },
  {
   "cell_type": "code",
   "execution_count": 43,
   "id": "6e7a81e9",
   "metadata": {},
   "outputs": [
    {
     "name": "stdout",
     "output_type": "stream",
     "text": [
      "tensor([[0.1324],\n",
      "        [0.2170]], grad_fn=<MeanBackward1>)\n",
      "tensor([[0.0231],\n",
      "        [0.0398]], grad_fn=<VarBackward0>)\n"
     ]
    }
   ],
   "source": [
    "mean = out.mean(dim=-1, keepdim = True)\n",
    "var = out.var(dim=-1, keepdim=True)\n",
    "print(mean)\n",
    "print(var)"
   ]
  },
  {
   "cell_type": "markdown",
   "id": "f7709636",
   "metadata": {},
   "source": [
    "<div class=\"alert alert-block alert-warning\">\n",
    "\n",
    "The first row in the mean tensor above contains the mean value for the first input row, and\n",
    "the second output row contains the mean for the second input row.\n",
    "</div>"
   ]
  },
  {
   "cell_type": "code",
   "execution_count": 44,
   "id": "d92a06e8",
   "metadata": {},
   "outputs": [
    {
     "name": "stdout",
     "output_type": "stream",
     "text": [
      "Normalized layer output\n",
      " tensor([[ 0.6159,  1.4126, -0.8719,  0.5872, -0.8719, -0.8719],\n",
      "        [-0.0189,  0.1121, -1.0876,  1.5173,  0.5647, -1.0876]],\n",
      "       grad_fn=<DivBackward0>)\n",
      "Mean:\n",
      " tensor([[-5.9605e-08],\n",
      "        [ 1.9868e-08]], grad_fn=<MeanBackward1>)\n",
      "Variance:\n",
      " tensor([[1.0000],\n",
      "        [1.0000]], grad_fn=<VarBackward0>)\n"
     ]
    }
   ],
   "source": [
    "out_norm = (out - mean) / torch.sqrt(var)\n",
    "mean = out_norm.mean(dim = -1, keepdim = True)\n",
    "var = out_norm.var(dim = -1, keepdim = True)\n",
    "print(\"Normalized layer output\\n\", out_norm)\n",
    "print(\"Mean:\\n\", mean)\n",
    "print(\"Variance:\\n\", var)"
   ]
  },
  {
   "cell_type": "markdown",
   "id": "2c0831a4",
   "metadata": {},
   "source": [
    "<div class=\"alert alert-block alert-info\">\n",
    "\n",
    "Note that the value 2.9802e-08 in the output tensor is the scientific notation for 2.9802 ×\n",
    "10-8, which is 0.0000000298 in decimal form. This value is very close to 0, but it is not\n",
    "exactly 0 due to small numerical errors that can accumulate because of the finite precision\n",
    "with which computers represent numbers.\n",
    "</div>"
   ]
  },
  {
   "cell_type": "code",
   "execution_count": 45,
   "id": "8af0f2e1",
   "metadata": {},
   "outputs": [],
   "source": [
    "class LayerNorm(nn.Module):\n",
    "    def __init__(self,emb_dim):\n",
    "        super().__init__()\n",
    "        self.eps = 1e-5\n",
    "        self.scale = nn.Parameter(torch.ones(emb_dim))\n",
    "        self.shift = nn.Parameter(torch.zeros(emb_dim))\n",
    "\n",
    "    def forward(self, x):\n",
    "        mean = x.mean(dim = -1, keepdim = True)\n",
    "        var = x.var(dim = -1, keepdim = True, unbiased = False)\n",
    "        norm_x = (x-mean) / torch.sqrt(var + self.eps)\n",
    "        return self.scale * norm_x + self.shift"
   ]
  },
  {
   "cell_type": "markdown",
   "id": "03afd80a",
   "metadata": {},
   "source": [
    "<div class=\"alert alert-block alert-warning\">\n",
    "\n",
    "This specific implementation of layer Normalization operates on the last dimension of the\n",
    "input tensor x, which represents the embedding dimension (emb_dim). \n",
    "\n",
    "The variable eps is a\n",
    "small constant (epsilon) added to the variance to prevent division by zero during\n",
    "normalization. \n",
    "\n",
    "The scale and shift are two trainable parameters (of the same dimension\n",
    "as the input) that the LLM automatically adjusts during training if it is determined that\n",
    "doing so would improve the model's performance on its training task. \n",
    "\n",
    "This allows the model\n",
    "to learn appropriate scaling and shifting that best suit the data it is processing.\n",
    "\n",
    "</div>"
   ]
  },
  {
   "cell_type": "markdown",
   "id": "69a11e0b",
   "metadata": {},
   "source": [
    "<div class=\"alert alert-block alert-info\">\n",
    "\n",
    "In our variance calculation method, we have opted for an implementation detail by\n",
    "setting unbiased=False. \n",
    "\n",
    "For those curious about what this means, in the variance\n",
    "calculation, we divide by the number of inputs n in the variance formula. \n",
    "\n",
    "This approach does not apply Bessel's correction, which typically uses n-1 instead of n in\n",
    "the denominator to adjust for bias in sample variance estimation. \n",
    "\n",
    "This decision results in a so-called biased estimate of the variance. \n",
    "\n",
    "For large-scale language\n",
    "models (LLMs), where the embedding dimension n is significantly large, the\n",
    "difference between using n and n-1 is practically negligible. \n",
    "\n",
    "We chose this approach to ensure compatibility with the GPT-2 model's normalization layers and because it\n",
    "reflects TensorFlow's default behavior, which was used to implement the original GPT2 model.\n",
    "</div>"
   ]
  },
  {
   "cell_type": "code",
   "execution_count": 46,
   "id": "c30075c7",
   "metadata": {},
   "outputs": [
    {
     "name": "stdout",
     "output_type": "stream",
     "text": [
      "tensor([[ 0.5528,  1.0693, -0.0223,  0.2656, -1.8654],\n",
      "        [ 0.9087, -1.3767, -0.9564,  1.1304,  0.2940]], grad_fn=<AddBackward0>)\n",
      "Mean:\n",
      " tensor([[-2.9802e-08],\n",
      "        [ 0.0000e+00]], grad_fn=<MeanBackward1>)\n",
      "Variance:\n",
      " tensor([[1.0000],\n",
      "        [1.0000]], grad_fn=<VarBackward0>)\n"
     ]
    }
   ],
   "source": [
    "ln = LayerNorm(emb_dim = 5)\n",
    "out_ln  = ln(batch_example)\n",
    "print(out_ln)\n",
    "mean = out_ln.mean(dim=-1, keepdim=True)\n",
    "var = out_ln.var(dim=-1, unbiased=False, keepdim=True)\n",
    "print(\"Mean:\\n\", mean)\n",
    "print(\"Variance:\\n\", var)"
   ]
  },
  {
   "cell_type": "code",
   "execution_count": 47,
   "id": "81a5cb79",
   "metadata": {},
   "outputs": [],
   "source": [
    "class GELU(nn.Module):\n",
    "    def __init__(self):\n",
    "        super().__init__()\n",
    "\n",
    "    def forward(self, x):\n",
    "        return 0.5 * x * (1 + torch.tanh(\n",
    "            torch.sqrt(torch.tensor(2.0 / torch.pi)) * \n",
    "            (x + 0.044715 * torch.pow(x, 3))\n",
    "        ))"
   ]
  },
  {
   "cell_type": "code",
   "execution_count": 48,
   "id": "e01bb900",
   "metadata": {},
   "outputs": [
    {
     "data": {
      "image/png": "[encoded data removed]",
      "text/plain": [
       "<Figure size 800x300 with 3 Axes>"
      ]
     },
     "metadata": {},
     "output_type": "display_data"
    }
   ],
   "source": [
    "import matplotlib.pyplot as plt\n",
    "\n",
    "gelu, relu = GELU(), nn.ReLU()\n",
    "\n",
    "# Some sample data\n",
    "x = torch.linspace(-3, 3, 100)\n",
    "y_gelu, y_relu, y_gelu_dist = gelu(x), relu(x), (gelu(x))/x\n",
    "\n",
    "plt.figure(figsize=(8, 3))\n",
    "for i, (y, label) in enumerate(zip([y_gelu, y_relu,y_gelu_dist], [\"GELU\", \"ReLU\", \"GELU_DIST\"]), 1):\n",
    "    plt.subplot(1, 3, i)\n",
    "    plt.plot(x, y)\n",
    "    plt.title(f\"{label} activation function\")\n",
    "    plt.xlabel(\"x\")\n",
    "    plt.ylabel(f\"{label}(x)\")\n",
    "    plt.grid(True)\n",
    "\n",
    "plt.tight_layout()\n",
    "plt.show()\n"
   ]
  },
  {
   "cell_type": "code",
   "execution_count": 49,
   "id": "7c365cc0",
   "metadata": {},
   "outputs": [],
   "source": [
    "class FeedForward(nn.Module):\n",
    "    def __init__(self, cfg):\n",
    "        super().__init__()\n",
    "        self.layers = nn.Sequential(\n",
    "            nn.Linear(cfg[\"emb_dim\"], 4 * cfg[\"emb_dim\"]),\n",
    "            GELU(),\n",
    "            nn.Linear(4 * cfg[\"emb_dim\"], cfg[\"emb_dim\"]),    \n",
    "        )\n",
    "    def forward(self, x):\n",
    "        return self.layers(x)\n",
    "    "
   ]
  },
  {
   "cell_type": "code",
   "execution_count": 50,
   "id": "3ef2300c",
   "metadata": {},
   "outputs": [
    {
     "name": "stdout",
     "output_type": "stream",
     "text": [
      "torch.Size([2, 3, 768])\n"
     ]
    }
   ],
   "source": [
    "ffn = FeedForward(GPT_CONFIG_124M)\n",
    "x = torch.rand(2, 3, 768) #A\n",
    "out = ffn(x)\n",
    "print(out.shape)"
   ]
  },
  {
   "cell_type": "markdown",
   "id": "4c8338b9",
   "metadata": {},
   "source": [
    "# SHORTCUT CONNECTIONS"
   ]
  },
  {
   "cell_type": "markdown",
   "id": "6b697c61",
   "metadata": {},
   "source": [
    "![Screenshot](images/screenshot7.png)\n"
   ]
  },
  {
   "cell_type": "code",
   "execution_count": 51,
   "id": "f747b73b",
   "metadata": {},
   "outputs": [],
   "source": [
    "class ExampleDeepNeuralNetwork(nn.Module):\n",
    "    def __init__(self, layer_sizes, use_shortcut):\n",
    "        super().__init__()\n",
    "        self.use_shortcut = use_shortcut\n",
    "        self.layers = nn.ModuleList([\n",
    "            nn.Sequential(nn.Linear(layer_sizes[0], layer_sizes[1]), GELU()),\n",
    "            nn.Sequential(nn.Linear(layer_sizes[1], layer_sizes[2]), GELU()),\n",
    "            nn.Sequential(nn.Linear(layer_sizes[2], layer_sizes[3]), GELU()),\n",
    "            nn.Sequential(nn.Linear(layer_sizes[3], layer_sizes[4]), GELU()),\n",
    "            nn.Sequential(nn.Linear(layer_sizes[4], layer_sizes[5]), GELU())\n",
    "        ])\n",
    "\n",
    "    def forward(self, x):\n",
    "        for layer in self.layers:\n",
    "            # Compute the output of the current layer\n",
    "            layer_output = layer(x)\n",
    "            # Check if shortcut can be applied\n",
    "            if self.use_shortcut and x.shape == layer_output.shape:\n",
    "                x = x + layer_output\n",
    "            else:\n",
    "                x = layer_output\n",
    "        return x\n"
   ]
  },
  {
   "cell_type": "markdown",
   "id": "0b3e63ad",
   "metadata": {},
   "source": [
    "<div class=\"alert alert-block alert-info\">\n",
    "\n",
    "The code implements a deep neural network with 5 layers, each consisting of a Linear\n",
    "layer and a GELU activation function. \n",
    "\n",
    "In the forward pass, we iteratively pass the input\n",
    "through the layers and optionally add the shortcut connections  if\n",
    "the self.use_shortcut attribute is set to True.\n",
    "</div>"
   ]
  },
  {
   "cell_type": "markdown",
   "id": "c850696e",
   "metadata": {},
   "source": [
    "<div class=\"alert alert-block alert-success\">\n",
    "\n",
    "Let's use this code to first initialize a neural network without shortcut connections. Here,\n",
    "each layer will be initialized such that it accepts an example with 3 input values and returns\n",
    "3 output values. The last layer returns a single output value:\n",
    "</div>"
   ]
  },
  {
   "cell_type": "code",
   "execution_count": 52,
   "id": "eb4932ce",
   "metadata": {},
   "outputs": [],
   "source": [
    "layer_sizes = [3, 3, 3, 3, 3, 1]\n",
    "sample_input = torch.tensor([[1., 0., -1.]])\n",
    "torch.manual_seed(123) # specify random seed for the initial weights for reproducibility\n",
    "model_without_shortcut = ExampleDeepNeuralNetwork(\n",
    "layer_sizes, use_shortcut=False\n",
    ")"
   ]
  },
  {
   "cell_type": "code",
   "execution_count": 53,
   "id": "02063c0d",
   "metadata": {},
   "outputs": [],
   "source": [
    "def print_gradients(model, x):\n",
    "    # Forward pass\n",
    "    output = model(x)\n",
    "    target = torch.tensor([[0.]])\n",
    "\n",
    "    # Calculate loss based on how close the target\n",
    "    # and output are\n",
    "    loss = nn.MSELoss()\n",
    "    loss = loss(output, target)\n",
    "    \n",
    "    # Backward pass to calculate the gradients\n",
    "    loss.backward()\n",
    "\n",
    "    for name, param in model.named_parameters():\n",
    "        if 'weight' in name:\n",
    "            # Print the mean absolute gradient of the weights\n",
    "            print(f\"{name} has gradient mean of {param.grad.abs().mean().item()}\")"
   ]
  },
  {
   "cell_type": "markdown",
   "id": "f63d59bd",
   "metadata": {},
   "source": [
    "<div class=\"alert alert-block alert-warning\">\n",
    "\n",
    "In the preceding code, we specify a loss function that computes how close the model output\n",
    "and a user-specified target (here, for simplicity, the value 0) are. \n",
    "\n",
    "Then, when calling loss.backward(), PyTorch computes the loss gradient for each layer in the model. \n",
    "\n",
    "We can iterate through the weight parameters via model.named_parameters(). \n",
    "\n",
    "Suppose we have a 3×3 weight parameter matrix for a given layer. \n",
    "\n",
    "In that case, this layer will have 3×3 gradient values, and we print the mean absolute gradient of these 3×3 gradient values to\n",
    "obtain a single gradient value per layer to compare the gradients between layers more\n",
    "easily.\n",
    "</div>"
   ]
  },
  {
   "cell_type": "markdown",
   "id": "d2fd40f4",
   "metadata": {},
   "source": [
    "<div class=\"alert alert-block alert-warning\">\n",
    "\n",
    "In short, the .backward() method is a convenient method in PyTorch that computes loss\n",
    "gradients, which are required during model training, without implementing the math for the\n",
    "gradient calculation ourselves, thereby making working with deep neural networks much\n",
    "more accessible. \n",
    "</div>"
   ]
  },
  {
   "cell_type": "markdown",
   "id": "41d9b839",
   "metadata": {},
   "source": [
    "<div class=\"alert alert-block alert-success\">\n",
    "\n",
    "Let's now use the print_gradients function and apply it to the model without skip\n",
    "connections:\n",
    "</div>"
   ]
  },
  {
   "cell_type": "code",
   "execution_count": 54,
   "id": "5cdca392",
   "metadata": {},
   "outputs": [
    {
     "name": "stdout",
     "output_type": "stream",
     "text": [
      "layers.0.0.weight has gradient mean of 0.00020173587836325169\n",
      "layers.1.0.weight has gradient mean of 0.00012011159560643137\n",
      "layers.2.0.weight has gradient mean of 0.0007152039906941354\n",
      "layers.3.0.weight has gradient mean of 0.0013988736318424344\n",
      "layers.4.0.weight has gradient mean of 0.005049645435065031\n"
     ]
    }
   ],
   "source": [
    "print_gradients(model_without_shortcut, sample_input)"
   ]
  },
  {
   "cell_type": "markdown",
   "id": "4ed95d82",
   "metadata": {},
   "source": [
    "<div class=\"alert alert-block alert-info\">\n",
    "As we can see based on the output of the print_gradients function, the gradients become\n",
    "smaller as we progress from the last layer (layers.4) to the first layer (layers.0), which\n",
    "is a phenomenon called the vanishing gradient problem.\n",
    "    \n",
    "</div>"
   ]
  },
  {
   "cell_type": "markdown",
   "id": "cbfa92b4",
   "metadata": {},
   "source": [
    "<div class=\"alert alert-block alert-success\">\n",
    "Let's now instantiate a model with skip connections and see how it compares:\n",
    "</div>"
   ]
  },
  {
   "cell_type": "code",
   "execution_count": 55,
   "id": "7194e3b4",
   "metadata": {},
   "outputs": [
    {
     "name": "stdout",
     "output_type": "stream",
     "text": [
      "layers.0.0.weight has gradient mean of 0.22169792652130127\n",
      "layers.1.0.weight has gradient mean of 0.20694106817245483\n",
      "layers.2.0.weight has gradient mean of 0.32896995544433594\n",
      "layers.3.0.weight has gradient mean of 0.2665732204914093\n",
      "layers.4.0.weight has gradient mean of 1.3258540630340576\n"
     ]
    }
   ],
   "source": [
    "torch.manual_seed(123)\n",
    "model_with_shortcut = ExampleDeepNeuralNetwork(\n",
    "layer_sizes, use_shortcut=True\n",
    ")\n",
    "print_gradients(model_with_shortcut, sample_input)"
   ]
  },
  {
   "cell_type": "markdown",
   "id": "124a1472",
   "metadata": {},
   "source": [
    "<div class=\"alert alert-block alert-info\">\n",
    "As we can see, based on the output, the last layer (layers.4) still has a larger gradient\n",
    "than the other layers. \n",
    "\n",
    "However, the gradient value stabilizes as we progress towards the\n",
    "first layer (layers.0) and doesn't shrink to a vanishingly small value.\n",
    "</div>"
   ]
  },
  {
   "cell_type": "markdown",
   "id": "8dd87349",
   "metadata": {},
   "source": [
    "<div class=\"alert alert-block alert-warning\">\n",
    "\n",
    "In conclusion, shortcut connections are important for overcoming the limitations posed\n",
    "by the vanishing gradient problem in deep neural networks. \n",
    "\n",
    "Shortcut connections are a core building block of very large models such as LLMs, and they will help facilitate more effective\n",
    "training by ensuring consistent gradient flow across layers when we train the GPT model \n",
    "</div>"
   ]
  },
  {
   "cell_type": "markdown",
   "id": "d0355764",
   "metadata": {},
   "source": [
    "## GPT ARCHITECTURE PART 5: CODING ATTENTION AND LINEAR LAYERS IN A TRANSFORMER BLOCK"
   ]
  },
  {
   "cell_type": "code",
   "execution_count": 56,
   "id": "1cdc2221",
   "metadata": {},
   "outputs": [],
   "source": [
    "class LayerNorm(nn.Module):\n",
    "    def __init__(self,emb_dim):\n",
    "        super().__init__()\n",
    "        self.eps = 1e-5\n",
    "        self.scale = nn.Parameter(torch.ones(emb_dim))\n",
    "        self.shift = nn.Parameter(torch.zeros(emb_dim))\n",
    "\n",
    "    def forward(self, x):\n",
    "        mean = x.mean(dim = -1, keepdim = True)\n",
    "        var = x.var(dim = -1, keepdim = True, unbiased = False)\n",
    "        norm_x = (x-mean) / torch.sqrt(var + self.eps)\n",
    "        return self.scale * norm_x + self.shift\n",
    "\n",
    "class GELU(nn.Module):\n",
    "    def __init__(self):\n",
    "        super().__init__()\n",
    "\n",
    "    def forward(self, x):\n",
    "        return 0.5 * x * (1 + torch.tanh(\n",
    "            torch.sqrt(torch.tensor(2.0 / torch.pi)) * \n",
    "            (x + 0.044715 * torch.pow(x, 3))\n",
    "        ))\n",
    "    \n",
    "class FeedForward(nn.Module):\n",
    "    def __init__(self, cfg):\n",
    "        super().__init__()\n",
    "        self.layers = nn.Sequential(\n",
    "            nn.Linear(cfg[\"emb_dim\"], 4 * cfg[\"emb_dim\"]),\n",
    "            GELU(),\n",
    "            nn.Linear(4 * cfg[\"emb_dim\"], cfg[\"emb_dim\"]),    \n",
    "        )\n",
    "    def forward(self, x):\n",
    "        return self.layers(x)\n",
    "    "
   ]
  },
  {
   "cell_type": "code",
   "execution_count": 57,
   "id": "aef78877",
   "metadata": {},
   "outputs": [],
   "source": [
    "class TransofrmerBlock(nn.Module):\n",
    "    def __init__(self, cfg):\n",
    "        super().__init__()\n",
    "        self.att = MultiHeadedAttention(\n",
    "            cfg[\"emb_dim\"], cfg[\"emb_dim\"], cfg[\"context_length\"],\n",
    "            cfg[\"drop_rate\"], cfg[\"n_heads\"], qkv_bias=cfg[\"qkv_bias\"]\n",
    "        )\n",
    "        self.ff = FeedForward(cfg)\n",
    "        self.norm1 = LayerNorm(cfg[\"emb_dim\"])\n",
    "        self.norm2 = LayerNorm(cfg[\"emb_dim\"])\n",
    "        self.drop_shortcut = nn.Dropout(cfg[\"drop_rate\"])\n",
    "\n",
    "    def forward (self, x):\n",
    "        shortcut = x\n",
    "        x = self.norm1(x)\n",
    "        x = self.att(x)\n",
    "        x = self.drop_shortcut(x)\n",
    "        x = x + shortcut\n",
    "\n",
    "        shortcut = x\n",
    "        x = self.norm2(x)\n",
    "        x = self.ff(x)\n",
    "        x = self.drop_shortcut(x)\n",
    "        x = x + shortcut\n",
    "\n",
    "        return x"
   ]
  },
  {
   "cell_type": "markdown",
   "id": "268da556",
   "metadata": {},
   "source": [
    "<div class=\"alert alert-block alert-warning\">\n",
    "\n",
    "Layer normalization (LayerNorm) is applied before each of these two components, and\n",
    "dropout is applied after them to regularize the model and prevent overfitting. \n",
    "\n",
    "This is also known as Pre-LayerNorm. \n",
    "\n",
    "Older architectures, such as the original transformer model,\n",
    "applied layer normalization after the self-attention and feed-forward networks instead,\n",
    "known as Post-LayerNorm, which often leads to worse training dynamics.\n",
    "</div>"
   ]
  },
  {
   "cell_type": "code",
   "execution_count": 58,
   "id": "3b3de627",
   "metadata": {},
   "outputs": [
    {
     "name": "stdout",
     "output_type": "stream",
     "text": [
      "Input shape: torch.Size([2, 4, 768])\n",
      "Output shape: torch.Size([2, 4, 768])\n"
     ]
    }
   ],
   "source": [
    "torch.manual_seed(123)\n",
    "x = torch.rand(2, 4, 768)\n",
    "block = TransofrmerBlock(GPT_CONFIG_124M)\n",
    "output = block(x)\n",
    "print(\"Input shape:\", x.shape)\n",
    "print(\"Output shape:\", output.shape)"
   ]
  },
  {
   "cell_type": "markdown",
   "id": "db003c40",
   "metadata": {},
   "source": [
    "<div class=\"alert alert-block alert-info\">\n",
    "\n",
    "As we can see from the code output, the transformer block maintains the input dimensions\n",
    "in its output, indicating that the transformer architecture processes sequences of data\n",
    "without altering their shape throughout the network.\n",
    "</div>"
   ]
  },
  {
   "cell_type": "markdown",
   "id": "8b11ebb9",
   "metadata": {},
   "source": [
    "<div class=\"alert alert-block alert-warning\">\n",
    "    \n",
    "The preservation of shape throughout the transformer block architecture is not incidental\n",
    "but a crucial aspect of its design. \n",
    "\n",
    "This design enables its effective application across a wide\n",
    "range of sequence-to-sequence tasks, where each output vector directly corresponds to an\n",
    "input vector, maintaining a one-to-one relationship. \n",
    "</div>"
   ]
  },
  {
   "cell_type": "markdown",
   "id": "2d69f799",
   "metadata": {},
   "source": [
    "<div class=\"alert alert-block alert-warning\">\n",
    "\n",
    "However, the output is a context vector\n",
    "that encapsulates information from the entire input sequence.\n",
    "\n",
    "This means that while the physical dimensions of the sequence (length and feature size)\n",
    "remain unchanged as it passes through the transformer block, the content of each output\n",
    "vector is re-encoded to integrate contextual information from across the entire input\n",
    "sequence.\n",
    "\n",
    "</div>"
   ]
  },
  {
   "cell_type": "markdown",
   "id": "403551c2",
   "metadata": {},
   "source": [
    "## GPT ARCHITECTURE PART 6: ENTIRE GPT MODEL ARCHITECTURE IMPLEMENTATION"
   ]
  },
  {
   "cell_type": "markdown",
   "id": "941cd900",
   "metadata": {},
   "source": [
    "<div class=\"alert alert-block alert-info\">\n",
    "\n",
    "The device setting will allow us to train the model on a CPU or GPU, depending on which device the input\n",
    "data sits\n",
    "    \n",
    "</div>"
   ]
  },
  {
   "cell_type": "code",
   "execution_count": 59,
   "id": "b28e6882",
   "metadata": {},
   "outputs": [],
   "source": [
    "class GPTModel(nn.Module):\n",
    "    def __init__(self, cfg):\n",
    "        super().__init__()\n",
    "\n",
    "        self.tok_emb  = nn.Embedding(cfg[\"vocab_size\"], cfg[\"emb_dim\"])\n",
    "        self.pos_emb = nn.Embedding(cfg[\"context_length\"], cfg[\"emb_dim\"])\n",
    "        self.drop_emb = nn.Dropout(cfg[\"drop_rate\"])\n",
    "\n",
    "        self.trf_blocks = nn.Sequential(\n",
    "            *[TransofrmerBlock(cfg) for _ in range(cfg[\"n_layers\"])]\n",
    "        )\n",
    "        self.final_norm = LayerNorm(cfg[\"emb_dim\"])\n",
    "        self.out_head = nn.Linear(cfg[\"emb_dim\"], cfg[\"vocab_size\"], bias = False)\n",
    "\n",
    "    def forward(self, in_idx):\n",
    "        batch_size, seq_len = in_idx.shape\n",
    "        tok_embeds = self.tok_emb(in_idx)\n",
    "        pos_embeds = self.pos_emb(torch.arange(seq_len, device = in_idx.device))\n",
    "        x = tok_embeds + pos_embeds\n",
    "        x = self.drop_emb(x)\n",
    "        x = self.trf_blocks(x)\n",
    "        x = self.final_norm(x)\n",
    "        logits = self.out_head(x)\n",
    "        return logits\n",
    "    "
   ]
  },
  {
   "cell_type": "code",
   "execution_count": 60,
   "id": "ef2fb85e",
   "metadata": {},
   "outputs": [
    {
     "name": "stdout",
     "output_type": "stream",
     "text": [
      "Input batch:\n",
      " tensor([[6109, 3626, 6100,  345],\n",
      "        [6109, 1110, 6622,  257]])\n",
      "\n",
      "Output shape: torch.Size([2, 4, 50257])\n",
      "tensor([[[ 0.3613,  0.4222, -0.0711,  ...,  0.3483,  0.4661, -0.2838],\n",
      "         [-0.1792, -0.5660, -0.9485,  ...,  0.0477,  0.5181, -0.3168],\n",
      "         [ 0.7120,  0.0332,  0.1085,  ...,  0.1018, -0.4327, -0.2553],\n",
      "         [-1.0076,  0.3418, -0.1190,  ...,  0.7195,  0.4023,  0.0532]],\n",
      "\n",
      "        [[-0.2564,  0.0900,  0.0335,  ...,  0.2659,  0.4454, -0.6806],\n",
      "         [ 0.1230,  0.3653, -0.2074,  ...,  0.7705,  0.2710,  0.2246],\n",
      "         [ 1.0558,  1.0318, -0.2800,  ...,  0.6936,  0.3205, -0.3178],\n",
      "         [-0.1565,  0.3926,  0.3288,  ...,  1.2630, -0.1858,  0.0388]]],\n",
      "       grad_fn=<UnsafeViewBackward0>)\n"
     ]
    }
   ],
   "source": [
    "torch.manual_seed(123)\n",
    "model = GPTModel(GPT_CONFIG_124M)\n",
    "out = model(batch)\n",
    "print(\"Input batch:\\n\", batch)\n",
    "print(\"\\nOutput shape:\", out.shape)\n",
    "print(out)\n",
    "\n"
   ]
  },
  {
   "cell_type": "markdown",
   "id": "cc76e164",
   "metadata": {},
   "source": [
    "<div class=\"alert alert-block alert-info\">\n",
    "\n",
    "As we can see, the output tensor has the shape [2, 4, 50257], since we passed in 2 input\n",
    "texts with 4 tokens each. The last dimension, 50,257, corresponds to the vocabulary size of\n",
    "the tokenizer. In the next section, we will see how to convert each of these 50,257-\n",
    "dimensional output vectors back into tokens.\n",
    "    \n",
    "</div>"
   ]
  },
  {
   "cell_type": "markdown",
   "id": "1b134d41",
   "metadata": {},
   "source": [
    "<div class=\"alert alert-block alert-success\">\n",
    "Using the numel() method, short for \"number of elements,\" we can collect the total\n",
    "number of parameters in the model's parameter tensors:\n",
    "</div>"
   ]
  },
  {
   "cell_type": "code",
   "execution_count": 61,
   "id": "b25de605",
   "metadata": {},
   "outputs": [
    {
     "name": "stdout",
     "output_type": "stream",
     "text": [
      "Total number of parameters: 163,009,536\n"
     ]
    }
   ],
   "source": [
    "total_params = sum(p.numel() for p in model.parameters())\n",
    "print(f\"Total number of parameters: {total_params:,}\")\n"
   ]
  },
  {
   "cell_type": "markdown",
   "id": "0011a00b",
   "metadata": {},
   "source": [
    "<div class=\"alert alert-block alert-danger\">\n",
    "Earlier, we spoke of initializing a 124\n",
    "million parameter GPT model, so why is the actual number of parameters 163 million, as\n",
    "shown in the preceding code output?\n",
    "</div>\n"
   ]
  },
  {
   "cell_type": "markdown",
   "id": "e3235865",
   "metadata": {},
   "source": [
    "<div class=\"alert alert-block alert-warning\">\n",
    "    \n",
    "The reason is a concept called weight tying that is used in the original GPT-2\n",
    "architecture, which means that the original GPT-2 architecture is reusing the weights from\n",
    "the token embedding layer in its output layer. \n",
    "\n",
    "To understand what this means, let's take a\n",
    "look at the shapes of the token embedding layer and linear output layer that we initialized\n",
    "on the model via the GPTModel earlier:\n",
    "\n",
    "</div>"
   ]
  },
  {
   "cell_type": "code",
   "execution_count": 62,
   "id": "d7cfbf2d",
   "metadata": {},
   "outputs": [
    {
     "name": "stdout",
     "output_type": "stream",
     "text": [
      "Token embedding layer shape: torch.Size([50257, 768])\n",
      "Output layer shape: torch.Size([50257, 768])\n"
     ]
    }
   ],
   "source": [
    "print(\"Token embedding layer shape:\", model.tok_emb.weight.shape)\n",
    "print(\"Output layer shape:\", model.out_head.weight.shape)"
   ]
  },
  {
   "cell_type": "markdown",
   "id": "eed42f56",
   "metadata": {},
   "source": [
    "<div class=\"alert alert-block alert-info\">\n",
    "\n",
    "As we can see based on the print outputs, the weight tensors for both these layers have the\n",
    "same shape:\n",
    "</div>"
   ]
  },
  {
   "cell_type": "markdown",
   "id": "350bb954",
   "metadata": {},
   "source": [
    "<div class=\"alert alert-block alert-success\">\n",
    "The token embedding and output layers are very large due to the number of rows for the\n",
    "50,257 in the tokenizer's vocabulary. Let's remove the output layer parameter count from\n",
    "the total GPT-2 model count according to the weight tying:\n",
    "</div>"
   ]
  },
  {
   "cell_type": "code",
   "execution_count": 63,
   "id": "38117b5c",
   "metadata": {},
   "outputs": [
    {
     "name": "stdout",
     "output_type": "stream",
     "text": [
      "Number of trainable parameters considering weight tying: 124,412,160\n"
     ]
    }
   ],
   "source": [
    "total_params_gpt2 = total_params - sum(p.numel() for p in model.out_head.parameters())\n",
    "print(f\"Number of trainable parameters considering weight tying: {total_params_gpt2:,}\")"
   ]
  },
  {
   "cell_type": "markdown",
   "id": "2151f226",
   "metadata": {},
   "source": [
    "<div class=\"alert alert-block alert-info\">\n",
    "\n",
    "As we can see, the model is now only 124 million parameters large, matching the original\n",
    "size of the GPT-2 model.\n",
    "</div>"
   ]
  },
  {
   "cell_type": "markdown",
   "id": "7752dd4b",
   "metadata": {},
   "source": [
    "<div class=\"alert alert-block alert-warning\">\n",
    "    \n",
    "Weight tying reduces the overall memory footprint and computational complexity of the\n",
    "model. However, in my experience, using separate token embedding and output layers\n",
    "results in better training and model performance; hence, we are using separate layers in\n",
    "our GPTModel implementation. The same is true for modern LLMs.\n",
    "\n",
    "</div>\n"
   ]
  },
  {
   "cell_type": "markdown",
   "id": "d7a3397b",
   "metadata": {},
   "source": [
    "<div class=\"alert alert-block alert-success\">\n",
    "Lastly, let us compute the memory requirements of the 163 million parameters in our\n",
    "GPTModel object:\n",
    "</div>"
   ]
  },
  {
   "cell_type": "code",
   "execution_count": 64,
   "id": "e4c8f883",
   "metadata": {},
   "outputs": [
    {
     "name": "stdout",
     "output_type": "stream",
     "text": [
      "Total size of the model: 621.83 MB\n"
     ]
    }
   ],
   "source": [
    "total_size_bytes = total_params * 4 #A\n",
    "total_size_mb = total_size_bytes / (1024 * 1024) #B\n",
    "print(f\"Total size of the model: {total_size_mb:.2f} MB\")"
   ]
  },
  {
   "cell_type": "markdown",
   "id": "dc9e640d",
   "metadata": {},
   "source": [
    "<div class=\"alert alert-block alert-warning\">\n",
    "    \n",
    "In conclusion, by calculating the memory requirements for the 163 million parameters in\n",
    "our GPTModel object and assuming each parameter is a 32-bit float taking up 4 bytes, we\n",
    "find that the total size of the model amounts to 621.83 MB, illustrating the relatively large\n",
    "storage capacity required to accommodate even relatively small LLMs.\n",
    "\n",
    "</div>"
   ]
  },
  {
   "cell_type": "markdown",
   "id": "a9f28e64",
   "metadata": {},
   "source": [
    "<div class=\"alert alert-block alert-warning\">\n",
    "    \n",
    "In this section, we implemented the GPTModel architecture and saw that it outputs\n",
    "numeric tensors of shape [batch_size, num_tokens, vocab_size]. In the next section,\n",
    "we will write the code to convert these output tensors into text.\n",
    "\n",
    "</div>"
   ]
  },
  {
   "cell_type": "markdown",
   "id": "6bbf9a9d",
   "metadata": {},
   "source": [
    "Weight tying means sharing the same weight matrix between:\n",
    "\n",
    "The token embedding layer (converts token IDs to vectors), and\n",
    "\n",
    "The output projection layer (converts final vectors to logits over the vocabulary).\n",
    "\n",
    "So instead of having two separate matrices:\n",
    "\n",
    "E for input embedding: shape [vocab_size, emb_dim]\n",
    "\n",
    "W for output projection: shape [emb_dim, vocab_size]\n",
    "\n",
    "We reuse E.T as the output layer:\n",
    "\n",
    "logits = x @ E.T"
   ]
  },
  {
   "cell_type": "markdown",
   "id": "306e34fb",
   "metadata": {},
   "source": [
    " Why Use Weight Tying?\n",
    "Fewer Parameters\n",
    "\n",
    "GPT-2 has a huge vocabulary (e.g., 50,000 tokens). Instead of storing two large matrices, weight tying saves memory.\n",
    "\n",
    "Improved Generalization\n",
    "\n",
    "Sharing weights forces the model to treat input and output tokens in a more consistent way.\n",
    "\n",
    "This helps especially in language modeling, where the same vocabulary is used at both ends.\n",
    "\n",
    "Empirical Gains\n",
    "\n",
    "Papers like \"Using the Output Embedding to Improve Language Models\" (Press & Wolf, 2017) showed that weight tying improves perplexity.\n",
    "\n",
    "🧠 Intuition\n",
    "Think of it like this:\n",
    "\n",
    "If the embedding for \"cat\" is a certain vector, then the output layer should also understand that same vector means \"cat\".\n",
    "\n",
    "Sharing weights enforces this symmetry: the model learns one set of weights that both understands and generates token representations."
   ]
  },
  {
   "cell_type": "markdown",
   "id": "645f7341",
   "metadata": {},
   "source": [
    "## GPT ARCHITECTURE PART 7: GENERATING TEXT FROM OUTPUT TOKENS"
   ]
  },
  {
   "cell_type": "code",
   "execution_count": 65,
   "id": "e82bb33a",
   "metadata": {},
   "outputs": [],
   "source": [
    "def generate_text_simple(model, idx, max_new_tokens,context_size):\n",
    "\n",
    "    for _ in range(max_new_tokens):\n",
    "\n",
    "        idx_cond = idx[:, -context_size:]\n",
    "\n",
    "        with torch.no_grad():\n",
    "            logits = model(idx_cond)\n",
    "\n",
    "        logits = logits[:, -1, :] # Get the last token's logits\n",
    "\n",
    "        probas = torch.softmax(logits, dim = -1)\n",
    "\n",
    "        idx_next = torch.argmax(probas, dim = -1, keepdim = True)\n",
    "\n",
    "        idx = torch.cat((idx, idx_next), dim = 1)\n",
    "\n",
    "    return idx\n"
   ]
  },
  {
   "cell_type": "code",
   "execution_count": 66,
   "id": "963f52b7",
   "metadata": {},
   "outputs": [
    {
     "name": "stdout",
     "output_type": "stream",
     "text": [
      "Encoded context: [15496, 11, 314, 716]\n",
      "encoded_tensor.shape: torch.Size([1, 4])\n"
     ]
    }
   ],
   "source": [
    "start_context = \"Hello, I am\"\n",
    "encoded = tokenizer.encode(start_context)\n",
    "print(\"Encoded context:\", encoded)\n",
    "encoded_tensor = torch.tensor(encoded).unsqueeze(0)  # Add batch dimension\n",
    "print(\"encoded_tensor.shape:\", encoded_tensor.shape)"
   ]
  },
  {
   "cell_type": "markdown",
   "id": "18e8fdc7",
   "metadata": {},
   "source": [
    "<div class=\"alert alert-block alert-success\">\n",
    "Next, we put the model into .eval() mode, which disables random components like\n",
    "dropout, which are only used during training, and use the generate_text_simple function\n",
    "on the encoded input tensor:\n",
    "</div>"
   ]
  },
  {
   "cell_type": "code",
   "execution_count": 67,
   "id": "ce0d7710",
   "metadata": {},
   "outputs": [
    {
     "name": "stdout",
     "output_type": "stream",
     "text": [
      "Output: tensor([[15496,    11,   314,   716, 27018, 24086, 47843, 30961, 42348,  7267,\n",
      "         49706, 43231, 47062, 34657]])\n",
      "Output length: 14\n"
     ]
    }
   ],
   "source": [
    "model.eval()\n",
    "out = generate_text_simple(model, encoded_tensor, max_new_tokens = 10, context_size = GPT_CONFIG_124M[\"context_length\"]) \n",
    "print(\"Output:\", out)\n",
    "print(\"Output length:\", len(out[0]))"
   ]
  },
  {
   "cell_type": "code",
   "execution_count": 68,
   "id": "a746372a",
   "metadata": {},
   "outputs": [],
   "source": [
    "decoded_text = tokenizer.decode(out[0].tolist())"
   ]
  },
  {
   "cell_type": "code",
   "execution_count": 69,
   "id": "fb99ba8a",
   "metadata": {},
   "outputs": [
    {
     "data": {
      "text/plain": [
       "'Hello, I am Featureiman Byeswickattribute argue logger Normandy Compton analogous'"
      ]
     },
     "execution_count": 69,
     "metadata": {},
     "output_type": "execute_result"
    }
   ],
   "source": [
    "decoded_text"
   ]
  },
  {
   "cell_type": "markdown",
   "id": "307fcec0",
   "metadata": {},
   "source": [
    "<div class=\"alert alert-block alert-info\">\n",
    "\n",
    "As we can see, based on the preceding output, the model generated gibberish, which is not\n",
    "at all coherent text. \n",
    "\n",
    "What happened? \n",
    "\n",
    "The reason why the model is unable to produce coherent text is that we haven't trained it yet. \n",
    "\n",
    "So far, we just\n",
    "implemented the GPT architecture and initialized a GPT model instance with initial random\n",
    "weights.\n",
    "\n",
    "</div>"
   ]
  },
  {
   "cell_type": "code",
   "execution_count": 70,
   "id": "2f2a51bc",
   "metadata": {},
   "outputs": [
    {
     "name": "stdout",
     "output_type": "stream",
     "text": [
      "Output text:\n",
      " Every effort moves you Aeiman Byeswickattributeometer inspector Normandy freezerigrate\n"
     ]
    }
   ],
   "source": [
    "import tiktoken\n",
    "def text_to_token_ids(text, tokenizer):\n",
    "    encoded = tokenizer.encode(text,allowed_special={'<|endoftext|>'})\n",
    "    encoded_tensor = torch.tensor(encoded).unsqueeze(0)  # Add batch dimension\n",
    "    return encoded_tensor\n",
    "def token_ids_to_text(token_ids, tokenizer):\n",
    "    flat = token_ids.squeeze(0)\n",
    "    return tokenizer.decode(flat.tolist())\n",
    "\n",
    "\n",
    "start_context = \"Every effort moves you\"\n",
    "tokenizer = tiktoken.get_encoding(\"gpt2\")\n",
    "\n",
    "token_ids = generate_text_simple(\n",
    "    model=model,\n",
    "    idx=text_to_token_ids(start_context, tokenizer),\n",
    "    max_new_tokens=10,\n",
    "    context_size=GPT_CONFIG_124M[\"context_length\"]\n",
    ")\n",
    "\n",
    "print(\"Output text:\\n\", token_ids_to_text(token_ids, tokenizer))\n",
    "\n",
    "\n"
   ]
  },
  {
   "cell_type": "code",
   "execution_count": 71,
   "id": "d2bd9b23",
   "metadata": {},
   "outputs": [],
   "source": [
    "inputs = torch.tensor([[16833, 3626, 6100],   # [\"every effort moves\",\n",
    "                       [40,    1107, 588]])   #  \"I really like\"]\n",
    "\n",
    "targets = torch.tensor([[3626, 6100, 345  ],  # [\" effort moves you\",\n",
    "                        [1107,  588, 11311]]) #  \" really like chocolate\"]"
   ]
  },
  {
   "cell_type": "code",
   "execution_count": 72,
   "id": "82fd45a4",
   "metadata": {},
   "outputs": [
    {
     "name": "stdout",
     "output_type": "stream",
     "text": [
      "torch.Size([2, 3, 50257])\n"
     ]
    }
   ],
   "source": [
    "with torch.no_grad():\n",
    "    logits = model(inputs)\n",
    "\n",
    "probas = torch.softmax(logits,dim = -1)\n",
    "print(probas.shape)"
   ]
  },
  {
   "cell_type": "code",
   "execution_count": 73,
   "id": "e4a8f192",
   "metadata": {},
   "outputs": [
    {
     "name": "stdout",
     "output_type": "stream",
     "text": [
      "Token IDs:\n",
      " tensor([[[36397],\n",
      "         [39619],\n",
      "         [20610]],\n",
      "\n",
      "        [[ 8615],\n",
      "         [49289],\n",
      "         [47105]]])\n"
     ]
    }
   ],
   "source": [
    "token_ids = torch.argmax(probas, dim=-1, keepdim=True)\n",
    "print(\"Token IDs:\\n\", token_ids)"
   ]
  },
  {
   "cell_type": "code",
   "execution_count": 74,
   "id": "b0ff7882",
   "metadata": {},
   "outputs": [
    {
     "name": "stdout",
     "output_type": "stream",
     "text": [
      "Targets batch 1:  effort moves you\n",
      "Outputs batch 1:  Gathering SerbianFriday\n"
     ]
    }
   ],
   "source": [
    "print(f\"Targets batch 1: {token_ids_to_text(targets[0], tokenizer)}\")\n",
    "print(f\"Outputs batch 1: {token_ids_to_text(token_ids[0].flatten(), tokenizer)}\")"
   ]
  },
  {
   "cell_type": "code",
   "execution_count": 75,
   "id": "314a3e57",
   "metadata": {},
   "outputs": [
    {
     "name": "stdout",
     "output_type": "stream",
     "text": [
      "Text 1: tensor([2.3466e-05, 2.0531e-05, 1.1733e-05])\n",
      "Text 2: tensor([4.2794e-05, 1.6248e-05, 1.1586e-05])\n"
     ]
    }
   ],
   "source": [
    "text_idx = 0\n",
    "target_probas_1 = probas[text_idx, [0, 1, 2], targets[text_idx]]\n",
    "print(\"Text 1:\", target_probas_1)\n",
    "\n",
    "text_idx = 1\n",
    "target_probas_2 = probas[text_idx, [0, 1, 2], targets[text_idx]]\n",
    "print(\"Text 2:\", target_probas_2)"
   ]
  },
  {
   "cell_type": "code",
   "execution_count": 76,
   "id": "dfc58229",
   "metadata": {},
   "outputs": [
    {
     "name": "stdout",
     "output_type": "stream",
     "text": [
      "Log probabilities:\n",
      " tensor([-10.6600, -10.7936, -11.3531, -10.0591, -11.0276, -11.3658])\n"
     ]
    }
   ],
   "source": [
    "log_probas = torch.log(torch.cat((target_probas_1, target_probas_2), dim=0))\n",
    "print(\"Log probabilities:\\n\", log_probas)"
   ]
  },
  {
   "cell_type": "code",
   "execution_count": 77,
   "id": "6e5b46fa",
   "metadata": {},
   "outputs": [
    {
     "name": "stdout",
     "output_type": "stream",
     "text": [
      "tensor(-10.8765)\n"
     ]
    }
   ],
   "source": [
    "avg_log_probas = torch.mean(log_probas)\n",
    "print(avg_log_probas)"
   ]
  },
  {
   "cell_type": "markdown",
   "id": "df11b4ca",
   "metadata": {},
   "source": [
    "<div class=\"alert alert-block alert-info\">\n",
    "\n",
    "The goal is to make this average log probability as large as possible by optimizing the model weights.\n",
    "\n",
    "Due to the log, the largest possible value is 0, and we are currently far away from 0.\n",
    "\n",
    "In deep learning, instead of maximizing the average log-probability, it's a standard convention to minimize the negative average log-probability value; in our case, instead of maximizing -10.7722 so that it approaches 0, in deep learning, we would minimize 10.7722 so that it approaches 0.\n",
    "\n",
    "The value negative of -10.7722, i.e., 10.7722, is also called cross-entropy loss in deep learning.\n",
    "\n",
    "</div>"
   ]
  },
  {
   "cell_type": "code",
   "execution_count": 78,
   "id": "88827ea3",
   "metadata": {},
   "outputs": [
    {
     "name": "stdout",
     "output_type": "stream",
     "text": [
      "tensor(10.8765)\n"
     ]
    }
   ],
   "source": [
    "neg_avg_log_probas = avg_log_probas * -1\n",
    "print(neg_avg_log_probas)"
   ]
  },
  {
   "cell_type": "code",
   "execution_count": 79,
   "id": "1c2de412",
   "metadata": {},
   "outputs": [
    {
     "name": "stdout",
     "output_type": "stream",
     "text": [
      "Flattened logits: torch.Size([6, 50257])\n",
      "Flattened targets: torch.Size([6])\n"
     ]
    }
   ],
   "source": [
    "logits_flat = logits.flatten(0, 1)\n",
    "targets_flat = targets.flatten()\n",
    "\n",
    "print(\"Flattened logits:\", logits_flat.shape)\n",
    "print(\"Flattened targets:\", targets_flat.shape)"
   ]
  },
  {
   "cell_type": "markdown",
   "id": "e9276589",
   "metadata": {},
   "source": [
    "<div class=\"alert alert-block alert-info\">\n",
    "\n",
    "Note that the targets are the token IDs, which also represent the index positions in the logits tensors that we want to maximize.\n",
    "    \n",
    "The cross_entropy function in PyTorch will automatically take care of applying the softmax and log-probability computation internally over those token indices in the logits that are to be maximized\n",
    "\n",
    "</div>"
   ]
  },
  {
   "cell_type": "code",
   "execution_count": 80,
   "id": "e6caf587",
   "metadata": {},
   "outputs": [
    {
     "name": "stdout",
     "output_type": "stream",
     "text": [
      "tensor(10.8765)\n"
     ]
    }
   ],
   "source": [
    "loss = torch.nn.functional.cross_entropy(logits_flat, targets_flat)\n",
    "print(loss)"
   ]
  },
  {
   "cell_type": "markdown",
   "id": "f308fef8",
   "metadata": {},
   "source": [
    "# Perplexity"
   ]
  },
  {
   "cell_type": "markdown",
   "id": "1abe6ba1",
   "metadata": {},
   "source": [
    "<div class=\"alert alert-block alert-success\">\n",
    "\n",
    "A concept related to the cross-entropy loss is the perplexity of an LLM.\n",
    "\n",
    "The perplexity is simply the exponential of the cross-entropy loss.\n",
    "\n",
    "</div>"
   ]
  },
  {
   "cell_type": "code",
   "execution_count": 81,
   "id": "a8e88a9b",
   "metadata": {},
   "outputs": [
    {
     "name": "stdout",
     "output_type": "stream",
     "text": [
      "tensor(52918.7734)\n"
     ]
    }
   ],
   "source": [
    "perplexity = torch.exp(loss)\n",
    "print(perplexity)"
   ]
  },
  {
   "cell_type": "markdown",
   "id": "62f7f52e",
   "metadata": {},
   "source": [
    "<div class=\"alert alert-block alert-info\">\n",
    "\n",
    "The perplexity is often considered more interpretable because it can be understood as the effective vocabulary size that the model is uncertain about at each step (in the example above, that'd be 52918.7734 words or tokens).\n",
    "\n",
    "In other words, perplexity provides a measure of how well the probability distribution predicted by the model matches the actual distribution of the words in the dataset.\n",
    "    \n",
    "Similar to the loss, a lower perplexity indicates that the model predictions are closer to the actual distribution\n",
    "    \n",
    "</div>\n"
   ]
  },
  {
   "cell_type": "markdown",
   "id": "5d5773d6",
   "metadata": {},
   "source": [
    "### Calculating the training and validation set losses"
   ]
  },
  {
   "cell_type": "markdown",
   "id": "6a004480",
   "metadata": {},
   "source": [
    "<div class=\"alert alert-block alert-success\">\n",
    "\n",
    "We use a relatively small dataset for training the LLM (in fact, only one short story)\n",
    "\n",
    "The reasons are:\n",
    "\n",
    "You can run the code examples in a few minutes on a laptop computer without a suitable GPU.\n",
    "\n",
    "The training finishes relatively fast (minutes instead of weeks), which is good for educational purposes.\n",
    "    \n",
    "We use a text from the public domain, which can be included in this GitHub repository without violating any usage rights or bloating the repository size.\n",
    "    \n",
    "For example, Llama 2 7B required 184,320 GPU hours on A100 GPUs to be trained on 2 trillion tokens\n",
    "\n",
    "At the time of this writing, the hourly cost of an 8xA100 cloud server at AWS is approximately 30 dollars. \n",
    "\n",
    "So, via an off-the-envelope calculation, training this LLM would cost 184,320 / 8 * 30 = 690,000 dollars\n",
    "\n",
    "Below, we use the same dataset we used in chapter 2.\n",
    "\n",
    "</div>"
   ]
  },
  {
   "cell_type": "code",
   "execution_count": 89,
   "id": "0f787ecd",
   "metadata": {},
   "outputs": [],
   "source": [
    "GPT_CONFIG_124M = {\n",
    "    \"vocab_size\": 50257,   # Vocabulary size\n",
    "    \"context_length\": 256, # Shortened context length (orig: 1024)\n",
    "    \"emb_dim\": 768,        # Embedding dimension\n",
    "    \"n_heads\": 12,         # Number of attention heads\n",
    "    \"n_layers\": 12,         # Number of layers\n",
    "    \"drop_rate\": 0.1,      # Dropout rate\n",
    "    \"qkv_bias\": False      # Query-key-value bias\n",
    "}\n"
   ]
  },
  {
   "cell_type": "code",
   "execution_count": 90,
   "id": "45e5e4e6",
   "metadata": {},
   "outputs": [],
   "source": [
    "import os\n",
    "file_path = \"Harry Potter and The Half-Blood Prince.txt\"\n",
    "with open(file_path, \"r\", encoding=\"utf-8\") as file:\n",
    "        text_data = file.read()\n"
   ]
  },
  {
   "cell_type": "code",
   "execution_count": 91,
   "id": "47e7d23d",
   "metadata": {},
   "outputs": [
    {
     "data": {
      "text/plain": [
       "'M r. and Mrs. Dursley, of number four, Privet Drive, were proud to say that they were perfectly nor'"
      ]
     },
     "execution_count": 91,
     "metadata": {},
     "output_type": "execute_result"
    }
   ],
   "source": [
    "text_data[:99]"
   ]
  },
  {
   "cell_type": "code",
   "execution_count": 92,
   "id": "34897960",
   "metadata": {},
   "outputs": [
    {
     "data": {
      "text/plain": [
       "'his forehead.\\n\\n“I know he will.”\\n\\nThe scar had not pained Harry for nineteen years. All was well.\\n\\n'"
      ]
     },
     "execution_count": 92,
     "metadata": {},
     "output_type": "execute_result"
    }
   ],
   "source": [
    "text_data[-99:]"
   ]
  },
  {
   "cell_type": "code",
   "execution_count": 93,
   "id": "2f5ae4a4",
   "metadata": {},
   "outputs": [],
   "source": [
    "tokenizer = tiktoken.get_encoding(\"gpt2\")\n",
    "total_character = len(text_data)\n",
    "total_tokens = len(tokenizer.encode(text_data))"
   ]
  },
  {
   "cell_type": "code",
   "execution_count": 94,
   "id": "fa7a8616",
   "metadata": {},
   "outputs": [
    {
     "name": "stdout",
     "output_type": "stream",
     "text": [
      "Characters: 6285449\n",
      "Tokens: 1669303\n"
     ]
    }
   ],
   "source": [
    "print(\"Characters:\", total_character)\n",
    "print(\"Tokens:\", total_tokens)"
   ]
  },
  {
   "cell_type": "code",
   "execution_count": 97,
   "id": "8f2c4675",
   "metadata": {},
   "outputs": [],
   "source": [
    "train_ratio = 0.9\n",
    "split_idx = int(train_ratio * len(text_data))\n",
    "train_data = text_data[:split_idx]\n",
    "val_data = text_data[split_idx:]\n",
    "\n",
    "torch.manual_seed(123)\n",
    "\n",
    "train_loader = create_dataloader_v1(\n",
    "    train_data,\n",
    "    batch_size = 10, \n",
    "    max_length = GPT_CONFIG_124M[\"context_length\"],\n",
    "    stride = GPT_CONFIG_124M[\"context_length\"] , \n",
    "    shuffle = True, \n",
    "    drop_last = True,\n",
    "    num_workers = 0\n",
    ")\n",
    "\n",
    "val_loader = create_dataloader_v1(\n",
    "    val_data,\n",
    "    batch_size = 10, \n",
    "    max_length = GPT_CONFIG_124M[\"context_length\"],\n",
    "    stride = GPT_CONFIG_124M[\"context_length\"] , \n",
    "    shuffle = False, \n",
    "    drop_last = False,\n",
    "    num_workers = 0\n",
    ")"
   ]
  },
  {
   "cell_type": "code",
   "execution_count": 98,
   "id": "371070c2",
   "metadata": {},
   "outputs": [
    {
     "name": "stdout",
     "output_type": "stream",
     "text": [
      "Train loader:\n",
      "torch.Size([10, 256]) torch.Size([10, 256])\n",
      "torch.Size([10, 256]) torch.Size([10, 256])\n",
      "torch.Size([10, 256]) torch.Size([10, 256])\n",
      "torch.Size([10, 256]) torch.Size([10, 256])\n",
      "torch.Size([10, 256]) torch.Size([10, 256])\n",
      "torch.Size([10, 256]) torch.Size([10, 256])\n",
      "torch.Size([10, 256]) torch.Size([10, 256])\n",
      "torch.Size([10, 256]) torch.Size([10, 256])\n",
      "torch.Size([10, 256]) torch.Size([10, 256])\n",
      "torch.Size([10, 256]) torch.Size([10, 256])\n",
      "torch.Size([10, 256]) torch.Size([10, 256])\n",
      "torch.Size([10, 256]) torch.Size([10, 256])\n",
      "torch.Size([10, 256]) torch.Size([10, 256])\n",
      "torch.Size([10, 256]) torch.Size([10, 256])\n",
      "torch.Size([10, 256]) torch.Size([10, 256])\n",
      "torch.Size([10, 256]) torch.Size([10, 256])\n",
      "torch.Size([10, 256]) torch.Size([10, 256])\n",
      "torch.Size([10, 256]) torch.Size([10, 256])\n",
      "torch.Size([10, 256]) torch.Size([10, 256])\n",
      "torch.Size([10, 256]) torch.Size([10, 256])\n",
      "torch.Size([10, 256]) torch.Size([10, 256])\n",
      "torch.Size([10, 256]) torch.Size([10, 256])\n",
      "torch.Size([10, 256]) torch.Size([10, 256])\n",
      "torch.Size([10, 256]) torch.Size([10, 256])\n",
      "torch.Size([10, 256]) torch.Size([10, 256])\n",
      "torch.Size([10, 256]) torch.Size([10, 256])\n",
      "torch.Size([10, 256]) torch.Size([10, 256])\n",
      "torch.Size([10, 256]) torch.Size([10, 256])\n",
      "torch.Size([10, 256]) torch.Size([10, 256])\n",
      "torch.Size([10, 256]) torch.Size([10, 256])\n",
      "torch.Size([10, 256]) torch.Size([10, 256])\n",
      "torch.Size([10, 256]) torch.Size([10, 256])\n",
      "torch.Size([10, 256]) torch.Size([10, 256])\n",
      "torch.Size([10, 256]) torch.Size([10, 256])\n",
      "torch.Size([10, 256]) torch.Size([10, 256])\n",
      "torch.Size([10, 256]) torch.Size([10, 256])\n",
      "torch.Size([10, 256]) torch.Size([10, 256])\n",
      "torch.Size([10, 256]) torch.Size([10, 256])\n",
      "torch.Size([10, 256]) torch.Size([10, 256])\n",
      "torch.Size([10, 256]) torch.Size([10, 256])\n",
      "torch.Size([10, 256]) torch.Size([10, 256])\n",
      "torch.Size([10, 256]) torch.Size([10, 256])\n",
      "torch.Size([10, 256]) torch.Size([10, 256])\n",
      "torch.Size([10, 256]) torch.Size([10, 256])\n",
      "torch.Size([10, 256]) torch.Size([10, 256])\n",
      "torch.Size([10, 256]) torch.Size([10, 256])\n",
      "torch.Size([10, 256]) torch.Size([10, 256])\n",
      "torch.Size([10, 256]) torch.Size([10, 256])\n",
      "torch.Size([10, 256]) torch.Size([10, 256])\n",
      "torch.Size([10, 256]) torch.Size([10, 256])\n",
      "torch.Size([10, 256]) torch.Size([10, 256])\n",
      "torch.Size([10, 256]) torch.Size([10, 256])\n",
      "torch.Size([10, 256]) torch.Size([10, 256])\n",
      "torch.Size([10, 256]) torch.Size([10, 256])\n",
      "torch.Size([10, 256]) torch.Size([10, 256])\n",
      "torch.Size([10, 256]) torch.Size([10, 256])\n",
      "torch.Size([10, 256]) torch.Size([10, 256])\n",
      "torch.Size([10, 256]) torch.Size([10, 256])\n",
      "torch.Size([10, 256]) torch.Size([10, 256])\n",
      "torch.Size([10, 256]) torch.Size([10, 256])\n",
      "torch.Size([10, 256]) torch.Size([10, 256])\n",
      "torch.Size([10, 256]) torch.Size([10, 256])\n",
      "torch.Size([10, 256]) torch.Size([10, 256])\n",
      "torch.Size([10, 256]) torch.Size([10, 256])\n",
      "torch.Size([10, 256]) torch.Size([10, 256])\n",
      "torch.Size([10, 256]) torch.Size([10, 256])\n",
      "torch.Size([10, 256]) torch.Size([10, 256])\n",
      "torch.Size([10, 256]) torch.Size([10, 256])\n",
      "torch.Size([10, 256]) torch.Size([10, 256])\n",
      "torch.Size([10, 256]) torch.Size([10, 256])\n",
      "torch.Size([10, 256]) torch.Size([10, 256])\n",
      "torch.Size([10, 256]) torch.Size([10, 256])\n",
      "torch.Size([10, 256]) torch.Size([10, 256])\n",
      "torch.Size([10, 256]) torch.Size([10, 256])\n",
      "torch.Size([10, 256]) torch.Size([10, 256])\n",
      "torch.Size([10, 256]) torch.Size([10, 256])\n",
      "torch.Size([10, 256]) torch.Size([10, 256])\n",
      "torch.Size([10, 256]) torch.Size([10, 256])\n",
      "torch.Size([10, 256]) torch.Size([10, 256])\n",
      "torch.Size([10, 256]) torch.Size([10, 256])\n",
      "torch.Size([10, 256]) torch.Size([10, 256])\n",
      "torch.Size([10, 256]) torch.Size([10, 256])\n",
      "torch.Size([10, 256]) torch.Size([10, 256])\n",
      "torch.Size([10, 256]) torch.Size([10, 256])\n",
      "torch.Size([10, 256]) torch.Size([10, 256])\n",
      "torch.Size([10, 256]) torch.Size([10, 256])\n",
      "torch.Size([10, 256]) torch.Size([10, 256])\n",
      "torch.Size([10, 256]) torch.Size([10, 256])\n",
      "torch.Size([10, 256]) torch.Size([10, 256])\n",
      "torch.Size([10, 256]) torch.Size([10, 256])\n",
      "torch.Size([10, 256]) torch.Size([10, 256])\n",
      "torch.Size([10, 256]) torch.Size([10, 256])\n",
      "torch.Size([10, 256]) torch.Size([10, 256])\n",
      "torch.Size([10, 256]) torch.Size([10, 256])\n",
      "torch.Size([10, 256]) torch.Size([10, 256])\n",
      "torch.Size([10, 256]) torch.Size([10, 256])\n",
      "torch.Size([10, 256]) torch.Size([10, 256])\n",
      "torch.Size([10, 256]) torch.Size([10, 256])\n",
      "torch.Size([10, 256]) torch.Size([10, 256])\n",
      "torch.Size([10, 256]) torch.Size([10, 256])\n",
      "torch.Size([10, 256]) torch.Size([10, 256])\n",
      "torch.Size([10, 256]) torch.Size([10, 256])\n",
      "torch.Size([10, 256]) torch.Size([10, 256])\n",
      "torch.Size([10, 256]) torch.Size([10, 256])\n",
      "torch.Size([10, 256]) torch.Size([10, 256])\n",
      "torch.Size([10, 256]) torch.Size([10, 256])\n",
      "torch.Size([10, 256]) torch.Size([10, 256])\n",
      "torch.Size([10, 256]) torch.Size([10, 256])\n",
      "torch.Size([10, 256]) torch.Size([10, 256])\n",
      "torch.Size([10, 256]) torch.Size([10, 256])\n",
      "torch.Size([10, 256]) torch.Size([10, 256])\n",
      "torch.Size([10, 256]) torch.Size([10, 256])\n",
      "torch.Size([10, 256]) torch.Size([10, 256])\n",
      "torch.Size([10, 256]) torch.Size([10, 256])\n",
      "torch.Size([10, 256]) torch.Size([10, 256])\n",
      "torch.Size([10, 256]) torch.Size([10, 256])\n",
      "torch.Size([10, 256]) torch.Size([10, 256])\n",
      "torch.Size([10, 256]) torch.Size([10, 256])\n",
      "torch.Size([10, 256]) torch.Size([10, 256])\n",
      "torch.Size([10, 256]) torch.Size([10, 256])\n",
      "torch.Size([10, 256]) torch.Size([10, 256])\n",
      "torch.Size([10, 256]) torch.Size([10, 256])\n",
      "torch.Size([10, 256]) torch.Size([10, 256])\n",
      "torch.Size([10, 256]) torch.Size([10, 256])\n",
      "torch.Size([10, 256]) torch.Size([10, 256])\n",
      "torch.Size([10, 256]) torch.Size([10, 256])\n",
      "torch.Size([10, 256]) torch.Size([10, 256])\n",
      "torch.Size([10, 256]) torch.Size([10, 256])\n",
      "torch.Size([10, 256]) torch.Size([10, 256])\n",
      "torch.Size([10, 256]) torch.Size([10, 256])\n",
      "torch.Size([10, 256]) torch.Size([10, 256])\n",
      "torch.Size([10, 256]) torch.Size([10, 256])\n",
      "torch.Size([10, 256]) torch.Size([10, 256])\n",
      "torch.Size([10, 256]) torch.Size([10, 256])\n",
      "torch.Size([10, 256]) torch.Size([10, 256])\n",
      "torch.Size([10, 256]) torch.Size([10, 256])\n",
      "torch.Size([10, 256]) torch.Size([10, 256])\n",
      "torch.Size([10, 256]) torch.Size([10, 256])\n",
      "torch.Size([10, 256]) torch.Size([10, 256])\n",
      "torch.Size([10, 256]) torch.Size([10, 256])\n",
      "torch.Size([10, 256]) torch.Size([10, 256])\n",
      "torch.Size([10, 256]) torch.Size([10, 256])\n",
      "torch.Size([10, 256]) torch.Size([10, 256])\n",
      "torch.Size([10, 256]) torch.Size([10, 256])\n",
      "torch.Size([10, 256]) torch.Size([10, 256])\n",
      "torch.Size([10, 256]) torch.Size([10, 256])\n",
      "torch.Size([10, 256]) torch.Size([10, 256])\n",
      "torch.Size([10, 256]) torch.Size([10, 256])\n",
      "torch.Size([10, 256]) torch.Size([10, 256])\n",
      "torch.Size([10, 256]) torch.Size([10, 256])\n",
      "torch.Size([10, 256]) torch.Size([10, 256])\n",
      "torch.Size([10, 256]) torch.Size([10, 256])\n",
      "torch.Size([10, 256]) torch.Size([10, 256])\n",
      "torch.Size([10, 256]) torch.Size([10, 256])\n",
      "torch.Size([10, 256]) torch.Size([10, 256])\n",
      "torch.Size([10, 256]) torch.Size([10, 256])\n",
      "torch.Size([10, 256]) torch.Size([10, 256])\n",
      "torch.Size([10, 256]) torch.Size([10, 256])\n",
      "torch.Size([10, 256]) torch.Size([10, 256])\n",
      "torch.Size([10, 256]) torch.Size([10, 256])\n",
      "torch.Size([10, 256]) torch.Size([10, 256])\n",
      "torch.Size([10, 256]) torch.Size([10, 256])\n",
      "torch.Size([10, 256]) torch.Size([10, 256])\n",
      "torch.Size([10, 256]) torch.Size([10, 256])\n",
      "torch.Size([10, 256]) torch.Size([10, 256])\n",
      "torch.Size([10, 256]) torch.Size([10, 256])\n",
      "torch.Size([10, 256]) torch.Size([10, 256])\n",
      "torch.Size([10, 256]) torch.Size([10, 256])\n",
      "torch.Size([10, 256]) torch.Size([10, 256])\n",
      "torch.Size([10, 256]) torch.Size([10, 256])\n",
      "torch.Size([10, 256]) torch.Size([10, 256])\n",
      "torch.Size([10, 256]) torch.Size([10, 256])\n",
      "torch.Size([10, 256]) torch.Size([10, 256])\n",
      "torch.Size([10, 256]) torch.Size([10, 256])\n",
      "torch.Size([10, 256]) torch.Size([10, 256])\n",
      "torch.Size([10, 256]) torch.Size([10, 256])\n",
      "torch.Size([10, 256]) torch.Size([10, 256])\n",
      "torch.Size([10, 256]) torch.Size([10, 256])\n",
      "torch.Size([10, 256]) torch.Size([10, 256])\n",
      "torch.Size([10, 256]) torch.Size([10, 256])\n",
      "torch.Size([10, 256]) torch.Size([10, 256])\n",
      "torch.Size([10, 256]) torch.Size([10, 256])\n",
      "torch.Size([10, 256]) torch.Size([10, 256])\n",
      "torch.Size([10, 256]) torch.Size([10, 256])\n",
      "torch.Size([10, 256]) torch.Size([10, 256])\n",
      "torch.Size([10, 256]) torch.Size([10, 256])\n",
      "torch.Size([10, 256]) torch.Size([10, 256])\n",
      "torch.Size([10, 256]) torch.Size([10, 256])\n",
      "torch.Size([10, 256]) torch.Size([10, 256])\n",
      "torch.Size([10, 256]) torch.Size([10, 256])\n",
      "torch.Size([10, 256]) torch.Size([10, 256])\n",
      "torch.Size([10, 256]) torch.Size([10, 256])\n",
      "torch.Size([10, 256]) torch.Size([10, 256])\n",
      "torch.Size([10, 256]) torch.Size([10, 256])\n",
      "torch.Size([10, 256]) torch.Size([10, 256])\n",
      "torch.Size([10, 256]) torch.Size([10, 256])\n",
      "torch.Size([10, 256]) torch.Size([10, 256])\n",
      "torch.Size([10, 256]) torch.Size([10, 256])\n",
      "torch.Size([10, 256]) torch.Size([10, 256])\n",
      "torch.Size([10, 256]) torch.Size([10, 256])\n",
      "torch.Size([10, 256]) torch.Size([10, 256])\n",
      "torch.Size([10, 256]) torch.Size([10, 256])\n",
      "torch.Size([10, 256]) torch.Size([10, 256])\n",
      "torch.Size([10, 256]) torch.Size([10, 256])\n",
      "torch.Size([10, 256]) torch.Size([10, 256])\n",
      "torch.Size([10, 256]) torch.Size([10, 256])\n",
      "torch.Size([10, 256]) torch.Size([10, 256])\n",
      "torch.Size([10, 256]) torch.Size([10, 256])\n",
      "torch.Size([10, 256]) torch.Size([10, 256])\n",
      "torch.Size([10, 256]) torch.Size([10, 256])\n",
      "torch.Size([10, 256]) torch.Size([10, 256])\n",
      "torch.Size([10, 256]) torch.Size([10, 256])\n",
      "torch.Size([10, 256]) torch.Size([10, 256])\n",
      "torch.Size([10, 256]) torch.Size([10, 256])\n",
      "torch.Size([10, 256]) torch.Size([10, 256])\n",
      "torch.Size([10, 256]) torch.Size([10, 256])\n",
      "torch.Size([10, 256]) torch.Size([10, 256])\n",
      "torch.Size([10, 256]) torch.Size([10, 256])\n",
      "torch.Size([10, 256]) torch.Size([10, 256])\n",
      "torch.Size([10, 256]) torch.Size([10, 256])\n",
      "torch.Size([10, 256]) torch.Size([10, 256])\n",
      "torch.Size([10, 256]) torch.Size([10, 256])\n",
      "torch.Size([10, 256]) torch.Size([10, 256])\n",
      "torch.Size([10, 256]) torch.Size([10, 256])\n",
      "torch.Size([10, 256]) torch.Size([10, 256])\n",
      "torch.Size([10, 256]) torch.Size([10, 256])\n",
      "torch.Size([10, 256]) torch.Size([10, 256])\n",
      "torch.Size([10, 256]) torch.Size([10, 256])\n",
      "torch.Size([10, 256]) torch.Size([10, 256])\n",
      "torch.Size([10, 256]) torch.Size([10, 256])\n",
      "torch.Size([10, 256]) torch.Size([10, 256])\n",
      "torch.Size([10, 256]) torch.Size([10, 256])\n",
      "torch.Size([10, 256]) torch.Size([10, 256])\n",
      "torch.Size([10, 256]) torch.Size([10, 256])\n",
      "torch.Size([10, 256]) torch.Size([10, 256])\n",
      "torch.Size([10, 256]) torch.Size([10, 256])\n",
      "torch.Size([10, 256]) torch.Size([10, 256])\n",
      "torch.Size([10, 256]) torch.Size([10, 256])\n",
      "torch.Size([10, 256]) torch.Size([10, 256])\n",
      "torch.Size([10, 256]) torch.Size([10, 256])\n",
      "torch.Size([10, 256]) torch.Size([10, 256])\n",
      "torch.Size([10, 256]) torch.Size([10, 256])\n",
      "torch.Size([10, 256]) torch.Size([10, 256])\n",
      "torch.Size([10, 256]) torch.Size([10, 256])\n",
      "torch.Size([10, 256]) torch.Size([10, 256])\n",
      "torch.Size([10, 256]) torch.Size([10, 256])\n",
      "torch.Size([10, 256]) torch.Size([10, 256])\n",
      "torch.Size([10, 256]) torch.Size([10, 256])\n",
      "torch.Size([10, 256]) torch.Size([10, 256])\n",
      "torch.Size([10, 256]) torch.Size([10, 256])\n",
      "torch.Size([10, 256]) torch.Size([10, 256])\n",
      "torch.Size([10, 256]) torch.Size([10, 256])\n",
      "torch.Size([10, 256]) torch.Size([10, 256])\n",
      "torch.Size([10, 256]) torch.Size([10, 256])\n",
      "torch.Size([10, 256]) torch.Size([10, 256])\n",
      "torch.Size([10, 256]) torch.Size([10, 256])\n",
      "torch.Size([10, 256]) torch.Size([10, 256])\n",
      "torch.Size([10, 256]) torch.Size([10, 256])\n",
      "torch.Size([10, 256]) torch.Size([10, 256])\n",
      "torch.Size([10, 256]) torch.Size([10, 256])\n",
      "torch.Size([10, 256]) torch.Size([10, 256])\n",
      "torch.Size([10, 256]) torch.Size([10, 256])\n",
      "torch.Size([10, 256]) torch.Size([10, 256])\n",
      "torch.Size([10, 256]) torch.Size([10, 256])\n",
      "torch.Size([10, 256]) torch.Size([10, 256])\n",
      "torch.Size([10, 256]) torch.Size([10, 256])\n",
      "torch.Size([10, 256]) torch.Size([10, 256])\n",
      "torch.Size([10, 256]) torch.Size([10, 256])\n",
      "torch.Size([10, 256]) torch.Size([10, 256])\n",
      "torch.Size([10, 256]) torch.Size([10, 256])\n",
      "torch.Size([10, 256]) torch.Size([10, 256])\n",
      "torch.Size([10, 256]) torch.Size([10, 256])\n",
      "torch.Size([10, 256]) torch.Size([10, 256])\n",
      "torch.Size([10, 256]) torch.Size([10, 256])\n",
      "torch.Size([10, 256]) torch.Size([10, 256])\n",
      "torch.Size([10, 256]) torch.Size([10, 256])\n",
      "torch.Size([10, 256]) torch.Size([10, 256])\n",
      "torch.Size([10, 256]) torch.Size([10, 256])\n",
      "torch.Size([10, 256]) torch.Size([10, 256])\n",
      "torch.Size([10, 256]) torch.Size([10, 256])\n",
      "torch.Size([10, 256]) torch.Size([10, 256])\n",
      "torch.Size([10, 256]) torch.Size([10, 256])\n",
      "torch.Size([10, 256]) torch.Size([10, 256])\n",
      "torch.Size([10, 256]) torch.Size([10, 256])\n",
      "torch.Size([10, 256]) torch.Size([10, 256])\n",
      "torch.Size([10, 256]) torch.Size([10, 256])\n",
      "torch.Size([10, 256]) torch.Size([10, 256])\n",
      "torch.Size([10, 256]) torch.Size([10, 256])\n",
      "torch.Size([10, 256]) torch.Size([10, 256])\n",
      "torch.Size([10, 256]) torch.Size([10, 256])\n",
      "torch.Size([10, 256]) torch.Size([10, 256])\n",
      "torch.Size([10, 256]) torch.Size([10, 256])\n",
      "torch.Size([10, 256]) torch.Size([10, 256])\n",
      "torch.Size([10, 256]) torch.Size([10, 256])\n",
      "torch.Size([10, 256]) torch.Size([10, 256])\n",
      "torch.Size([10, 256]) torch.Size([10, 256])\n",
      "torch.Size([10, 256]) torch.Size([10, 256])\n",
      "torch.Size([10, 256]) torch.Size([10, 256])\n",
      "torch.Size([10, 256]) torch.Size([10, 256])\n",
      "torch.Size([10, 256]) torch.Size([10, 256])\n",
      "torch.Size([10, 256]) torch.Size([10, 256])\n",
      "torch.Size([10, 256]) torch.Size([10, 256])\n",
      "torch.Size([10, 256]) torch.Size([10, 256])\n",
      "torch.Size([10, 256]) torch.Size([10, 256])\n",
      "torch.Size([10, 256]) torch.Size([10, 256])\n",
      "torch.Size([10, 256]) torch.Size([10, 256])\n",
      "torch.Size([10, 256]) torch.Size([10, 256])\n",
      "torch.Size([10, 256]) torch.Size([10, 256])\n",
      "torch.Size([10, 256]) torch.Size([10, 256])\n",
      "torch.Size([10, 256]) torch.Size([10, 256])\n",
      "torch.Size([10, 256]) torch.Size([10, 256])\n",
      "torch.Size([10, 256]) torch.Size([10, 256])\n",
      "torch.Size([10, 256]) torch.Size([10, 256])\n",
      "torch.Size([10, 256]) torch.Size([10, 256])\n",
      "torch.Size([10, 256]) torch.Size([10, 256])\n",
      "torch.Size([10, 256]) torch.Size([10, 256])\n",
      "torch.Size([10, 256]) torch.Size([10, 256])\n",
      "torch.Size([10, 256]) torch.Size([10, 256])\n",
      "torch.Size([10, 256]) torch.Size([10, 256])\n",
      "torch.Size([10, 256]) torch.Size([10, 256])\n",
      "torch.Size([10, 256]) torch.Size([10, 256])\n",
      "torch.Size([10, 256]) torch.Size([10, 256])\n",
      "torch.Size([10, 256]) torch.Size([10, 256])\n",
      "torch.Size([10, 256]) torch.Size([10, 256])\n",
      "torch.Size([10, 256]) torch.Size([10, 256])\n",
      "torch.Size([10, 256]) torch.Size([10, 256])\n",
      "torch.Size([10, 256]) torch.Size([10, 256])\n",
      "torch.Size([10, 256]) torch.Size([10, 256])\n",
      "torch.Size([10, 256]) torch.Size([10, 256])\n",
      "torch.Size([10, 256]) torch.Size([10, 256])\n",
      "torch.Size([10, 256]) torch.Size([10, 256])\n",
      "torch.Size([10, 256]) torch.Size([10, 256])\n",
      "torch.Size([10, 256]) torch.Size([10, 256])\n",
      "torch.Size([10, 256]) torch.Size([10, 256])\n",
      "torch.Size([10, 256]) torch.Size([10, 256])\n",
      "torch.Size([10, 256]) torch.Size([10, 256])\n",
      "torch.Size([10, 256]) torch.Size([10, 256])\n",
      "torch.Size([10, 256]) torch.Size([10, 256])\n",
      "torch.Size([10, 256]) torch.Size([10, 256])\n",
      "torch.Size([10, 256]) torch.Size([10, 256])\n",
      "torch.Size([10, 256]) torch.Size([10, 256])\n",
      "torch.Size([10, 256]) torch.Size([10, 256])\n",
      "torch.Size([10, 256]) torch.Size([10, 256])\n",
      "torch.Size([10, 256]) torch.Size([10, 256])\n",
      "torch.Size([10, 256]) torch.Size([10, 256])\n",
      "torch.Size([10, 256]) torch.Size([10, 256])\n",
      "torch.Size([10, 256]) torch.Size([10, 256])\n",
      "torch.Size([10, 256]) torch.Size([10, 256])\n",
      "torch.Size([10, 256]) torch.Size([10, 256])\n",
      "torch.Size([10, 256]) torch.Size([10, 256])\n",
      "torch.Size([10, 256]) torch.Size([10, 256])\n",
      "torch.Size([10, 256]) torch.Size([10, 256])\n",
      "torch.Size([10, 256]) torch.Size([10, 256])\n",
      "torch.Size([10, 256]) torch.Size([10, 256])\n",
      "torch.Size([10, 256]) torch.Size([10, 256])\n",
      "torch.Size([10, 256]) torch.Size([10, 256])\n",
      "torch.Size([10, 256]) torch.Size([10, 256])\n",
      "torch.Size([10, 256]) torch.Size([10, 256])\n",
      "torch.Size([10, 256]) torch.Size([10, 256])\n",
      "torch.Size([10, 256]) torch.Size([10, 256])\n",
      "torch.Size([10, 256]) torch.Size([10, 256])\n",
      "torch.Size([10, 256]) torch.Size([10, 256])\n",
      "torch.Size([10, 256]) torch.Size([10, 256])\n",
      "torch.Size([10, 256]) torch.Size([10, 256])\n",
      "torch.Size([10, 256]) torch.Size([10, 256])\n",
      "torch.Size([10, 256]) torch.Size([10, 256])\n",
      "torch.Size([10, 256]) torch.Size([10, 256])\n",
      "torch.Size([10, 256]) torch.Size([10, 256])\n",
      "torch.Size([10, 256]) torch.Size([10, 256])\n",
      "torch.Size([10, 256]) torch.Size([10, 256])\n",
      "torch.Size([10, 256]) torch.Size([10, 256])\n",
      "torch.Size([10, 256]) torch.Size([10, 256])\n",
      "torch.Size([10, 256]) torch.Size([10, 256])\n",
      "torch.Size([10, 256]) torch.Size([10, 256])\n",
      "torch.Size([10, 256]) torch.Size([10, 256])\n",
      "torch.Size([10, 256]) torch.Size([10, 256])\n",
      "torch.Size([10, 256]) torch.Size([10, 256])\n",
      "torch.Size([10, 256]) torch.Size([10, 256])\n",
      "torch.Size([10, 256]) torch.Size([10, 256])\n",
      "torch.Size([10, 256]) torch.Size([10, 256])\n",
      "torch.Size([10, 256]) torch.Size([10, 256])\n",
      "torch.Size([10, 256]) torch.Size([10, 256])\n",
      "torch.Size([10, 256]) torch.Size([10, 256])\n",
      "torch.Size([10, 256]) torch.Size([10, 256])\n",
      "torch.Size([10, 256]) torch.Size([10, 256])\n",
      "torch.Size([10, 256]) torch.Size([10, 256])\n",
      "torch.Size([10, 256]) torch.Size([10, 256])\n",
      "torch.Size([10, 256]) torch.Size([10, 256])\n",
      "torch.Size([10, 256]) torch.Size([10, 256])\n",
      "torch.Size([10, 256]) torch.Size([10, 256])\n",
      "torch.Size([10, 256]) torch.Size([10, 256])\n",
      "torch.Size([10, 256]) torch.Size([10, 256])\n",
      "torch.Size([10, 256]) torch.Size([10, 256])\n",
      "torch.Size([10, 256]) torch.Size([10, 256])\n",
      "torch.Size([10, 256]) torch.Size([10, 256])\n",
      "torch.Size([10, 256]) torch.Size([10, 256])\n",
      "torch.Size([10, 256]) torch.Size([10, 256])\n",
      "torch.Size([10, 256]) torch.Size([10, 256])\n",
      "torch.Size([10, 256]) torch.Size([10, 256])\n",
      "torch.Size([10, 256]) torch.Size([10, 256])\n",
      "torch.Size([10, 256]) torch.Size([10, 256])\n",
      "torch.Size([10, 256]) torch.Size([10, 256])\n",
      "torch.Size([10, 256]) torch.Size([10, 256])\n",
      "torch.Size([10, 256]) torch.Size([10, 256])\n",
      "torch.Size([10, 256]) torch.Size([10, 256])\n",
      "torch.Size([10, 256]) torch.Size([10, 256])\n",
      "torch.Size([10, 256]) torch.Size([10, 256])\n",
      "torch.Size([10, 256]) torch.Size([10, 256])\n",
      "torch.Size([10, 256]) torch.Size([10, 256])\n",
      "torch.Size([10, 256]) torch.Size([10, 256])\n",
      "torch.Size([10, 256]) torch.Size([10, 256])\n",
      "torch.Size([10, 256]) torch.Size([10, 256])\n",
      "torch.Size([10, 256]) torch.Size([10, 256])\n",
      "torch.Size([10, 256]) torch.Size([10, 256])\n",
      "torch.Size([10, 256]) torch.Size([10, 256])\n",
      "torch.Size([10, 256]) torch.Size([10, 256])\n",
      "torch.Size([10, 256]) torch.Size([10, 256])\n",
      "torch.Size([10, 256]) torch.Size([10, 256])\n",
      "torch.Size([10, 256]) torch.Size([10, 256])\n",
      "torch.Size([10, 256]) torch.Size([10, 256])\n",
      "torch.Size([10, 256]) torch.Size([10, 256])\n",
      "torch.Size([10, 256]) torch.Size([10, 256])\n",
      "torch.Size([10, 256]) torch.Size([10, 256])\n",
      "torch.Size([10, 256]) torch.Size([10, 256])\n",
      "torch.Size([10, 256]) torch.Size([10, 256])\n",
      "torch.Size([10, 256]) torch.Size([10, 256])\n",
      "torch.Size([10, 256]) torch.Size([10, 256])\n",
      "torch.Size([10, 256]) torch.Size([10, 256])\n",
      "torch.Size([10, 256]) torch.Size([10, 256])\n",
      "torch.Size([10, 256]) torch.Size([10, 256])\n",
      "torch.Size([10, 256]) torch.Size([10, 256])\n",
      "torch.Size([10, 256]) torch.Size([10, 256])\n",
      "torch.Size([10, 256]) torch.Size([10, 256])\n",
      "torch.Size([10, 256]) torch.Size([10, 256])\n",
      "torch.Size([10, 256]) torch.Size([10, 256])\n",
      "torch.Size([10, 256]) torch.Size([10, 256])\n",
      "torch.Size([10, 256]) torch.Size([10, 256])\n",
      "torch.Size([10, 256]) torch.Size([10, 256])\n",
      "torch.Size([10, 256]) torch.Size([10, 256])\n",
      "torch.Size([10, 256]) torch.Size([10, 256])\n",
      "torch.Size([10, 256]) torch.Size([10, 256])\n",
      "torch.Size([10, 256]) torch.Size([10, 256])\n",
      "torch.Size([10, 256]) torch.Size([10, 256])\n",
      "torch.Size([10, 256]) torch.Size([10, 256])\n",
      "torch.Size([10, 256]) torch.Size([10, 256])\n",
      "torch.Size([10, 256]) torch.Size([10, 256])\n",
      "torch.Size([10, 256]) torch.Size([10, 256])\n",
      "torch.Size([10, 256]) torch.Size([10, 256])\n",
      "torch.Size([10, 256]) torch.Size([10, 256])\n",
      "torch.Size([10, 256]) torch.Size([10, 256])\n",
      "torch.Size([10, 256]) torch.Size([10, 256])\n",
      "torch.Size([10, 256]) torch.Size([10, 256])\n",
      "torch.Size([10, 256]) torch.Size([10, 256])\n",
      "torch.Size([10, 256]) torch.Size([10, 256])\n",
      "torch.Size([10, 256]) torch.Size([10, 256])\n",
      "torch.Size([10, 256]) torch.Size([10, 256])\n",
      "torch.Size([10, 256]) torch.Size([10, 256])\n",
      "torch.Size([10, 256]) torch.Size([10, 256])\n",
      "torch.Size([10, 256]) torch.Size([10, 256])\n",
      "torch.Size([10, 256]) torch.Size([10, 256])\n",
      "torch.Size([10, 256]) torch.Size([10, 256])\n",
      "torch.Size([10, 256]) torch.Size([10, 256])\n",
      "torch.Size([10, 256]) torch.Size([10, 256])\n",
      "torch.Size([10, 256]) torch.Size([10, 256])\n",
      "torch.Size([10, 256]) torch.Size([10, 256])\n",
      "torch.Size([10, 256]) torch.Size([10, 256])\n",
      "torch.Size([10, 256]) torch.Size([10, 256])\n",
      "torch.Size([10, 256]) torch.Size([10, 256])\n",
      "torch.Size([10, 256]) torch.Size([10, 256])\n",
      "torch.Size([10, 256]) torch.Size([10, 256])\n",
      "torch.Size([10, 256]) torch.Size([10, 256])\n",
      "torch.Size([10, 256]) torch.Size([10, 256])\n",
      "torch.Size([10, 256]) torch.Size([10, 256])\n",
      "torch.Size([10, 256]) torch.Size([10, 256])\n",
      "torch.Size([10, 256]) torch.Size([10, 256])\n",
      "torch.Size([10, 256]) torch.Size([10, 256])\n",
      "torch.Size([10, 256]) torch.Size([10, 256])\n",
      "torch.Size([10, 256]) torch.Size([10, 256])\n",
      "torch.Size([10, 256]) torch.Size([10, 256])\n",
      "torch.Size([10, 256]) torch.Size([10, 256])\n",
      "torch.Size([10, 256]) torch.Size([10, 256])\n",
      "torch.Size([10, 256]) torch.Size([10, 256])\n",
      "torch.Size([10, 256]) torch.Size([10, 256])\n",
      "torch.Size([10, 256]) torch.Size([10, 256])\n",
      "torch.Size([10, 256]) torch.Size([10, 256])\n",
      "torch.Size([10, 256]) torch.Size([10, 256])\n",
      "torch.Size([10, 256]) torch.Size([10, 256])\n",
      "torch.Size([10, 256]) torch.Size([10, 256])\n",
      "torch.Size([10, 256]) torch.Size([10, 256])\n",
      "torch.Size([10, 256]) torch.Size([10, 256])\n",
      "torch.Size([10, 256]) torch.Size([10, 256])\n",
      "torch.Size([10, 256]) torch.Size([10, 256])\n",
      "torch.Size([10, 256]) torch.Size([10, 256])\n",
      "torch.Size([10, 256]) torch.Size([10, 256])\n",
      "torch.Size([10, 256]) torch.Size([10, 256])\n",
      "torch.Size([10, 256]) torch.Size([10, 256])\n",
      "torch.Size([10, 256]) torch.Size([10, 256])\n",
      "torch.Size([10, 256]) torch.Size([10, 256])\n",
      "torch.Size([10, 256]) torch.Size([10, 256])\n",
      "torch.Size([10, 256]) torch.Size([10, 256])\n",
      "torch.Size([10, 256]) torch.Size([10, 256])\n",
      "torch.Size([10, 256]) torch.Size([10, 256])\n",
      "torch.Size([10, 256]) torch.Size([10, 256])\n",
      "torch.Size([10, 256]) torch.Size([10, 256])\n",
      "torch.Size([10, 256]) torch.Size([10, 256])\n",
      "torch.Size([10, 256]) torch.Size([10, 256])\n",
      "torch.Size([10, 256]) torch.Size([10, 256])\n",
      "torch.Size([10, 256]) torch.Size([10, 256])\n",
      "torch.Size([10, 256]) torch.Size([10, 256])\n",
      "torch.Size([10, 256]) torch.Size([10, 256])\n",
      "torch.Size([10, 256]) torch.Size([10, 256])\n",
      "torch.Size([10, 256]) torch.Size([10, 256])\n",
      "torch.Size([10, 256]) torch.Size([10, 256])\n",
      "torch.Size([10, 256]) torch.Size([10, 256])\n",
      "torch.Size([10, 256]) torch.Size([10, 256])\n",
      "torch.Size([10, 256]) torch.Size([10, 256])\n",
      "torch.Size([10, 256]) torch.Size([10, 256])\n",
      "torch.Size([10, 256]) torch.Size([10, 256])\n",
      "torch.Size([10, 256]) torch.Size([10, 256])\n",
      "torch.Size([10, 256]) torch.Size([10, 256])\n",
      "torch.Size([10, 256]) torch.Size([10, 256])\n",
      "torch.Size([10, 256]) torch.Size([10, 256])\n",
      "torch.Size([10, 256]) torch.Size([10, 256])\n",
      "torch.Size([10, 256]) torch.Size([10, 256])\n",
      "torch.Size([10, 256]) torch.Size([10, 256])\n",
      "torch.Size([10, 256]) torch.Size([10, 256])\n",
      "torch.Size([10, 256]) torch.Size([10, 256])\n",
      "torch.Size([10, 256]) torch.Size([10, 256])\n",
      "torch.Size([10, 256]) torch.Size([10, 256])\n",
      "torch.Size([10, 256]) torch.Size([10, 256])\n",
      "torch.Size([10, 256]) torch.Size([10, 256])\n",
      "torch.Size([10, 256]) torch.Size([10, 256])\n",
      "torch.Size([10, 256]) torch.Size([10, 256])\n",
      "torch.Size([10, 256]) torch.Size([10, 256])\n",
      "torch.Size([10, 256]) torch.Size([10, 256])\n",
      "torch.Size([10, 256]) torch.Size([10, 256])\n",
      "torch.Size([10, 256]) torch.Size([10, 256])\n",
      "torch.Size([10, 256]) torch.Size([10, 256])\n",
      "torch.Size([10, 256]) torch.Size([10, 256])\n",
      "torch.Size([10, 256]) torch.Size([10, 256])\n",
      "torch.Size([10, 256]) torch.Size([10, 256])\n",
      "torch.Size([10, 256]) torch.Size([10, 256])\n",
      "torch.Size([10, 256]) torch.Size([10, 256])\n",
      "torch.Size([10, 256]) torch.Size([10, 256])\n",
      "torch.Size([10, 256]) torch.Size([10, 256])\n",
      "torch.Size([10, 256]) torch.Size([10, 256])\n",
      "torch.Size([10, 256]) torch.Size([10, 256])\n",
      "torch.Size([10, 256]) torch.Size([10, 256])\n",
      "torch.Size([10, 256]) torch.Size([10, 256])\n",
      "torch.Size([10, 256]) torch.Size([10, 256])\n",
      "torch.Size([10, 256]) torch.Size([10, 256])\n",
      "torch.Size([10, 256]) torch.Size([10, 256])\n",
      "torch.Size([10, 256]) torch.Size([10, 256])\n",
      "torch.Size([10, 256]) torch.Size([10, 256])\n",
      "torch.Size([10, 256]) torch.Size([10, 256])\n",
      "torch.Size([10, 256]) torch.Size([10, 256])\n",
      "torch.Size([10, 256]) torch.Size([10, 256])\n",
      "torch.Size([10, 256]) torch.Size([10, 256])\n",
      "torch.Size([10, 256]) torch.Size([10, 256])\n",
      "torch.Size([10, 256]) torch.Size([10, 256])\n",
      "torch.Size([10, 256]) torch.Size([10, 256])\n",
      "torch.Size([10, 256]) torch.Size([10, 256])\n",
      "torch.Size([10, 256]) torch.Size([10, 256])\n",
      "torch.Size([10, 256]) torch.Size([10, 256])\n",
      "torch.Size([10, 256]) torch.Size([10, 256])\n",
      "torch.Size([10, 256]) torch.Size([10, 256])\n",
      "torch.Size([10, 256]) torch.Size([10, 256])\n",
      "torch.Size([10, 256]) torch.Size([10, 256])\n",
      "torch.Size([10, 256]) torch.Size([10, 256])\n",
      "torch.Size([10, 256]) torch.Size([10, 256])\n",
      "torch.Size([10, 256]) torch.Size([10, 256])\n",
      "torch.Size([10, 256]) torch.Size([10, 256])\n",
      "torch.Size([10, 256]) torch.Size([10, 256])\n",
      "torch.Size([10, 256]) torch.Size([10, 256])\n",
      "torch.Size([10, 256]) torch.Size([10, 256])\n",
      "torch.Size([10, 256]) torch.Size([10, 256])\n",
      "torch.Size([10, 256]) torch.Size([10, 256])\n",
      "torch.Size([10, 256]) torch.Size([10, 256])\n",
      "torch.Size([10, 256]) torch.Size([10, 256])\n",
      "torch.Size([10, 256]) torch.Size([10, 256])\n",
      "torch.Size([10, 256]) torch.Size([10, 256])\n",
      "torch.Size([10, 256]) torch.Size([10, 256])\n",
      "torch.Size([10, 256]) torch.Size([10, 256])\n",
      "torch.Size([10, 256]) torch.Size([10, 256])\n",
      "torch.Size([10, 256]) torch.Size([10, 256])\n",
      "torch.Size([10, 256]) torch.Size([10, 256])\n",
      "\n",
      "Validation loader:\n",
      "torch.Size([10, 256]) torch.Size([10, 256])\n",
      "torch.Size([10, 256]) torch.Size([10, 256])\n",
      "torch.Size([10, 256]) torch.Size([10, 256])\n",
      "torch.Size([10, 256]) torch.Size([10, 256])\n",
      "torch.Size([10, 256]) torch.Size([10, 256])\n",
      "torch.Size([10, 256]) torch.Size([10, 256])\n",
      "torch.Size([10, 256]) torch.Size([10, 256])\n",
      "torch.Size([10, 256]) torch.Size([10, 256])\n",
      "torch.Size([10, 256]) torch.Size([10, 256])\n",
      "torch.Size([10, 256]) torch.Size([10, 256])\n",
      "torch.Size([10, 256]) torch.Size([10, 256])\n",
      "torch.Size([10, 256]) torch.Size([10, 256])\n",
      "torch.Size([10, 256]) torch.Size([10, 256])\n",
      "torch.Size([10, 256]) torch.Size([10, 256])\n",
      "torch.Size([10, 256]) torch.Size([10, 256])\n",
      "torch.Size([10, 256]) torch.Size([10, 256])\n",
      "torch.Size([10, 256]) torch.Size([10, 256])\n",
      "torch.Size([10, 256]) torch.Size([10, 256])\n",
      "torch.Size([10, 256]) torch.Size([10, 256])\n",
      "torch.Size([10, 256]) torch.Size([10, 256])\n",
      "torch.Size([10, 256]) torch.Size([10, 256])\n",
      "torch.Size([10, 256]) torch.Size([10, 256])\n",
      "torch.Size([10, 256]) torch.Size([10, 256])\n",
      "torch.Size([10, 256]) torch.Size([10, 256])\n",
      "torch.Size([10, 256]) torch.Size([10, 256])\n",
      "torch.Size([10, 256]) torch.Size([10, 256])\n",
      "torch.Size([10, 256]) torch.Size([10, 256])\n",
      "torch.Size([10, 256]) torch.Size([10, 256])\n",
      "torch.Size([10, 256]) torch.Size([10, 256])\n",
      "torch.Size([10, 256]) torch.Size([10, 256])\n",
      "torch.Size([10, 256]) torch.Size([10, 256])\n",
      "torch.Size([10, 256]) torch.Size([10, 256])\n",
      "torch.Size([10, 256]) torch.Size([10, 256])\n",
      "torch.Size([10, 256]) torch.Size([10, 256])\n",
      "torch.Size([10, 256]) torch.Size([10, 256])\n",
      "torch.Size([10, 256]) torch.Size([10, 256])\n",
      "torch.Size([10, 256]) torch.Size([10, 256])\n",
      "torch.Size([10, 256]) torch.Size([10, 256])\n",
      "torch.Size([10, 256]) torch.Size([10, 256])\n",
      "torch.Size([10, 256]) torch.Size([10, 256])\n",
      "torch.Size([10, 256]) torch.Size([10, 256])\n",
      "torch.Size([10, 256]) torch.Size([10, 256])\n",
      "torch.Size([10, 256]) torch.Size([10, 256])\n",
      "torch.Size([10, 256]) torch.Size([10, 256])\n",
      "torch.Size([10, 256]) torch.Size([10, 256])\n",
      "torch.Size([10, 256]) torch.Size([10, 256])\n",
      "torch.Size([10, 256]) torch.Size([10, 256])\n",
      "torch.Size([10, 256]) torch.Size([10, 256])\n",
      "torch.Size([10, 256]) torch.Size([10, 256])\n",
      "torch.Size([10, 256]) torch.Size([10, 256])\n",
      "torch.Size([10, 256]) torch.Size([10, 256])\n",
      "torch.Size([10, 256]) torch.Size([10, 256])\n",
      "torch.Size([10, 256]) torch.Size([10, 256])\n",
      "torch.Size([10, 256]) torch.Size([10, 256])\n",
      "torch.Size([10, 256]) torch.Size([10, 256])\n",
      "torch.Size([10, 256]) torch.Size([10, 256])\n",
      "torch.Size([10, 256]) torch.Size([10, 256])\n",
      "torch.Size([10, 256]) torch.Size([10, 256])\n",
      "torch.Size([10, 256]) torch.Size([10, 256])\n",
      "torch.Size([10, 256]) torch.Size([10, 256])\n",
      "torch.Size([10, 256]) torch.Size([10, 256])\n",
      "torch.Size([10, 256]) torch.Size([10, 256])\n",
      "torch.Size([10, 256]) torch.Size([10, 256])\n",
      "torch.Size([10, 256]) torch.Size([10, 256])\n",
      "torch.Size([10, 256]) torch.Size([10, 256])\n",
      "torch.Size([4, 256]) torch.Size([4, 256])\n",
      "Number of batches in train loader: 586\n",
      "Number of batches in validation loader: 66\n"
     ]
    }
   ],
   "source": [
    "print(\"Train loader:\")\n",
    "for x, y in train_loader:\n",
    "    print(x.shape, y.shape)\n",
    "\n",
    "print(\"\\nValidation loader:\")\n",
    "for x, y in val_loader:\n",
    "    print(x.shape, y.shape)\n",
    "\n",
    "print(\"Number of batches in train loader:\", len(train_loader))\n",
    "print(\"Number of batches in validation loader:\", len(val_loader))\n"
   ]
  },
  {
   "cell_type": "code",
   "execution_count": 99,
   "id": "9f98caf2",
   "metadata": {},
   "outputs": [
    {
     "name": "stdout",
     "output_type": "stream",
     "text": [
      "Training tokens: 1500160\n",
      "Validation tokens: 167424\n",
      "All tokens: 1667584\n"
     ]
    }
   ],
   "source": [
    "train_tokens = 0\n",
    "for x, y in train_loader:\n",
    "    train_tokens += x.numel()\n",
    "\n",
    "val_tokens = 0\n",
    "for x, y in val_loader:\n",
    "    val_tokens += x.numel()\n",
    "\n",
    "print(\"Training tokens:\", train_tokens)\n",
    "print(\"Validation tokens:\", val_tokens)\n",
    "print(\"All tokens:\", train_tokens + val_tokens)"
   ]
  },
  {
   "cell_type": "code",
   "execution_count": 100,
   "id": "52e924a1",
   "metadata": {},
   "outputs": [],
   "source": [
    "def calc_loss_batch(input_batch, target_batch, model, device):\n",
    "    input_batch, target_batch = input_batch.to(device), target_batch.to(device)\n",
    "    logits = model(input_batch)\n",
    "    loss = torch.nn.functional.cross_entropy(logits.flatten(0,1), target_batch.flatten())\n",
    "    return loss\n",
    "\n",
    "def calc_loss_loader(data_loader, model, device, num_batches = None):\n",
    "    total_loss = 0.\n",
    "    if len(data_loader) == 0:\n",
    "        return float(\"nan\")\n",
    "    elif num_batches is None:\n",
    "        num_batches = len(data_loader)\n",
    "    else:\n",
    "        # Reduce the number of batches to match the total number of batches in the data loader\n",
    "        # if num_batches exceeds the number of batches in the data loader\n",
    "        num_batches = min(num_batches, len(data_loader))\n",
    "    \n",
    "    for i, (input_batch, target_batch) in enumerate(data_loader):\n",
    "        if i < num_batches:\n",
    "            loss = calc_loss_batch(input_batch, target_batch, model, device)\n",
    "            total_loss += loss.item()\n",
    "        else:\n",
    "            break\n",
    "    return total_loss / num_batches"
   ]
  },
  {
   "cell_type": "code",
   "execution_count": 101,
   "id": "e506e2f2",
   "metadata": {},
   "outputs": [
    {
     "name": "stdout",
     "output_type": "stream",
     "text": [
      "Using mps device.\n"
     ]
    }
   ],
   "source": [
    "if torch.cuda.is_available():\n",
    "    device = torch.device(\"cuda\")\n",
    "elif torch.backends.mps.is_available():\n",
    "    device = torch.device(\"mps\")\n",
    "else:\n",
    "    device = torch.device(\"cpu\")\n",
    "print(f\"Using {device} device.\")"
   ]
  },
  {
   "cell_type": "code",
   "execution_count": 102,
   "id": "07a7f7f3",
   "metadata": {},
   "outputs": [
    {
     "ename": "KeyboardInterrupt",
     "evalue": "",
     "output_type": "error",
     "traceback": [
      "\u001b[0;31m---------------------------------------------------------------------------\u001b[0m",
      "\u001b[0;31mKeyboardInterrupt\u001b[0m                         Traceback (most recent call last)",
      "Cell \u001b[0;32mIn[102], line 4\u001b[0m\n\u001b[1;32m      1\u001b[0m model \u001b[38;5;241m=\u001b[39m GPTModel(GPT_CONFIG_124M)\u001b[38;5;241m.\u001b[39mto(device)\n\u001b[1;32m      3\u001b[0m \u001b[38;5;28;01mwith\u001b[39;00m torch\u001b[38;5;241m.\u001b[39mno_grad():\n\u001b[0;32m----> 4\u001b[0m     train_loss \u001b[38;5;241m=\u001b[39m calc_loss_loader(train_loader, model, device)\n\u001b[1;32m      5\u001b[0m     val_loss \u001b[38;5;241m=\u001b[39m calc_loss_loader(val_loader, model, device)\n\u001b[1;32m      7\u001b[0m \u001b[38;5;28mprint\u001b[39m(\u001b[38;5;124m\"\u001b[39m\u001b[38;5;124mTraining loss:\u001b[39m\u001b[38;5;124m\"\u001b[39m, train_loss)\n",
      "Cell \u001b[0;32mIn[100], line 21\u001b[0m, in \u001b[0;36mcalc_loss_loader\u001b[0;34m(data_loader, model, device, num_batches)\u001b[0m\n\u001b[1;32m     19\u001b[0m \u001b[38;5;28;01mif\u001b[39;00m i \u001b[38;5;241m<\u001b[39m num_batches:\n\u001b[1;32m     20\u001b[0m     loss \u001b[38;5;241m=\u001b[39m calc_loss_batch(input_batch, target_batch, model, device)\n\u001b[0;32m---> 21\u001b[0m     total_loss \u001b[38;5;241m+\u001b[39m\u001b[38;5;241m=\u001b[39m loss\u001b[38;5;241m.\u001b[39mitem()\n\u001b[1;32m     22\u001b[0m \u001b[38;5;28;01melse\u001b[39;00m:\n\u001b[1;32m     23\u001b[0m     \u001b[38;5;28;01mbreak\u001b[39;00m\n",
      "\u001b[0;31mKeyboardInterrupt\u001b[0m: "
     ]
    }
   ],
   "source": [
    "model = GPTModel(GPT_CONFIG_124M).to(device)\n",
    "\n",
    "with torch.no_grad():\n",
    "    train_loss = calc_loss_loader(train_loader, model, device)\n",
    "    val_loss = calc_loss_loader(val_loader, model, device)\n",
    "\n",
    "print(\"Training loss:\", train_loss)\n",
    "print(\"Validation loss:\", val_loss)"
   ]
  },
  {
   "cell_type": "code",
   "execution_count": 105,
   "id": "42b9799e",
   "metadata": {},
   "outputs": [],
   "source": [
    "def evaluate_model(model, train_loader, val_loader, device, eval_iter):\n",
    "    model.eval()\n",
    "    with torch.no_grad():\n",
    "        train_loss = calc_loss_loader(train_loader, model, device, num_batches=eval_iter)\n",
    "        val_loss = calc_loss_loader(val_loader, model, device, num_batches=eval_iter)\n",
    "    model.train()\n",
    "    return train_loss, val_loss"
   ]
  },
  {
   "cell_type": "code",
   "execution_count": 106,
   "id": "5c11a577",
   "metadata": {},
   "outputs": [],
   "source": [
    "def generate_and_print_sample(model, tokenizer, device, start_context):\n",
    "    model.eval()\n",
    "    context_size = model.pos_emb.weight.shape[0]\n",
    "    encoded = text_to_token_ids(start_context, tokenizer).to(device)\n",
    "    with torch.no_grad():\n",
    "        token_ids = generate_text_simple(\n",
    "            model=model, idx=encoded,\n",
    "            max_new_tokens=50, context_size=context_size\n",
    "        )\n",
    "    decoded_text = token_ids_to_text(token_ids, tokenizer)\n",
    "    print(decoded_text.replace(\"\\n\", \" \"))  # Compact print format\n",
    "    model.train()"
   ]
  },
  {
   "cell_type": "markdown",
   "id": "5a885f24",
   "metadata": {},
   "source": [
    "# TRAINING LOOP FOR THE LLM"
   ]
  },
  {
   "cell_type": "code",
   "execution_count": 107,
   "id": "f0e32363",
   "metadata": {},
   "outputs": [],
   "source": [
    "def train_model_simple(model, train_loader, val_loader, device, optimizer, num_epochs,\n",
    "    eval_freq, eval_iter, start_context,tokenizer):\n",
    "\n",
    "    train_losses, val_losses, track_tokens_seen = [], [], []\n",
    "    tokens_seen, global_step = 0, -1\n",
    "\n",
    "    for epoch in range(num_epochs):\n",
    "        model.train()\n",
    "\n",
    "        for input_batch, target_batch in train_loader:\n",
    "            optimizer.zero_grad()\n",
    "            loss = calc_loss_batch(input_batch, target_batch, model, device)\n",
    "            loss.backward()\n",
    "            optimizer.step()\n",
    "            tokens_seen += input_batch.numel() # Returns the total number of elements (or tokens) in the input_batch.\n",
    "            global_step += 1\n",
    "\n",
    "            if global_step % eval_freq == 0:\n",
    "                train_loss, val_loss = evaluate_model(\n",
    "                    model, train_loader, val_loader, device, eval_iter\n",
    "                )\n",
    "                train_losses.append(train_loss)\n",
    "                val_losses.append(val_loss)\n",
    "                track_tokens_seen.append(tokens_seen)\n",
    "                print(f\"Ep {epoch+1} (Step {global_step:06d}): \"\n",
    "                      f\"Train loss {train_loss:.3f}, Val loss {val_loss:.3f}\")\n",
    "        \n",
    "        generate_and_print_sample(\n",
    "            model, tokenizer, device, start_context\n",
    "        )\n",
    "    \n",
    "    return train_losses, val_losses, track_tokens_seen\n",
    "                \n",
    "            \n",
    "\n",
    "\n",
    "\n"
   ]
  },
  {
   "cell_type": "code",
   "execution_count": 108,
   "id": "a6ef280c",
   "metadata": {},
   "outputs": [
    {
     "name": "stdout",
     "output_type": "stream",
     "text": [
      "Ep 1 (Step 000000): Train loss 10.540, Val loss 10.585\n",
      "Ep 1 (Step 000010): Train loss 8.841, Val loss 8.952\n",
      "Ep 1 (Step 000020): Train loss 8.053, Val loss 8.153\n",
      "Ep 1 (Step 000030): Train loss 7.428, Val loss 7.548\n",
      "Ep 1 (Step 000040): Train loss 6.874, Val loss 7.198\n",
      "Ep 1 (Step 000050): Train loss 6.572, Val loss 6.994\n",
      "Ep 1 (Step 000060): Train loss 6.443, Val loss 6.871\n",
      "Ep 1 (Step 000070): Train loss 6.419, Val loss 6.760\n",
      "Ep 1 (Step 000080): Train loss 6.415, Val loss 6.622\n",
      "Ep 1 (Step 000090): Train loss 6.157, Val loss 6.503\n",
      "Ep 1 (Step 000100): Train loss 5.958, Val loss 6.455\n",
      "Ep 1 (Step 000110): Train loss 6.062, Val loss 6.411\n",
      "Ep 1 (Step 000120): Train loss 6.048, Val loss 6.395\n",
      "Ep 1 (Step 000130): Train loss 5.851, Val loss 6.313\n",
      "Ep 1 (Step 000140): Train loss 5.648, Val loss 6.235\n",
      "Ep 1 (Step 000150): Train loss 5.775, Val loss 6.222\n",
      "Ep 1 (Step 000160): Train loss 5.752, Val loss 6.147\n",
      "Ep 1 (Step 000170): Train loss 5.667, Val loss 6.121\n",
      "Ep 1 (Step 000180): Train loss 5.866, Val loss 6.115\n",
      "Ep 1 (Step 000190): Train loss 5.491, Val loss 6.077\n",
      "Ep 1 (Step 000200): Train loss 5.581, Val loss 6.051\n",
      "Ep 1 (Step 000210): Train loss 5.612, Val loss 6.035\n",
      "Ep 1 (Step 000220): Train loss 5.683, Val loss 6.004\n",
      "Ep 1 (Step 000230): Train loss 5.640, Val loss 5.962\n",
      "Ep 1 (Step 000240): Train loss 5.434, Val loss 5.929\n",
      "Ep 1 (Step 000250): Train loss 5.623, Val loss 5.912\n",
      "Ep 1 (Step 000260): Train loss 5.519, Val loss 5.910\n",
      "Ep 1 (Step 000270): Train loss 5.387, Val loss 5.892\n",
      "Ep 1 (Step 000280): Train loss 5.298, Val loss 5.873\n",
      "Harry potter was stunned the Prime Minister, and the Prime Minister, and the Prime Minister.  \"I think you, and the Prime Minister, and the Prime Minister, and the Prime Minister, and the Prime Minister, and the Prime Minister, and the Prime Minister\n",
      "Ep 2 (Step 000290): Train loss 5.274, Val loss 5.861\n",
      "Ep 2 (Step 000300): Train loss 5.222, Val loss 5.833\n",
      "Ep 2 (Step 000310): Train loss 5.268, Val loss 5.825\n",
      "Ep 2 (Step 000320): Train loss 5.241, Val loss 5.825\n",
      "Ep 2 (Step 000330): Train loss 5.140, Val loss 5.803\n",
      "Ep 2 (Step 000340): Train loss 5.176, Val loss 5.766\n",
      "Ep 2 (Step 000350): Train loss 5.236, Val loss 5.776\n",
      "Ep 2 (Step 000360): Train loss 5.092, Val loss 5.732\n",
      "Ep 2 (Step 000370): Train loss 5.200, Val loss 5.722\n",
      "Ep 2 (Step 000380): Train loss 4.933, Val loss 5.727\n",
      "Ep 2 (Step 000390): Train loss 5.053, Val loss 5.696\n",
      "Ep 2 (Step 000400): Train loss 5.033, Val loss 5.686\n",
      "Ep 2 (Step 000410): Train loss 4.907, Val loss 5.673\n",
      "Ep 2 (Step 000420): Train loss 4.982, Val loss 5.687\n",
      "Ep 2 (Step 000430): Train loss 5.077, Val loss 5.691\n",
      "Ep 2 (Step 000440): Train loss 5.010, Val loss 5.659\n",
      "Ep 2 (Step 000450): Train loss 4.973, Val loss 5.614\n",
      "Ep 2 (Step 000460): Train loss 4.957, Val loss 5.625\n",
      "Ep 2 (Step 000470): Train loss 4.948, Val loss 5.603\n",
      "Ep 2 (Step 000480): Train loss 5.023, Val loss 5.573\n",
      "Ep 2 (Step 000490): Train loss 4.942, Val loss 5.573\n",
      "Ep 2 (Step 000500): Train loss 4.804, Val loss 5.581\n",
      "Ep 2 (Step 000510): Train loss 4.842, Val loss 5.581\n",
      "Ep 2 (Step 000520): Train loss 4.724, Val loss 5.560\n",
      "Ep 2 (Step 000530): Train loss 4.578, Val loss 5.561\n",
      "Ep 2 (Step 000540): Train loss 4.725, Val loss 5.525\n",
      "Ep 2 (Step 000550): Train loss 4.733, Val loss 5.505\n",
      "Ep 2 (Step 000560): Train loss 4.823, Val loss 5.511\n",
      "Ep 2 (Step 000570): Train loss 4.726, Val loss 5.515\n",
      "Harry potter was stunned.  \"No,\" said Harry, I am sure that you have been able to the Dark Lord Voldemort's not to the door.  \"I'm not have been a few of the Dark Lord Voldemort's not to the door. \n",
      "Ep 3 (Step 000580): Train loss 4.912, Val loss 5.507\n",
      "Ep 3 (Step 000590): Train loss 4.705, Val loss 5.504\n",
      "Ep 3 (Step 000600): Train loss 4.652, Val loss 5.481\n",
      "Ep 3 (Step 000610): Train loss 4.521, Val loss 5.488\n",
      "Ep 3 (Step 000620): Train loss 4.617, Val loss 5.489\n",
      "Ep 3 (Step 000630): Train loss 4.677, Val loss 5.499\n",
      "Ep 3 (Step 000640): Train loss 4.678, Val loss 5.493\n",
      "Ep 3 (Step 000650): Train loss 4.689, Val loss 5.475\n",
      "Ep 3 (Step 000660): Train loss 4.586, Val loss 5.466\n",
      "Ep 3 (Step 000670): Train loss 4.519, Val loss 5.455\n",
      "Ep 3 (Step 000680): Train loss 4.493, Val loss 5.462\n",
      "Ep 3 (Step 000690): Train loss 4.607, Val loss 5.452\n",
      "Ep 3 (Step 000700): Train loss 4.522, Val loss 5.443\n",
      "Ep 3 (Step 000710): Train loss 4.621, Val loss 5.431\n",
      "Ep 3 (Step 000720): Train loss 4.554, Val loss 5.419\n",
      "Ep 3 (Step 000730): Train loss 4.455, Val loss 5.428\n",
      "Ep 3 (Step 000740): Train loss 4.338, Val loss 5.422\n",
      "Ep 3 (Step 000750): Train loss 4.466, Val loss 5.425\n",
      "Ep 3 (Step 000760): Train loss 4.453, Val loss 5.401\n",
      "Ep 3 (Step 000770): Train loss 4.449, Val loss 5.384\n",
      "Ep 3 (Step 000780): Train loss 4.333, Val loss 5.387\n",
      "Ep 3 (Step 000790): Train loss 4.475, Val loss 5.377\n",
      "Ep 3 (Step 000800): Train loss 4.460, Val loss 5.376\n",
      "Ep 3 (Step 000810): Train loss 4.534, Val loss 5.370\n",
      "Ep 3 (Step 000820): Train loss 4.409, Val loss 5.371\n",
      "Ep 3 (Step 000830): Train loss 4.366, Val loss 5.372\n",
      "Ep 3 (Step 000840): Train loss 4.509, Val loss 5.342\n",
      "Ep 3 (Step 000850): Train loss 4.432, Val loss 5.358\n",
      "Ep 3 (Step 000860): Train loss 4.391, Val loss 5.346\n",
      "Harry potter was stunned. \"I am,\" said Harry. \"I'm going to do you, I've got a moment, I am sure you, I've got a moment, I am not to be a little, I've got to be a little-\n",
      "Ep 4 (Step 000870): Train loss 4.219, Val loss 5.353\n",
      "Ep 4 (Step 000880): Train loss 4.313, Val loss 5.346\n",
      "Ep 4 (Step 000890): Train loss 4.364, Val loss 5.342\n",
      "Ep 4 (Step 000900): Train loss 4.339, Val loss 5.342\n",
      "Ep 4 (Step 000910): Train loss 4.272, Val loss 5.351\n",
      "Ep 4 (Step 000920): Train loss 4.148, Val loss 5.341\n",
      "Ep 4 (Step 000930): Train loss 4.262, Val loss 5.350\n",
      "Ep 4 (Step 000940): Train loss 4.123, Val loss 5.353\n",
      "Ep 4 (Step 000950): Train loss 4.200, Val loss 5.356\n",
      "Ep 4 (Step 000960): Train loss 4.177, Val loss 5.329\n",
      "Ep 4 (Step 000970): Train loss 4.025, Val loss 5.337\n",
      "Ep 4 (Step 000980): Train loss 4.062, Val loss 5.320\n",
      "Ep 4 (Step 000990): Train loss 4.094, Val loss 5.334\n",
      "Ep 4 (Step 001000): Train loss 4.274, Val loss 5.323\n",
      "Ep 4 (Step 001010): Train loss 4.116, Val loss 5.330\n",
      "Ep 4 (Step 001020): Train loss 4.194, Val loss 5.306\n",
      "Ep 4 (Step 001030): Train loss 4.100, Val loss 5.296\n",
      "Ep 4 (Step 001040): Train loss 4.149, Val loss 5.287\n",
      "Ep 4 (Step 001050): Train loss 4.117, Val loss 5.295\n",
      "Ep 4 (Step 001060): Train loss 4.080, Val loss 5.307\n",
      "Ep 4 (Step 001070): Train loss 4.010, Val loss 5.318\n",
      "Ep 4 (Step 001080): Train loss 3.948, Val loss 5.297\n",
      "Ep 4 (Step 001090): Train loss 4.016, Val loss 5.314\n",
      "Ep 4 (Step 001100): Train loss 4.061, Val loss 5.296\n",
      "Ep 4 (Step 001110): Train loss 3.962, Val loss 5.295\n",
      "Ep 4 (Step 001120): Train loss 3.996, Val loss 5.303\n",
      "Ep 4 (Step 001130): Train loss 3.876, Val loss 5.288\n",
      "Ep 4 (Step 001140): Train loss 3.909, Val loss 5.272\n",
      "Ep 4 (Step 001150): Train loss 3.940, Val loss 5.278\n",
      "Harry potter was stunned, and the room, and the room, and the room was a little bottle of the room.  \"I'm going to the room,\" said Dumbledore, \"I'm going to the other hand, \"I'm not want to the other\n",
      "Ep 5 (Step 001160): Train loss 4.025, Val loss 5.292\n",
      "Ep 5 (Step 001170): Train loss 3.847, Val loss 5.277\n",
      "Ep 5 (Step 001180): Train loss 3.912, Val loss 5.278\n",
      "Ep 5 (Step 001190): Train loss 3.962, Val loss 5.271\n",
      "Ep 5 (Step 001200): Train loss 3.888, Val loss 5.272\n",
      "Ep 5 (Step 001210): Train loss 3.825, Val loss 5.280\n",
      "Ep 5 (Step 001220): Train loss 3.934, Val loss 5.280\n",
      "Ep 5 (Step 001230): Train loss 3.917, Val loss 5.262\n",
      "Ep 5 (Step 001240): Train loss 3.906, Val loss 5.266\n",
      "Ep 5 (Step 001250): Train loss 3.852, Val loss 5.275\n",
      "Ep 5 (Step 001260): Train loss 3.733, Val loss 5.293\n",
      "Ep 5 (Step 001270): Train loss 3.806, Val loss 5.276\n",
      "Ep 5 (Step 001280): Train loss 3.804, Val loss 5.290\n",
      "Ep 5 (Step 001290): Train loss 3.877, Val loss 5.280\n",
      "Ep 5 (Step 001300): Train loss 3.718, Val loss 5.263\n",
      "Ep 5 (Step 001310): Train loss 3.740, Val loss 5.279\n",
      "Ep 5 (Step 001320): Train loss 3.635, Val loss 5.285\n",
      "Ep 5 (Step 001330): Train loss 3.784, Val loss 5.283\n",
      "Ep 5 (Step 001340): Train loss 3.705, Val loss 5.270\n",
      "Ep 5 (Step 001350): Train loss 3.723, Val loss 5.263\n",
      "Ep 5 (Step 001360): Train loss 3.681, Val loss 5.259\n",
      "Ep 5 (Step 001370): Train loss 3.685, Val loss 5.266\n",
      "Ep 5 (Step 001380): Train loss 3.691, Val loss 5.289\n",
      "Ep 5 (Step 001390): Train loss 3.619, Val loss 5.277\n",
      "Ep 5 (Step 001400): Train loss 3.658, Val loss 5.265\n",
      "Ep 5 (Step 001410): Train loss 3.657, Val loss 5.269\n",
      "Ep 5 (Step 001420): Train loss 3.525, Val loss 5.272\n",
      "Ep 5 (Step 001430): Train loss 3.646, Val loss 5.265\n",
      "Ep 5 (Step 001440): Train loss 3.581, Val loss 5.261\n",
      "Harry potter was stunned to be able to be a few of the room.     \"I don't know what?\" said Harry, as I don't know what I don't have to be a few of course, but I'm going to be a\n",
      "Ep 6 (Step 001450): Train loss 3.555, Val loss 5.251\n",
      "Ep 6 (Step 001460): Train loss 3.545, Val loss 5.246\n",
      "Ep 6 (Step 001470): Train loss 3.625, Val loss 5.257\n",
      "Ep 6 (Step 001480): Train loss 3.558, Val loss 5.278\n",
      "Ep 6 (Step 001490): Train loss 3.517, Val loss 5.276\n",
      "Ep 6 (Step 001500): Train loss 3.431, Val loss 5.306\n",
      "Ep 6 (Step 001510): Train loss 3.310, Val loss 5.291\n",
      "Ep 6 (Step 001520): Train loss 3.424, Val loss 5.303\n",
      "Ep 6 (Step 001530): Train loss 3.554, Val loss 5.284\n",
      "Ep 6 (Step 001540): Train loss 3.587, Val loss 5.300\n",
      "Ep 6 (Step 001550): Train loss 3.406, Val loss 5.312\n",
      "Ep 6 (Step 001560): Train loss 3.471, Val loss 5.324\n",
      "Ep 6 (Step 001570): Train loss 3.422, Val loss 5.294\n",
      "Ep 6 (Step 001580): Train loss 3.504, Val loss 5.291\n",
      "Ep 6 (Step 001590): Train loss 3.347, Val loss 5.289\n",
      "Ep 6 (Step 001600): Train loss 3.377, Val loss 5.288\n",
      "Ep 6 (Step 001610): Train loss 3.434, Val loss 5.310\n",
      "Ep 6 (Step 001620): Train loss 3.310, Val loss 5.304\n",
      "Ep 6 (Step 001630): Train loss 3.270, Val loss 5.289\n",
      "Ep 6 (Step 001640): Train loss 3.342, Val loss 5.291\n",
      "Ep 6 (Step 001650): Train loss 3.325, Val loss 5.292\n",
      "Ep 6 (Step 001660): Train loss 3.381, Val loss 5.279\n",
      "Ep 6 (Step 001670): Train loss 3.208, Val loss 5.288\n",
      "Ep 6 (Step 001680): Train loss 3.228, Val loss 5.288\n",
      "Ep 6 (Step 001690): Train loss 3.426, Val loss 5.279\n",
      "Ep 6 (Step 001700): Train loss 3.273, Val loss 5.273\n",
      "Ep 6 (Step 001710): Train loss 3.168, Val loss 5.281\n",
      "Ep 6 (Step 001720): Train loss 3.233, Val loss 5.293\n",
      "Ep 6 (Step 001730): Train loss 3.204, Val loss 5.295\n",
      "Harry potter was stunned; he could see the door. \"I'm sorry, I'm sure, I'm not know, I'm sure, I'm not have been a moment, I'm sure, I'm sure, I'm sure, I'm not to\n",
      "Ep 7 (Step 001740): Train loss 3.194, Val loss 5.297\n",
      "Ep 7 (Step 001750): Train loss 3.103, Val loss 5.300\n",
      "Ep 7 (Step 001760): Train loss 3.057, Val loss 5.315\n",
      "Ep 7 (Step 001770): Train loss 3.135, Val loss 5.327\n",
      "Ep 7 (Step 001780): Train loss 3.050, Val loss 5.340\n",
      "Ep 7 (Step 001790): Train loss 2.985, Val loss 5.328\n",
      "Ep 7 (Step 001800): Train loss 3.063, Val loss 5.337\n",
      "Ep 7 (Step 001810): Train loss 3.041, Val loss 5.312\n",
      "Ep 7 (Step 001820): Train loss 3.079, Val loss 5.331\n",
      "Ep 7 (Step 001830): Train loss 3.035, Val loss 5.347\n",
      "Ep 7 (Step 001840): Train loss 2.970, Val loss 5.339\n",
      "Ep 7 (Step 001850): Train loss 3.014, Val loss 5.348\n",
      "Ep 7 (Step 001860): Train loss 3.040, Val loss 5.348\n",
      "Ep 7 (Step 001870): Train loss 3.035, Val loss 5.359\n",
      "Ep 7 (Step 001880): Train loss 2.863, Val loss 5.356\n",
      "Ep 7 (Step 001890): Train loss 2.976, Val loss 5.351\n",
      "Ep 7 (Step 001900): Train loss 3.000, Val loss 5.358\n",
      "Ep 7 (Step 001910): Train loss 2.905, Val loss 5.361\n",
      "Ep 7 (Step 001920): Train loss 2.838, Val loss 5.336\n",
      "Ep 7 (Step 001930): Train loss 2.911, Val loss 5.360\n",
      "Ep 7 (Step 001940): Train loss 2.777, Val loss 5.354\n",
      "Ep 7 (Step 001950): Train loss 2.792, Val loss 5.379\n",
      "Ep 7 (Step 001960): Train loss 2.897, Val loss 5.373\n",
      "Ep 7 (Step 001970): Train loss 2.820, Val loss 5.382\n",
      "Ep 7 (Step 001980): Train loss 2.832, Val loss 5.368\n",
      "Ep 7 (Step 001990): Train loss 2.743, Val loss 5.353\n",
      "Ep 7 (Step 002000): Train loss 2.853, Val loss 5.371\n",
      "Ep 7 (Step 002010): Train loss 2.676, Val loss 5.350\n",
      "Ep 7 (Step 002020): Train loss 2.732, Val loss 5.353\n",
      "Harry potter was stunned; he could be a very long time to see Dumbledore's been able to be able to be an hour. He was a very long-Making.  \"I don't have?\" said Harry, but he had been able to be in the\n",
      "Ep 8 (Step 002030): Train loss 2.644, Val loss 5.404\n",
      "Ep 8 (Step 002040): Train loss 2.750, Val loss 5.403\n",
      "Ep 8 (Step 002050): Train loss 2.649, Val loss 5.422\n",
      "Ep 8 (Step 002060): Train loss 2.678, Val loss 5.429\n",
      "Ep 8 (Step 002070): Train loss 2.619, Val loss 5.416\n",
      "Ep 8 (Step 002080): Train loss 2.640, Val loss 5.424\n",
      "Ep 8 (Step 002090): Train loss 2.639, Val loss 5.450\n",
      "Ep 8 (Step 002100): Train loss 2.588, Val loss 5.452\n",
      "Ep 8 (Step 002110): Train loss 2.525, Val loss 5.450\n",
      "Ep 8 (Step 002120): Train loss 2.645, Val loss 5.474\n",
      "Ep 8 (Step 002130): Train loss 2.473, Val loss 5.470\n",
      "Ep 8 (Step 002140): Train loss 2.607, Val loss 5.470\n",
      "Ep 8 (Step 002150): Train loss 2.475, Val loss 5.483\n",
      "Ep 8 (Step 002160): Train loss 2.459, Val loss 5.486\n",
      "Ep 8 (Step 002170): Train loss 2.384, Val loss 5.481\n",
      "Ep 8 (Step 002180): Train loss 2.466, Val loss 5.498\n",
      "Ep 8 (Step 002190): Train loss 2.466, Val loss 5.501\n",
      "Ep 8 (Step 002200): Train loss 2.408, Val loss 5.522\n",
      "Ep 8 (Step 002210): Train loss 2.461, Val loss 5.521\n",
      "Ep 8 (Step 002220): Train loss 2.423, Val loss 5.518\n",
      "Ep 8 (Step 002230): Train loss 2.450, Val loss 5.496\n",
      "Ep 8 (Step 002240): Train loss 2.413, Val loss 5.502\n",
      "Ep 8 (Step 002250): Train loss 2.395, Val loss 5.498\n",
      "Ep 8 (Step 002260): Train loss 2.383, Val loss 5.502\n",
      "Ep 8 (Step 002270): Train loss 2.397, Val loss 5.506\n",
      "Ep 8 (Step 002280): Train loss 2.288, Val loss 5.500\n",
      "Ep 8 (Step 002290): Train loss 2.317, Val loss 5.502\n",
      "Ep 8 (Step 002300): Train loss 2.321, Val loss 5.482\n",
      "Ep 8 (Step 002310): Train loss 2.221, Val loss 5.479\n",
      "Harry potter was stunned; he could reach him into the castle to see what looked like that was as though Harry's face.     \"I don't know what I don't know what's got a few of my dear boy, I'm sorry,\n",
      "Ep 9 (Step 002320): Train loss 2.209, Val loss 5.515\n",
      "Ep 9 (Step 002330): Train loss 2.300, Val loss 5.538\n",
      "Ep 9 (Step 002340): Train loss 2.296, Val loss 5.549\n",
      "Ep 9 (Step 002350): Train loss 2.150, Val loss 5.569\n",
      "Ep 9 (Step 002360): Train loss 2.174, Val loss 5.590\n",
      "Ep 9 (Step 002370): Train loss 2.173, Val loss 5.606\n",
      "Ep 9 (Step 002380): Train loss 2.135, Val loss 5.623\n",
      "Ep 9 (Step 002390): Train loss 2.013, Val loss 5.615\n",
      "Ep 9 (Step 002400): Train loss 2.144, Val loss 5.626\n",
      "Ep 9 (Step 002410): Train loss 2.137, Val loss 5.617\n",
      "Ep 9 (Step 002420): Train loss 2.144, Val loss 5.651\n",
      "Ep 9 (Step 002430): Train loss 2.009, Val loss 5.622\n",
      "Ep 9 (Step 002440): Train loss 2.119, Val loss 5.616\n",
      "Ep 9 (Step 002450): Train loss 1.973, Val loss 5.651\n",
      "Ep 9 (Step 002460): Train loss 2.061, Val loss 5.660\n",
      "Ep 9 (Step 002470): Train loss 2.012, Val loss 5.672\n",
      "Ep 9 (Step 002480): Train loss 1.924, Val loss 5.650\n",
      "Ep 9 (Step 002490): Train loss 1.959, Val loss 5.673\n",
      "Ep 9 (Step 002500): Train loss 1.912, Val loss 5.665\n",
      "Ep 9 (Step 002510): Train loss 1.927, Val loss 5.672\n",
      "Ep 9 (Step 002520): Train loss 1.860, Val loss 5.646\n",
      "Ep 9 (Step 002530): Train loss 1.853, Val loss 5.671\n",
      "Ep 9 (Step 002540): Train loss 1.814, Val loss 5.672\n",
      "Ep 9 (Step 002550): Train loss 1.894, Val loss 5.656\n",
      "Ep 9 (Step 002560): Train loss 1.868, Val loss 5.674\n",
      "Ep 9 (Step 002570): Train loss 1.839, Val loss 5.676\n",
      "Ep 9 (Step 002580): Train loss 1.830, Val loss 5.678\n",
      "Ep 9 (Step 002590): Train loss 1.824, Val loss 5.678\n",
      "Ep 9 (Step 002600): Train loss 1.825, Val loss 5.680\n",
      "Harry potter was stunned of his head.  \"I am sure that Dumbledore has been a very long time.  \"I thought you are you are, sir,\" said Dumbledore, \"I have been in my office at the Ministry.\"  He was as\n",
      "Ep 10 (Step 002610): Train loss 1.810, Val loss 5.713\n",
      "Ep 10 (Step 002620): Train loss 1.802, Val loss 5.740\n",
      "Ep 10 (Step 002630): Train loss 1.700, Val loss 5.774\n",
      "Ep 10 (Step 002640): Train loss 1.612, Val loss 5.792\n",
      "Ep 10 (Step 002650): Train loss 1.673, Val loss 5.785\n",
      "Ep 10 (Step 002660): Train loss 1.685, Val loss 5.787\n",
      "Ep 10 (Step 002670): Train loss 1.664, Val loss 5.795\n",
      "Ep 10 (Step 002680): Train loss 1.716, Val loss 5.791\n",
      "Ep 10 (Step 002690): Train loss 1.705, Val loss 5.825\n",
      "Ep 10 (Step 002700): Train loss 1.613, Val loss 5.847\n",
      "Ep 10 (Step 002710): Train loss 1.625, Val loss 5.809\n",
      "Ep 10 (Step 002720): Train loss 1.625, Val loss 5.843\n",
      "Ep 10 (Step 002730): Train loss 1.693, Val loss 5.835\n",
      "Ep 10 (Step 002740): Train loss 1.553, Val loss 5.874\n",
      "Ep 10 (Step 002750): Train loss 1.591, Val loss 5.819\n",
      "Ep 10 (Step 002760): Train loss 1.629, Val loss 5.859\n",
      "Ep 10 (Step 002770): Train loss 1.596, Val loss 5.874\n",
      "Ep 10 (Step 002780): Train loss 1.567, Val loss 5.848\n",
      "Ep 10 (Step 002790): Train loss 1.599, Val loss 5.868\n",
      "Ep 10 (Step 002800): Train loss 1.484, Val loss 5.868\n",
      "Ep 10 (Step 002810): Train loss 1.502, Val loss 5.857\n",
      "Ep 10 (Step 002820): Train loss 1.463, Val loss 5.885\n",
      "Ep 10 (Step 002830): Train loss 1.487, Val loss 5.858\n",
      "Ep 10 (Step 002840): Train loss 1.466, Val loss 5.863\n",
      "Ep 10 (Step 002850): Train loss 1.481, Val loss 5.879\n",
      "Ep 10 (Step 002860): Train loss 1.463, Val loss 5.877\n",
      "Ep 10 (Step 002870): Train loss 1.448, Val loss 5.850\n",
      "Ep 10 (Step 002880): Train loss 1.455, Val loss 5.888\n",
      "Harry potter was stunned into the room of a large and watery drizzle, and Hermi-one could not suppress the open. Harry's face, and saw the slightest, then had been seen in his hand.  \"So how are you see, I\n",
      "Training completed in 39.77 minutes.\n"
     ]
    }
   ],
   "source": [
    "import time\n",
    "start_time = time.time()\n",
    "\n",
    "torch.manual_seed(123)\n",
    "\n",
    "model = GPTModel(GPT_CONFIG_124M).to(device)\n",
    "optimizer = torch.optim.AdamW(model.parameters(), lr=1e-4, weight_decay=1e-2)\n",
    "\n",
    "num_epochs = 10\n",
    "\n",
    "train_losses, val_losses, track_tokens_seen = train_model_simple(\n",
    "    model, train_loader, val_loader, device, num_epochs = num_epochs,\n",
    "    optimizer = optimizer, eval_freq = 10, eval_iter = 10,\n",
    "    start_context = \"Harry potter was stunned\", tokenizer = tokenizer\n",
    ")\n",
    "\n",
    "end_time = time.time()\n",
    "execution_time_minutes = (end_time - start_time) / 60\n",
    "print(f\"Training completed in {execution_time_minutes:.2f} minutes.\")\n"
   ]
  },
  {
   "cell_type": "code",
   "execution_count": 111,
   "id": "06decc3f",
   "metadata": {},
   "outputs": [
    {
     "name": "stdout",
     "output_type": "stream",
     "text": [
      "Train Perplexity: 4.283, Val Perplexity: 360.753\n"
     ]
    }
   ],
   "source": [
    "import math\n",
    "\n",
    "train_perplexity = math.exp(train_losses[-1])\n",
    "val_perplexity = math.exp(val_losses[-1])\n",
    "\n",
    "print(f\"Train Perplexity: {train_perplexity:.3f}, Val Perplexity: {val_perplexity:.3f}\")\n"
   ]
  },
  {
   "cell_type": "code",
   "execution_count": 103,
   "id": "e957b1b8",
   "metadata": {},
   "outputs": [
    {
     "ename": "NameError",
     "evalue": "name 'num_epochs' is not defined",
     "output_type": "error",
     "traceback": [
      "\u001b[0;31m---------------------------------------------------------------------------\u001b[0m",
      "\u001b[0;31mNameError\u001b[0m                                 Traceback (most recent call last)",
      "Cell \u001b[0;32mIn[103], line 25\u001b[0m\n\u001b[1;32m     22\u001b[0m     plt\u001b[38;5;241m.\u001b[39msavefig(\u001b[38;5;124m\"\u001b[39m\u001b[38;5;124mloss-plot.pdf\u001b[39m\u001b[38;5;124m\"\u001b[39m)\n\u001b[1;32m     23\u001b[0m     plt\u001b[38;5;241m.\u001b[39mshow()\n\u001b[0;32m---> 25\u001b[0m epochs_tensor \u001b[38;5;241m=\u001b[39m torch\u001b[38;5;241m.\u001b[39mlinspace(\u001b[38;5;241m0\u001b[39m, num_epochs, \u001b[38;5;28mlen\u001b[39m(train_losses))\n\u001b[1;32m     26\u001b[0m plot_losses(epochs_tensor, track_tokens_seen, train_losses, val_losses)\n",
      "\u001b[0;31mNameError\u001b[0m: name 'num_epochs' is not defined"
     ]
    }
   ],
   "source": [
    "import matplotlib.pyplot as plt\n",
    "from matplotlib.ticker import MaxNLocator\n",
    "\n",
    "\n",
    "def plot_losses(epochs_seen, tokens_seen, train_losses, val_losses):\n",
    "    fig, ax1 = plt.subplots(figsize=(5, 3))\n",
    "\n",
    "    # Plot training and validation loss against epochs\n",
    "    ax1.plot(epochs_seen, train_losses, label=\"Training loss\")\n",
    "    ax1.plot(epochs_seen, val_losses, linestyle=\"-.\", label=\"Validation loss\")\n",
    "    ax1.set_xlabel(\"Epochs\")\n",
    "    ax1.set_ylabel(\"Loss\")\n",
    "    ax1.legend(loc=\"upper right\")\n",
    "    ax1.xaxis.set_major_locator(MaxNLocator(integer=True))  # only show integer labels on x-axis\n",
    "\n",
    "    # Create a second x-axis for tokens seen\n",
    "    ax2 = ax1.twiny()  # Create a second x-axis that shares the same y-axis\n",
    "    ax2.plot(tokens_seen, train_losses, alpha=0)  # Invisible plot for aligning ticks\n",
    "    ax2.set_xlabel(\"Tokens seen\")\n",
    "\n",
    "    fig.tight_layout()  # Adjust layout to make room\n",
    "    plt.savefig(\"loss-plot.pdf\")\n",
    "    plt.show()\n",
    "\n",
    "epochs_tensor = torch.linspace(0, num_epochs, len(train_losses))\n",
    "plot_losses(epochs_tensor, track_tokens_seen, train_losses, val_losses)"
   ]
  },
  {
   "cell_type": "code",
   "execution_count": null,
   "id": "ea496dc6",
   "metadata": {},
   "outputs": [],
   "source": []
  }
 ],
 "metadata": {
  "kernelspec": {
   "display_name": "base",
   "language": "python",
   "name": "python3"
  },
  "language_info": {
   "codemirror_mode": {
    "name": "ipython",
    "version": 3
   },
   "file_extension": ".py",
   "mimetype": "text/x-python",
   "name": "python",
   "nbconvert_exporter": "python",
   "pygments_lexer": "ipython3",
   "version": "3.12.2"
  }
 },
 "nbformat": 4,
 "nbformat_minor": 5
}
