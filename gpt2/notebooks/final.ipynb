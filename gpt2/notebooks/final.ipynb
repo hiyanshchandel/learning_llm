{
 "cells": [
  {
   "cell_type": "markdown",
   "id": "f7ab332f",
   "metadata": {},
   "source": [
    "## TOKEN EMBEDDINGS\n"
   ]
  },
  {
   "cell_type": "markdown",
   "id": "4ffea184",
   "metadata": {},
   "source": [
    "![Screenshot](images/screenshot1.png)\n"
   ]
  },
  {
   "cell_type": "markdown",
   "id": "2e3d0f85",
   "metadata": {},
   "source": [
    "a well trained embedding can capture significant syntactical information"
   ]
  },
  {
   "cell_type": "markdown",
   "id": "19969981",
   "metadata": {},
   "source": [
    "<div class=\"alert alert-block alert-success\">\n",
    "    \n",
    "Let's illustrate how the token ID to embedding vector conversion works with a hands-on\n",
    "example. Suppose we have the following four input tokens with IDs 2, 3, 5, and 1:</div>"
   ]
  },
  {
   "cell_type": "code",
   "execution_count": 13,
   "id": "952d6baa",
   "metadata": {
    "execution": {
     "iopub.execute_input": "2025-06-07T03:05:07.588337Z",
     "iopub.status.busy": "2025-06-07T03:05:07.587588Z",
     "iopub.status.idle": "2025-06-07T03:05:07.591897Z",
     "shell.execute_reply": "2025-06-07T03:05:07.591278Z",
     "shell.execute_reply.started": "2025-06-07T03:05:07.588315Z"
    },
    "trusted": true
   },
   "outputs": [],
   "source": [
    "import torch\n",
    "input_ids = torch.tensor([1, 2, 3, 4, 5])"
   ]
  },
  {
   "cell_type": "markdown",
   "id": "cc6e47a2",
   "metadata": {},
   "source": [
    "<div class=\"alert alert-block alert-success\">\n",
    "    \n",
    "For the sake of simplicity and illustration purposes, suppose we have a small vocabulary of\n",
    "only 6 words (instead of the 50,257 words in the BPE tokenizer vocabulary), and we want\n",
    "to create embeddings of size 3 (in GPT-3, the embedding size is 12,288 dimensions):\n",
    "\n",
    "</div>"
   ]
  },
  {
   "cell_type": "markdown",
   "id": "64ffae68",
   "metadata": {},
   "source": [
    "<div class=\"alert alert-block alert-success\">\n",
    "    \n",
    "Using the vocab_size and output_dim, we can instantiate an embedding layer in PyTorch,\n",
    "setting the random seed to 123 for reproducibility purposes:\n",
    "\n",
    "</div>"
   ]
  },
  {
   "cell_type": "code",
   "execution_count": 14,
   "id": "fb058f33",
   "metadata": {
    "execution": {
     "iopub.execute_input": "2025-06-07T03:05:07.593400Z",
     "iopub.status.busy": "2025-06-07T03:05:07.593158Z",
     "iopub.status.idle": "2025-06-07T03:05:07.612908Z",
     "shell.execute_reply": "2025-06-07T03:05:07.612145Z",
     "shell.execute_reply.started": "2025-06-07T03:05:07.593380Z"
    },
    "trusted": true
   },
   "outputs": [],
   "source": [
    "vocab_size = 6\n",
    "output_dim = 4\n",
    "torch.manual_seed(123)\n",
    "embedding_layer = torch.nn.Embedding(vocab_size,output_dim)"
   ]
  },
  {
   "cell_type": "code",
   "execution_count": 15,
   "id": "c8e46182",
   "metadata": {
    "execution": {
     "iopub.execute_input": "2025-06-07T03:05:07.614250Z",
     "iopub.status.busy": "2025-06-07T03:05:07.613971Z",
     "iopub.status.idle": "2025-06-07T03:05:07.630701Z",
     "shell.execute_reply": "2025-06-07T03:05:07.629859Z",
     "shell.execute_reply.started": "2025-06-07T03:05:07.614227Z"
    },
    "trusted": true
   },
   "outputs": [
    {
     "data": {
      "text/plain": [
       "Parameter containing:\n",
       "tensor([[ 0.3374, -0.1778, -0.3035, -0.5880],\n",
       "        [ 0.3486,  0.6603, -0.2196, -0.3792],\n",
       "        [-0.1606, -0.4015,  0.6957, -1.8061],\n",
       "        [ 1.8960, -0.1750,  1.3689, -1.6033],\n",
       "        [-0.7849, -1.4096, -0.4076,  0.7953],\n",
       "        [ 0.9985,  0.2212,  1.8319, -0.3378]], requires_grad=True)"
      ]
     },
     "execution_count": 15,
     "metadata": {},
     "output_type": "execute_result"
    }
   ],
   "source": [
    "embedding_layer.weight"
   ]
  },
  {
   "cell_type": "markdown",
   "id": "ba2b4bea",
   "metadata": {},
   "source": [
    "<div class=\"alert alert-block alert-info\">\n",
    "    \n",
    "We can see that the weight matrix of the embedding layer contains small, random values.\n",
    "These values are optimized during LLM training as part of the LLM optimization itself, as we\n",
    "will see in upcoming chapters. Moreover, we can see that the weight matrix has six rows\n",
    "and three columns. There is one row for each of the six possible tokens in the vocabulary.\n",
    "And there is one column for each of the three embedding dimensions.\n",
    "    \n",
    "</div>"
   ]
  },
  {
   "cell_type": "markdown",
   "id": "9e9df96b",
   "metadata": {},
   "source": [
    "<div class=\"alert alert-block alert-success\">\n",
    "    \n",
    "After we instantiated the embedding layer, let's now apply it to a token ID to obtain the\n",
    "embedding vector:\n",
    "\n",
    "</div>"
   ]
  },
  {
   "cell_type": "code",
   "execution_count": 16,
   "id": "ff52f679",
   "metadata": {
    "execution": {
     "iopub.execute_input": "2025-06-07T03:05:07.632230Z",
     "iopub.status.busy": "2025-06-07T03:05:07.631851Z",
     "iopub.status.idle": "2025-06-07T03:05:07.648447Z",
     "shell.execute_reply": "2025-06-07T03:05:07.647835Z",
     "shell.execute_reply.started": "2025-06-07T03:05:07.632214Z"
    },
    "trusted": true
   },
   "outputs": [
    {
     "data": {
      "text/plain": [
       "tensor([[ 1.8960, -0.1750,  1.3689, -1.6033]], grad_fn=<EmbeddingBackward0>)"
      ]
     },
     "execution_count": 16,
     "metadata": {},
     "output_type": "execute_result"
    }
   ],
   "source": [
    "embedding_layer(torch.tensor([3])) # 4ht row of the matrix"
   ]
  },
  {
   "cell_type": "markdown",
   "id": "37d05549",
   "metadata": {},
   "source": [
    "\n",
    "\n",
    "<div class=\"alert alert-block alert-info\">\n",
    "    \n",
    "each row in the embedding matrix is just an lookup to the token ids\n",
    "    \n",
    "</div>"
   ]
  },
  {
   "cell_type": "code",
   "execution_count": 17,
   "id": "b9975a08",
   "metadata": {
    "execution": {
     "iopub.execute_input": "2025-06-07T03:05:07.649447Z",
     "iopub.status.busy": "2025-06-07T03:05:07.649191Z",
     "iopub.status.idle": "2025-06-07T03:05:07.666788Z",
     "shell.execute_reply": "2025-06-07T03:05:07.666083Z",
     "shell.execute_reply.started": "2025-06-07T03:05:07.649431Z"
    },
    "trusted": true
   },
   "outputs": [
    {
     "data": {
      "text/plain": [
       "tensor([3])"
      ]
     },
     "execution_count": 17,
     "metadata": {},
     "output_type": "execute_result"
    }
   ],
   "source": [
    "torch.tensor([3])"
   ]
  },
  {
   "cell_type": "markdown",
   "id": "1c456f66",
   "metadata": {},
   "source": [
    "![Screenshot](images/screenshot4.png)\n",
    "\n"
   ]
  },
  {
   "cell_type": "markdown",
   "id": "c49f39fd",
   "metadata": {},
   "source": [
    "this is after sinosuindal encoding, pick and 2 words which are close you'll see that most of the vector is same and for any two vectroo far away from each other the vectors are differnt , thus this is captuirinmg the relative positions pretty good, also if you see absolute positions of words are also captures in this as first word and last word are quite different (pick a line horizontally it represents positional encoding vector)"
   ]
  },
  {
   "cell_type": "markdown",
   "id": "4cb1979b",
   "metadata": {},
   "source": [
    "![Screenshot](images/screenshot5.png)\n",
    "\n",
    "\n"
   ]
  },
  {
   "cell_type": "markdown",
   "id": "2c0b8616",
   "metadata": {},
   "source": [
    "**POSITIONAL EMBEDDINGS (ENCODING WORD POSITIONS)**"
   ]
  },
  {
   "cell_type": "code",
   "execution_count": 18,
   "id": "0349bc2b",
   "metadata": {
    "execution": {
     "iopub.execute_input": "2025-06-07T03:05:07.668320Z",
     "iopub.status.busy": "2025-06-07T03:05:07.667981Z",
     "iopub.status.idle": "2025-06-07T03:05:07.684843Z",
     "shell.execute_reply": "2025-06-07T03:05:07.683992Z",
     "shell.execute_reply.started": "2025-06-07T03:05:07.668291Z"
    },
    "trusted": true
   },
   "outputs": [],
   "source": [
    "from torch.utils.data import Dataset, DataLoader\n",
    "import torch\n",
    "import tiktoken\n",
    "import re"
   ]
  },
  {
   "cell_type": "code",
   "execution_count": 19,
   "id": "7b61be80",
   "metadata": {
    "execution": {
     "iopub.execute_input": "2025-06-07T03:05:07.685981Z",
     "iopub.status.busy": "2025-06-07T03:05:07.685731Z",
     "iopub.status.idle": "2025-06-07T03:05:07.703738Z",
     "shell.execute_reply": "2025-06-07T03:05:07.702991Z",
     "shell.execute_reply.started": "2025-06-07T03:05:07.685960Z"
    },
    "trusted": true
   },
   "outputs": [],
   "source": [
    "from torch.utils.data import Dataset, DataLoader\n",
    "import torch\n",
    "class GPTDatasetV1(Dataset):\n",
    "    def __init__(self, txt, tokenizer, max_length, stride):\n",
    "        self.input_ids = []\n",
    "        self.target_ids = []\n",
    "\n",
    "        token_ids = tokenizer.encode(txt, allowed_special={\"<|endoftext|>\"})\n",
    "\n",
    "        #using sliding window to ceate input and target pairs\n",
    "        for i in range(0, len(token_ids) - max_length, stride):\n",
    "            input_chunk = token_ids[i: i + max_length]\n",
    "            target_chunk = token_ids[i+1: max_length + 1 + i]\n",
    "            self.input_ids.append(torch.tensor(input_chunk))\n",
    "            self.target_ids.append(torch.tensor(target_chunk))\n",
    "\n",
    "    def __len__(self):\n",
    "        return len(self.input_ids)\n",
    "    \n",
    "    def __getitem__(self, idx):\n",
    "\n",
    "        return self.input_ids[idx], self.target_ids[idx]"
   ]
  },
  {
   "cell_type": "code",
   "execution_count": 20,
   "id": "2808f243",
   "metadata": {
    "execution": {
     "iopub.execute_input": "2025-06-07T03:05:07.704829Z",
     "iopub.status.busy": "2025-06-07T03:05:07.704532Z",
     "iopub.status.idle": "2025-06-07T03:05:07.730319Z",
     "shell.execute_reply": "2025-06-07T03:05:07.729668Z",
     "shell.execute_reply.started": "2025-06-07T03:05:07.704805Z"
    },
    "trusted": true
   },
   "outputs": [],
   "source": [
    "class SimpleTokenizerV2:\n",
    "    def __init__(self,vocab):\n",
    "        self.str_to_int = vocab\n",
    "        self.int_to_str = {i:s for s,i in vocab.items()}\n",
    "\n",
    "    def encode(self, text):\n",
    "        pre_processed = re.split(r'([,.:;\"!?()\\'_]|--|\\s)', text)   \n",
    "        pre_processed = [item for item in pre_processed if item.strip()]\n",
    "        pre_processed = [item if item in self.str_to_int else \"<|unk|>\" for item in pre_processed]\n",
    "\n",
    "        ids = [self.str_to_int[s] for s in pre_processed]\n",
    "        return ids\n",
    "    \n",
    "    def decode(self, ids):\n",
    "        text = \" \".join([self.int_to_str[i] for i in ids])\n",
    "        text = re.sub(r'\\s+([,.?!\"()\\'])', r'\\1', text)\n",
    "        return text\n"
   ]
  },
  {
   "cell_type": "code",
   "execution_count": 21,
   "id": "9de25085",
   "metadata": {
    "execution": {
     "iopub.execute_input": "2025-06-07T03:05:07.738586Z",
     "iopub.status.busy": "2025-06-07T03:05:07.738370Z",
     "iopub.status.idle": "2025-06-07T03:05:07.751525Z",
     "shell.execute_reply": "2025-06-07T03:05:07.750971Z",
     "shell.execute_reply.started": "2025-06-07T03:05:07.738571Z"
    },
    "trusted": true
   },
   "outputs": [],
   "source": [
    "def create_dataloader_v1(txt, batch_size=4, max_length=256, \n",
    "                         stride=128, shuffle=True, drop_last=True,\n",
    "                         num_workers=0):\n",
    "\n",
    "    # Initialize the tokenizer\n",
    "    tokenizer = tiktoken.get_encoding(\"gpt2\")\n",
    "\n",
    "    # Create dataset\n",
    "    dataset = GPTDatasetV1(txt, tokenizer, max_length, stride)\n",
    "\n",
    "    # Create dataloader\n",
    "    dataloader = DataLoader(\n",
    "        dataset,\n",
    "        batch_size=batch_size,\n",
    "        shuffle=shuffle,\n",
    "        drop_last=drop_last,\n",
    "        num_workers=num_workers\n",
    "    )\n",
    "\n",
    "    return dataloader"
   ]
  },
  {
   "cell_type": "code",
   "execution_count": 22,
   "id": "85c3cc70",
   "metadata": {
    "execution": {
     "iopub.execute_input": "2025-06-07T03:05:07.752930Z",
     "iopub.status.busy": "2025-06-07T03:05:07.752673Z",
     "iopub.status.idle": "2025-06-07T03:05:07.906552Z",
     "shell.execute_reply": "2025-06-07T03:05:07.905897Z",
     "shell.execute_reply.started": "2025-06-07T03:05:07.752908Z"
    },
    "trusted": true
   },
   "outputs": [],
   "source": [
    "import torch\n",
    "vocab_size = 50257\n",
    "output_dim = 256\n",
    "\n",
    "token_embedding_layer = torch.nn.Embedding(vocab_size,output_dim)"
   ]
  },
  {
   "cell_type": "code",
   "execution_count": 23,
   "id": "1d7adde2",
   "metadata": {
    "execution": {
     "iopub.execute_input": "2025-06-07T03:05:07.907374Z",
     "iopub.status.busy": "2025-06-07T03:05:07.907184Z",
     "iopub.status.idle": "2025-06-07T03:05:07.914177Z",
     "shell.execute_reply": "2025-06-07T03:05:07.913348Z",
     "shell.execute_reply.started": "2025-06-07T03:05:07.907358Z"
    },
    "trusted": true
   },
   "outputs": [],
   "source": [
    "with open(\"/kaggle/input/datase/wharton_verdict.txt\", \"r\", encoding = \"utf-8\") as f:\n",
    "    raw_text = f.read()"
   ]
  },
  {
   "cell_type": "code",
   "execution_count": 24,
   "id": "d921e5d7",
   "metadata": {
    "execution": {
     "iopub.execute_input": "2025-06-07T03:05:07.915461Z",
     "iopub.status.busy": "2025-06-07T03:05:07.915201Z",
     "iopub.status.idle": "2025-06-07T03:05:08.829745Z",
     "shell.execute_reply": "2025-06-07T03:05:08.829171Z",
     "shell.execute_reply.started": "2025-06-07T03:05:07.915435Z"
    },
    "trusted": true
   },
   "outputs": [],
   "source": [
    "max_length = 4\n",
    "dataloader = create_dataloader_v1(raw_text, batch_size = 8,\n",
    "                                  max_length = max_length, stride = 2,\n",
    "                                  shuffle = True)\n",
    "\n",
    "data_iter = iter(dataloader)\n",
    "inputs, targets  = next(data_iter)"
   ]
  },
  {
   "cell_type": "code",
   "execution_count": 25,
   "id": "c4235a1d",
   "metadata": {
    "execution": {
     "iopub.execute_input": "2025-06-07T03:05:08.831665Z",
     "iopub.status.busy": "2025-06-07T03:05:08.831417Z",
     "iopub.status.idle": "2025-06-07T03:05:08.837276Z",
     "shell.execute_reply": "2025-06-07T03:05:08.836603Z",
     "shell.execute_reply.started": "2025-06-07T03:05:08.831648Z"
    },
    "trusted": true
   },
   "outputs": [
    {
     "name": "stdout",
     "output_type": "stream",
     "text": [
      "Token IDs:\n",
      " tensor([[  257,  1207,  8344,   803],\n",
      "        [  625,   262, 24818,   417],\n",
      "        [  257,  6487,    13,   366],\n",
      "        [  198,  1544, 13818,  4622],\n",
      "        [35569,   502,    13,   887],\n",
      "        [  683,    11, 10597,   314],\n",
      "        [  198,  1870,   465,  8216],\n",
      "        [  198,   265,  6384,  1456]])\n",
      "\n",
      "Inputs shape:\n",
      " torch.Size([8, 4])\n"
     ]
    }
   ],
   "source": [
    "print(\"Token IDs:\\n\", inputs)\n",
    "print(\"\\nInputs shape:\\n\", inputs.shape)"
   ]
  },
  {
   "cell_type": "code",
   "execution_count": 26,
   "id": "ffb0d549",
   "metadata": {
    "execution": {
     "iopub.execute_input": "2025-06-07T03:05:08.838084Z",
     "iopub.status.busy": "2025-06-07T03:05:08.837870Z",
     "iopub.status.idle": "2025-06-07T03:05:08.855511Z",
     "shell.execute_reply": "2025-06-07T03:05:08.854707Z",
     "shell.execute_reply.started": "2025-06-07T03:05:08.838069Z"
    },
    "trusted": true
   },
   "outputs": [
    {
     "name": "stdout",
     "output_type": "stream",
     "text": [
      "\n",
      "Token Embeddings:\n",
      " torch.Size([8, 4, 256])\n"
     ]
    }
   ],
   "source": [
    "token_embeddings = token_embedding_layer(inputs)\n",
    "print(\"\\nToken Embeddings:\\n\", token_embeddings.shape)"
   ]
  },
  {
   "cell_type": "code",
   "execution_count": 27,
   "id": "5f523449",
   "metadata": {
    "execution": {
     "iopub.execute_input": "2025-06-07T03:05:08.856490Z",
     "iopub.status.busy": "2025-06-07T03:05:08.856283Z",
     "iopub.status.idle": "2025-06-07T03:05:08.872649Z",
     "shell.execute_reply": "2025-06-07T03:05:08.871944Z",
     "shell.execute_reply.started": "2025-06-07T03:05:08.856476Z"
    },
    "trusted": true
   },
   "outputs": [],
   "source": [
    "context_length = max_length\n",
    "pos_embedding_layer = torch.nn.Embedding(context_length, output_dim)"
   ]
  },
  {
   "cell_type": "code",
   "execution_count": 28,
   "id": "28eddb56",
   "metadata": {
    "execution": {
     "iopub.execute_input": "2025-06-07T03:05:08.873610Z",
     "iopub.status.busy": "2025-06-07T03:05:08.873413Z",
     "iopub.status.idle": "2025-06-07T03:05:08.899580Z",
     "shell.execute_reply": "2025-06-07T03:05:08.898729Z",
     "shell.execute_reply.started": "2025-06-07T03:05:08.873595Z"
    },
    "trusted": true
   },
   "outputs": [
    {
     "name": "stdout",
     "output_type": "stream",
     "text": [
      "torch.Size([4, 256])\n"
     ]
    }
   ],
   "source": [
    "pos_embeddings = pos_embedding_layer(torch.arange(max_length))\n",
    "print(pos_embeddings.shape)"
   ]
  },
  {
   "cell_type": "code",
   "execution_count": 29,
   "id": "792eaec5",
   "metadata": {
    "execution": {
     "iopub.execute_input": "2025-06-07T03:05:08.900973Z",
     "iopub.status.busy": "2025-06-07T03:05:08.900677Z",
     "iopub.status.idle": "2025-06-07T03:05:08.913603Z",
     "shell.execute_reply": "2025-06-07T03:05:08.912941Z",
     "shell.execute_reply.started": "2025-06-07T03:05:08.900951Z"
    },
    "trusted": true
   },
   "outputs": [
    {
     "name": "stdout",
     "output_type": "stream",
     "text": [
      "torch.Size([8, 4, 256])\n"
     ]
    }
   ],
   "source": [
    "input_embeddings = token_embeddings + pos_embeddings\n",
    "print(input_embeddings.shape)"
   ]
  },
  {
   "cell_type": "markdown",
   "id": "947cbf51",
   "metadata": {},
   "source": [
    "<div class=\"alert alert-block alert-info\">\n",
    "    \n",
    "As shown in the preceding code example, the input to the pos_embeddings is usually a\n",
    "placeholder vector torch.arange(context_length), which contains a sequence of\n",
    "numbers 0, 1, ..., up to the maximum input length − 1. \n",
    "\n",
    "The context_length is a variable\n",
    "that represents the supported input size of the LLM. \n",
    "\n",
    "Here, we choose it similar to the\n",
    "maximum length of the input text. \n",
    "\n",
    "In practice, input text can be longer than the supported\n",
    "context length, in which case we have to truncate the text.\n",
    "    \n",
    "</div>"
   ]
  },
  {
   "cell_type": "markdown",
   "id": "9bea5ae9",
   "metadata": {},
   "source": [
    "<div class=\"alert alert-block alert-info\">\n",
    "    \n",
    "As we can see, the positional embedding tensor consists of four 256-dimensional vectors.\n",
    "We can now add these directly to the token embeddings, where PyTorch will add the 4x256-\n",
    "dimensional pos_embeddings tensor to each 4x256-dimensional token embedding tensor in\n",
    "each of the 8 batches:\n",
    "    \n",
    "</div>"
   ]
  },
  {
   "cell_type": "code",
   "execution_count": 30,
   "id": "b5b75b54",
   "metadata": {
    "execution": {
     "iopub.execute_input": "2025-06-07T03:05:08.914602Z",
     "iopub.status.busy": "2025-06-07T03:05:08.914312Z",
     "iopub.status.idle": "2025-06-07T03:05:08.919362Z",
     "shell.execute_reply": "2025-06-07T03:05:08.918615Z",
     "shell.execute_reply.started": "2025-06-07T03:05:08.914586Z"
    },
    "trusted": true
   },
   "outputs": [
    {
     "data": {
      "text/plain": [
       "torch.Size([8, 4, 256])"
      ]
     },
     "execution_count": 30,
     "metadata": {},
     "output_type": "execute_result"
    }
   ],
   "source": [
    "input_embeddings.shape"
   ]
  },
  {
   "cell_type": "markdown",
   "id": "39297c36",
   "metadata": {},
   "source": [
    "## IMPLEMENTING A COMPACT SELF ATTENTION PYTHON CLASS"
   ]
  },
  {
   "cell_type": "code",
   "execution_count": 31,
   "id": "0c2f45c1",
   "metadata": {
    "execution": {
     "iopub.execute_input": "2025-06-07T03:05:08.920291Z",
     "iopub.status.busy": "2025-06-07T03:05:08.920051Z",
     "iopub.status.idle": "2025-06-07T03:05:08.936016Z",
     "shell.execute_reply": "2025-06-07T03:05:08.935469Z",
     "shell.execute_reply.started": "2025-06-07T03:05:08.920275Z"
    },
    "trusted": true
   },
   "outputs": [],
   "source": [
    "import torch.nn as nn\n",
    "import torch\n",
    "\n",
    "class SelfAttention_v1(nn.Module):\n",
    "\n",
    "    def __init__(self, d_in, d_out):\n",
    "        super().__init__()\n",
    "        self.W_Q = nn.Parameter(torch.randn(d_in, d_out))\n",
    "        self.W_K = nn.Parameter(torch.randn(d_in, d_out))\n",
    "        self.W_V = nn.Parameter(torch.randn(d_in, d_out))\n",
    "\n",
    "    def forward(self, x):\n",
    "        keys = x @ self.W_K\n",
    "        queries = x @ self.W_Q\n",
    "        values = x @ self.W_V\n",
    "\n",
    "        attn_scores = queries @ keys.T\n",
    "        attn_weights = torch.softmax(attn_scores / keys.shape[-1]**0.5 , dim=-1)\n",
    "        context_vec = attn_weights @ values\n",
    "        return context_vec"
   ]
  },
  {
   "cell_type": "code",
   "execution_count": 32,
   "id": "6ab1d396",
   "metadata": {
    "execution": {
     "iopub.execute_input": "2025-06-07T03:05:08.937248Z",
     "iopub.status.busy": "2025-06-07T03:05:08.936799Z",
     "iopub.status.idle": "2025-06-07T03:05:09.031840Z",
     "shell.execute_reply": "2025-06-07T03:05:09.031055Z",
     "shell.execute_reply.started": "2025-06-07T03:05:08.937231Z"
    },
    "trusted": true
   },
   "outputs": [
    {
     "name": "stdout",
     "output_type": "stream",
     "text": [
      "tensor([[ 0.7053, -0.5213,  0.7561, -1.1033,  0.0726],\n",
      "        [ 0.6443, -0.5202,  0.7027, -1.0369,  0.1176],\n",
      "        [ 0.6507, -0.5203,  0.7091, -1.0447,  0.1130],\n",
      "        [ 0.6933, -0.5269,  0.7448, -1.0918,  0.0881],\n",
      "        [ 0.7910, -0.5222,  0.8522, -1.2159,  0.0105],\n",
      "        [ 0.6292, -0.5259,  0.6801, -1.0142,  0.1349]], grad_fn=<MmBackward0>)\n"
     ]
    }
   ],
   "source": [
    "inputs = torch.tensor(\n",
    "  [[0.43, 0.15, 0.89], # Your     (x^1)\n",
    "   [0.55, 0.87, 0.66], # journey  (x^2)\n",
    "   [0.57, 0.85, 0.64], # starts   (x^3)\n",
    "   [0.22, 0.58, 0.33], # with     (x^4)\n",
    "   [0.77, 0.25, 0.10], # one      (x^5)\n",
    "   [0.05, 0.80, 0.55]] # step     (x^6)\n",
    ")\n",
    "\n",
    "torch.manual_seed(123) \n",
    "\n",
    "sa_v1 = SelfAttention_v1(3,5)\n",
    "print(sa_v1(inputs))"
   ]
  },
  {
   "cell_type": "code",
   "execution_count": 33,
   "id": "9b62737c",
   "metadata": {
    "execution": {
     "iopub.execute_input": "2025-06-07T03:05:09.032983Z",
     "iopub.status.busy": "2025-06-07T03:05:09.032704Z",
     "iopub.status.idle": "2025-06-07T03:05:09.038827Z",
     "shell.execute_reply": "2025-06-07T03:05:09.038007Z",
     "shell.execute_reply.started": "2025-06-07T03:05:09.032959Z"
    },
    "trusted": true
   },
   "outputs": [],
   "source": [
    "import torch.nn as nn\n",
    "\n",
    "class SelfAttention_v2(nn.Module):\n",
    "\n",
    "    def __init__(self, d_in, d_out):\n",
    "        super().__init__()\n",
    "        self.W_Q = nn.Linear(d_in, d_out, bias=False)\n",
    "        self.W_K = nn.Linear(d_in, d_out, bias=False)\n",
    "        self.W_V = nn.Linear(d_in, d_out, bias=False)\n",
    "\n",
    "    def forward(self, x):\n",
    "        keys = self.W_K(x)\n",
    "        queries = self.W_Q(x)\n",
    "        values = self.W_V(x)\n",
    "\n",
    "        attn_scores = queries @ keys.T\n",
    "        attn_weights = torch.softmax(attn_scores / keys.shape[-1]**0.5 , dim=-1)\n",
    "        context_vec = attn_weights @ values\n",
    "        return context_vec"
   ]
  },
  {
   "cell_type": "code",
   "execution_count": 34,
   "id": "eb0fea03",
   "metadata": {
    "execution": {
     "iopub.execute_input": "2025-06-07T03:05:09.042194Z",
     "iopub.status.busy": "2025-06-07T03:05:09.041969Z",
     "iopub.status.idle": "2025-06-07T03:05:09.068803Z",
     "shell.execute_reply": "2025-06-07T03:05:09.067894Z",
     "shell.execute_reply.started": "2025-06-07T03:05:09.042177Z"
    },
    "trusted": true
   },
   "outputs": [
    {
     "name": "stdout",
     "output_type": "stream",
     "text": [
      "tensor([[-0.0739,  0.0713],\n",
      "        [-0.0748,  0.0703],\n",
      "        [-0.0749,  0.0702],\n",
      "        [-0.0760,  0.0685],\n",
      "        [-0.0763,  0.0679],\n",
      "        [-0.0754,  0.0693]], grad_fn=<MmBackward0>)\n"
     ]
    }
   ],
   "source": [
    "torch.manual_seed(789)\n",
    "sa_v1 = SelfAttention_v2(3,2)\n",
    "print(sa_v1(inputs))"
   ]
  },
  {
   "cell_type": "markdown",
   "id": "ca7a7095",
   "metadata": {},
   "source": [
    "## HIDING FUTURE WORDS WITH CAUSAL ATTENTION"
   ]
  },
  {
   "cell_type": "code",
   "execution_count": 35,
   "id": "a1b20967",
   "metadata": {
    "execution": {
     "iopub.execute_input": "2025-06-07T03:05:09.070257Z",
     "iopub.status.busy": "2025-06-07T03:05:09.069953Z",
     "iopub.status.idle": "2025-06-07T03:05:09.078213Z",
     "shell.execute_reply": "2025-06-07T03:05:09.077387Z",
     "shell.execute_reply.started": "2025-06-07T03:05:09.070217Z"
    },
    "trusted": true
   },
   "outputs": [
    {
     "data": {
      "text/plain": [
       "tensor([[1., 1., 1., 1., 1., 1.],\n",
       "        [0., 1., 1., 1., 1., 1.],\n",
       "        [0., 0., 1., 1., 1., 1.],\n",
       "        [0., 0., 0., 1., 1., 1.],\n",
       "        [0., 0., 0., 0., 1., 1.],\n",
       "        [0., 0., 0., 0., 0., 1.]])"
      ]
     },
     "execution_count": 35,
     "metadata": {},
     "output_type": "execute_result"
    }
   ],
   "source": [
    "context_length = inputs.shape[0]\n",
    "torch.triu(torch.ones(context_length, context_length))"
   ]
  },
  {
   "cell_type": "markdown",
   "id": "77d788eb",
   "metadata": {},
   "source": [
    "### IMPLEMENTING A COMPACT CAUSAL ATTENTION CLASS"
   ]
  },
  {
   "cell_type": "markdown",
   "id": "c0e309b9",
   "metadata": {},
   "source": [
    "<div class=\"alert alert-block alert-success\">\n",
    "\n",
    "In this section, we will now incorporate the causal attention and dropout modifications into\n",
    "the SelfAttention Python class we developed in section 3.4. \n",
    "\n",
    "This class will then serve as a\n",
    "template for developing multi-head attention in the upcoming section.\n",
    "\n",
    "</div>"
   ]
  },
  {
   "cell_type": "markdown",
   "id": "9b8b611d",
   "metadata": {},
   "source": [
    "<div class=\"alert alert-block alert-success\">\n",
    "\n",
    "Before we begin, one more thing is to ensure that the code can handle batches\n",
    "consisting of more than one input. \n",
    "\n",
    "This will ensure that the CausalAttention class supports the batch\n",
    "outputs produced by the data loader we implemented earlier.\n",
    "\n",
    "</div>"
   ]
  },
  {
   "cell_type": "markdown",
   "id": "25e96154",
   "metadata": {},
   "source": [
    "<div class=\"alert alert-block alert-success\">\n",
    "\n",
    "For simplicity, to simulate such batch inputs, we duplicate the input text example:\n",
    "\n",
    "</div>"
   ]
  },
  {
   "cell_type": "markdown",
   "id": "5598e083",
   "metadata": {},
   "source": [
    "<div class=\"alert alert-block alert-info\">\n",
    "\n",
    " 2 inputs with 6 tokens each, and each token has embedding dimension 3\n",
    "    \n",
    "</div>"
   ]
  },
  {
   "cell_type": "code",
   "execution_count": 36,
   "id": "65378ac4",
   "metadata": {
    "execution": {
     "iopub.execute_input": "2025-06-07T03:05:09.079424Z",
     "iopub.status.busy": "2025-06-07T03:05:09.079105Z",
     "iopub.status.idle": "2025-06-07T03:05:09.090782Z",
     "shell.execute_reply": "2025-06-07T03:05:09.090021Z",
     "shell.execute_reply.started": "2025-06-07T03:05:09.079399Z"
    },
    "trusted": true
   },
   "outputs": [
    {
     "name": "stdout",
     "output_type": "stream",
     "text": [
      "torch.Size([2, 6, 3])\n"
     ]
    }
   ],
   "source": [
    "inputs = torch.tensor(\n",
    "  [[0.43, 0.15, 0.89], # Your     (x^1)\n",
    "   [0.55, 0.87, 0.66], # journey  (x^2)\n",
    "   [0.57, 0.85, 0.64], # starts   (x^3)\n",
    "   [0.22, 0.58, 0.33], # with     (x^4)\n",
    "   [0.77, 0.25, 0.10], # one      (x^5)\n",
    "   [0.05, 0.80, 0.55]] # step     (x^6)\n",
    "                )\n",
    "batch = torch.stack((inputs, inputs), dim=0)\n",
    "print(batch.shape) \n",
    "\n"
   ]
  },
  {
   "cell_type": "code",
   "execution_count": 37,
   "id": "84968b45",
   "metadata": {
    "execution": {
     "iopub.execute_input": "2025-06-07T03:05:09.092010Z",
     "iopub.status.busy": "2025-06-07T03:05:09.091778Z",
     "iopub.status.idle": "2025-06-07T03:05:09.108682Z",
     "shell.execute_reply": "2025-06-07T03:05:09.107982Z",
     "shell.execute_reply.started": "2025-06-07T03:05:09.091993Z"
    },
    "trusted": true
   },
   "outputs": [],
   "source": [
    "class CasualAttention(nn.Module):\n",
    "\n",
    "    def __init__(self, d_in, d_out, context_length, dropout, qkv_bias=False):\n",
    "        super().__init__()\n",
    "        self.d_out = d_out\n",
    "        self.W_query = nn.Linear(d_in, d_out, bias=qkv_bias)\n",
    "        self.W_key   = nn.Linear(d_in, d_out, bias=qkv_bias)\n",
    "        self.W_value = nn.Linear(d_in, d_out, bias=qkv_bias)\n",
    "        self.dropout = nn.Dropout(dropout)\n",
    "        self.register_buffer('mask', torch.triu(torch.ones(context_length,context_length),diagonal = 1))\n",
    "\n",
    "    def forward(self, x):\n",
    "        b, num_tokens , d_in = x.shape\n",
    "        keys = self.W_key(x)\n",
    "        queries = self.W_query(x)\n",
    "        values = self.W_value(x)\n",
    "\n",
    "        attn_scores = queries @ keys.transpose(1,2)\n",
    "        attn_scores.masked_fill_(self.mask.bool()[:num_tokens, :num_tokens], -torch.inf) \n",
    "        attn_weights = torch.softmax(attn_scores /keys.shape[-1]**0.5, dim = 1)\n",
    "        attn_weights = self.dropout(attn_weights)\n",
    "        context_vec = attn_weights @ values\n",
    "        return context_vec\n"
   ]
  },
  {
   "cell_type": "code",
   "execution_count": 38,
   "id": "7560ba2e",
   "metadata": {
    "execution": {
     "iopub.execute_input": "2025-06-07T03:05:09.109734Z",
     "iopub.status.busy": "2025-06-07T03:05:09.109521Z",
     "iopub.status.idle": "2025-06-07T03:05:09.187604Z",
     "shell.execute_reply": "2025-06-07T03:05:09.186785Z",
     "shell.execute_reply.started": "2025-06-07T03:05:09.109710Z"
    },
    "trusted": true
   },
   "outputs": [
    {
     "data": {
      "text/plain": [
       "tensor([[[ 0.0997,  0.1696, -0.0939],\n",
       "         [ 0.1442,  0.2287, -0.0623],\n",
       "         [ 0.1729,  0.2798, -0.0797],\n",
       "         [ 0.4581,  0.7070, -0.1655],\n",
       "         [ 0.2912,  0.4670, -0.1304],\n",
       "         [ 0.3052,  0.6786, -0.2947]],\n",
       "\n",
       "        [[ 0.0997,  0.1696, -0.0939],\n",
       "         [ 0.1081,  0.1840, -0.1018],\n",
       "         [ 0.4247,  0.6917, -0.2436],\n",
       "         [ 0.3148,  0.4797, -0.1037],\n",
       "         [-0.0170,  0.1707, -0.1731],\n",
       "         [ 0.3052,  0.6786, -0.2947]]], grad_fn=<UnsafeViewBackward0>)"
      ]
     },
     "execution_count": 38,
     "metadata": {},
     "output_type": "execute_result"
    }
   ],
   "source": [
    "torch.manual_seed(123)\n",
    "context_length = batch.shape[1]\n",
    "ca = CasualAttention(3, 3, context_length, dropout=0.5)\n",
    "context_vec = ca(batch)\n",
    "context_vec"
   ]
  },
  {
   "cell_type": "markdown",
   "id": "0613e4ff",
   "metadata": {},
   "source": [
    "## EXTENDING SINGLE HEAD ATTENTION TO STACKED ATTENTION (MULTIHEAD ATTENTION)"
   ]
  },
  {
   "cell_type": "code",
   "execution_count": 39,
   "id": "71eb2168",
   "metadata": {
    "execution": {
     "iopub.execute_input": "2025-06-07T03:05:09.188730Z",
     "iopub.status.busy": "2025-06-07T03:05:09.188512Z",
     "iopub.status.idle": "2025-06-07T03:05:09.192585Z",
     "shell.execute_reply": "2025-06-07T03:05:09.191973Z",
     "shell.execute_reply.started": "2025-06-07T03:05:09.188707Z"
    },
    "trusted": true
   },
   "outputs": [],
   "source": [
    "import torch\n",
    "import torch.nn as nn"
   ]
  },
  {
   "cell_type": "code",
   "execution_count": 40,
   "id": "98264cf1",
   "metadata": {
    "execution": {
     "iopub.execute_input": "2025-06-07T03:05:09.193618Z",
     "iopub.status.busy": "2025-06-07T03:05:09.193263Z",
     "iopub.status.idle": "2025-06-07T03:05:09.216280Z",
     "shell.execute_reply": "2025-06-07T03:05:09.215531Z",
     "shell.execute_reply.started": "2025-06-07T03:05:09.193578Z"
    },
    "trusted": true
   },
   "outputs": [],
   "source": [
    "class MultiHeadAtttentionWrapper(nn.Module):\n",
    "    def __init__(self, d_in, d_out, context_length,dropout, num_heads, qkv_bias = False):\n",
    "        super().__init__()\n",
    "        self.heads = nn.ModuleList([\n",
    "            CasualAttention(d_in, d_out, context_length, dropout, qkv_bias) \n",
    "            for _ in range(num_heads)\n",
    "        ])\n",
    "    def forward(self, x):\n",
    "        return torch.cat([head(x) for head in self.heads], dim = -1)"
   ]
  },
  {
   "cell_type": "code",
   "execution_count": 41,
   "id": "4653dbd0",
   "metadata": {
    "execution": {
     "iopub.execute_input": "2025-06-07T03:05:09.217266Z",
     "iopub.status.busy": "2025-06-07T03:05:09.217013Z",
     "iopub.status.idle": "2025-06-07T03:05:09.242527Z",
     "shell.execute_reply": "2025-06-07T03:05:09.241799Z",
     "shell.execute_reply.started": "2025-06-07T03:05:09.217249Z"
    },
    "trusted": true
   },
   "outputs": [
    {
     "data": {
      "text/plain": [
       "tensor([[[ 0.0499,  0.0848, -0.0469,  0.0143,  0.0871,  0.0520],\n",
       "         [ 0.1262,  0.2064, -0.0820,  0.0101,  0.2142,  0.1086],\n",
       "         [ 0.2124,  0.3458, -0.1218,  0.0081,  0.3906,  0.1888],\n",
       "         [ 0.2885,  0.4546, -0.1387,  0.0028,  0.5420,  0.2603],\n",
       "         [ 0.2615,  0.5105, -0.2161,  0.0027,  0.7399,  0.3124],\n",
       "         [ 0.6519,  0.9957, -0.2431, -0.0180,  1.2439,  0.5864]],\n",
       "\n",
       "        [[ 0.0499,  0.0848, -0.0469,  0.0143,  0.0871,  0.0520],\n",
       "         [ 0.1262,  0.2064, -0.0820,  0.0101,  0.2142,  0.1086],\n",
       "         [ 0.2124,  0.3458, -0.1218,  0.0081,  0.3906,  0.1888],\n",
       "         [ 0.2885,  0.4546, -0.1387,  0.0028,  0.5420,  0.2603],\n",
       "         [ 0.2615,  0.5105, -0.2161,  0.0027,  0.7399,  0.3124],\n",
       "         [ 0.6519,  0.9957, -0.2431, -0.0180,  1.2439,  0.5864]]],\n",
       "       grad_fn=<CatBackward0>)"
      ]
     },
     "execution_count": 41,
     "metadata": {},
     "output_type": "execute_result"
    }
   ],
   "source": [
    "torch.manual_seed(123)\n",
    "context_length = batch.shape[1]\n",
    "mha = MultiHeadAtttentionWrapper(3, 3, context_length, dropout=0, num_heads = 2)\n",
    "context_vec = mha(batch)\n",
    "context_vec"
   ]
  },
  {
   "cell_type": "markdown",
   "id": "cac42a33",
   "metadata": {},
   "source": [
    "### BATCHED STACKED MULTI HEADED ATTENTION"
   ]
  },
  {
   "cell_type": "code",
   "execution_count": 42,
   "id": "a73a18e1",
   "metadata": {
    "execution": {
     "iopub.execute_input": "2025-06-07T03:05:09.243877Z",
     "iopub.status.busy": "2025-06-07T03:05:09.243556Z",
     "iopub.status.idle": "2025-06-07T03:05:09.252673Z",
     "shell.execute_reply": "2025-06-07T03:05:09.252098Z",
     "shell.execute_reply.started": "2025-06-07T03:05:09.243860Z"
    },
    "trusted": true
   },
   "outputs": [],
   "source": [
    "import torch.nn as nn\n",
    "import torch \n",
    "class MultiHeadedAttention(nn.Module):\n",
    "    def __init__(self, d_in, d_out, context_length, dropout, num_heads, qkv_bias = False):\n",
    "        super().__init__()\n",
    "        assert (d_out % num_heads == 0) , \"d_out must be divisible by num_heads\"\n",
    "\n",
    "        self.d_out = d_out\n",
    "        self.num_heads = num_heads\n",
    "        self.head_dim = d_out // num_heads\n",
    "\n",
    "        self.W_query = nn.Linear(d_in, d_out, bias = qkv_bias)\n",
    "        self.W_key = nn.Linear(d_in, d_out, bias = qkv_bias)\n",
    "        self.W_Value = nn.Linear(d_in, d_out, bias = qkv_bias)\n",
    "        self.out_proj = nn.Linear(d_out, d_out) # same as W_O\n",
    "        self.dropout = nn.Dropout(dropout)\n",
    "        self.register_buffer(\"mask\", torch.triu(torch.ones(context_length, context_length), diagonal=1))\n",
    "\n",
    "    def forward(self, x):\n",
    "        b, num_tokens , d_in = x.shape\n",
    "\n",
    "        keys = self.W_key(x)\n",
    "        queries = self.W_query(x)\n",
    "        values = self.W_Value(x)\n",
    "\n",
    "        keys = keys.view(b, num_tokens, self.num_heads, self.head_dim)\n",
    "        values = values.view(b, num_tokens, self.num_heads, self.head_dim)\n",
    "        queries = queries.view(b, num_tokens, self.num_heads, self.head_dim)\n",
    "\n",
    "        keys = keys.transpose(1,2)\n",
    "        queries = queries.transpose(1,2)\n",
    "        values = values.transpose(1,2)\n",
    "\n",
    "        attn_scores = queries @ keys.transpose(2,3)\n",
    "\n",
    "        mask_bool = self.mask.bool()[:num_tokens, :num_tokens]\n",
    "\n",
    "        attn_scores.masked_fill_(mask_bool, -torch.inf)\n",
    "        attn_weights = torch.softmax(attn_scores / keys.shape[-1]**0.5, dim = -1)\n",
    "        attn_weights = self.dropout(attn_weights)\n",
    "        \n",
    "        context_vec = (attn_weights @ values).transpose(1,2)\n",
    "\n",
    "        context_vec = context_vec.contiguous().view(b, num_tokens, self.d_out)\n",
    "        context_vec = self.out_proj(context_vec)\n",
    "\n",
    "        return context_vec\n"
   ]
  },
  {
   "cell_type": "markdown",
   "id": "284c8e16",
   "metadata": {},
   "source": [
    "![Screenshot](images/screenshot6.jpg)\n"
   ]
  },
  {
   "cell_type": "code",
   "execution_count": 43,
   "id": "464ca14c",
   "metadata": {
    "execution": {
     "iopub.execute_input": "2025-06-07T03:05:09.253623Z",
     "iopub.status.busy": "2025-06-07T03:05:09.253385Z",
     "iopub.status.idle": "2025-06-07T03:05:09.280061Z",
     "shell.execute_reply": "2025-06-07T03:05:09.279208Z",
     "shell.execute_reply.started": "2025-06-07T03:05:09.253600Z"
    },
    "trusted": true
   },
   "outputs": [
    {
     "name": "stdout",
     "output_type": "stream",
     "text": [
      "torch.Size([2, 3, 6])\n",
      "tensor([[[ 0.1569, -0.0873,  0.0210,  0.0215, -0.3243, -0.2518],\n",
      "         [ 0.1117, -0.0547,  0.0406, -0.0213, -0.3251, -0.2993],\n",
      "         [ 0.1196, -0.0491,  0.0318, -0.0635, -0.2788, -0.2578]],\n",
      "\n",
      "        [[ 0.1569, -0.0873,  0.0210,  0.0215, -0.3243, -0.2518],\n",
      "         [ 0.1117, -0.0547,  0.0406, -0.0213, -0.3251, -0.2993],\n",
      "         [ 0.1196, -0.0491,  0.0318, -0.0635, -0.2788, -0.2578]]],\n",
      "       grad_fn=<ViewBackward0>)\n",
      "context_vecs.shape: torch.Size([2, 3, 6])\n"
     ]
    }
   ],
   "source": [
    "torch.manual_seed(123)\n",
    "\n",
    "# Define the tensor with 3 rows and 6 columns\n",
    "inputs = torch.tensor(\n",
    "    [[0.43, 0.15, 0.89, 0.55, 0.87, 0.66],  # Row 1\n",
    "     [0.57, 0.85, 0.64, 0.22, 0.58, 0.33],  # Row 2\n",
    "     [0.77, 0.25, 0.10, 0.05, 0.80, 0.55]]  # Row 3\n",
    ")\n",
    "\n",
    "batch = torch.stack((inputs, inputs), dim=0)\n",
    "print(batch.shape) \n",
    "\n",
    "batch_size, context_length, d_in = batch.shape\n",
    "d_out = 6\n",
    "mha = MultiHeadedAttention(d_in, d_out, context_length, 0.0, num_heads=2)\n",
    "context_vecs = mha(batch)\n",
    "print(context_vecs)\n",
    "print(\"context_vecs.shape:\", context_vecs.shape)"
   ]
  },
  {
   "cell_type": "markdown",
   "id": "1c5a7ec0",
   "metadata": {},
   "source": [
    "<div class=\"alert alert-block alert-warning\">\n",
    "\n",
    "For comparison, the smallest GPT-2 model (117 million parameters) has 12 attention\n",
    "heads and a context vector embedding size of 768. \n",
    "\n",
    "The largest GPT-2 model (1.5 billion\n",
    "parameters) has 25 attention heads and a context vector embedding size of 1600.\n",
    "\n",
    "Note\n",
    "that the embedding sizes of the token inputs and context embeddings are the same in GPT\n",
    "models (d_in = d_out).\n",
    "\n",
    "</div>"
   ]
  },
  {
   "cell_type": "markdown",
   "id": "053efc83",
   "metadata": {},
   "source": [
    "## GPT ARCHITECTURE PART 1: DUMMY GPT MODEL CLASS\n"
   ]
  },
  {
   "cell_type": "markdown",
   "id": "ddf58d2f",
   "metadata": {},
   "source": [
    "<div class=\"alert alert-block alert-info\">\n",
    "\n",
    "Step 1: Use a placeholder for TransformerBlock\n",
    "\n",
    "Step 2: Use a placeholder for LayerNorm\n",
    "</div>"
   ]
  },
  {
   "cell_type": "code",
   "execution_count": 44,
   "id": "98f15783",
   "metadata": {
    "execution": {
     "iopub.execute_input": "2025-06-07T03:05:09.281322Z",
     "iopub.status.busy": "2025-06-07T03:05:09.280993Z",
     "iopub.status.idle": "2025-06-07T03:05:09.297944Z",
     "shell.execute_reply": "2025-06-07T03:05:09.297176Z",
     "shell.execute_reply.started": "2025-06-07T03:05:09.281296Z"
    },
    "trusted": true
   },
   "outputs": [],
   "source": [
    "GPT_CONFIG_124M = {\n",
    "    \"vocab_size\": 50257,    # Vocabulary size\n",
    "    \"context_length\": 1024, # Context length\n",
    "    \"emb_dim\": 768,         # Embedding dimension\n",
    "    \"n_heads\": 12,          # Number of attention heads\n",
    "    \"n_layers\": 12,         # Number of layers\n",
    "    \"drop_rate\": 0.1,       # Dropout rate\n",
    "    \"qkv_bias\": False       # Query-Key-Value bias\n",
    "}"
   ]
  },
  {
   "cell_type": "code",
   "execution_count": 45,
   "id": "73ff8cb3",
   "metadata": {
    "execution": {
     "iopub.execute_input": "2025-06-07T03:05:09.299134Z",
     "iopub.status.busy": "2025-06-07T03:05:09.298850Z",
     "iopub.status.idle": "2025-06-07T03:05:09.313615Z",
     "shell.execute_reply": "2025-06-07T03:05:09.312899Z",
     "shell.execute_reply.started": "2025-06-07T03:05:09.299111Z"
    },
    "trusted": true
   },
   "outputs": [],
   "source": [
    "cfg = GPT_CONFIG_124M"
   ]
  },
  {
   "cell_type": "code",
   "execution_count": 46,
   "id": "ccb83c8d",
   "metadata": {
    "execution": {
     "iopub.execute_input": "2025-06-07T03:05:09.314574Z",
     "iopub.status.busy": "2025-06-07T03:05:09.314353Z",
     "iopub.status.idle": "2025-06-07T03:05:09.329596Z",
     "shell.execute_reply": "2025-06-07T03:05:09.329003Z",
     "shell.execute_reply.started": "2025-06-07T03:05:09.314555Z"
    },
    "trusted": true
   },
   "outputs": [],
   "source": [
    "import torch\n",
    "import torch.nn as nn\n",
    "\n",
    "class DummyGPTModel(nn.Module):\n",
    "    def __init__(self, cfg):\n",
    "        super().__init__()\n",
    "\n",
    "        self.tok_emb = nn.Embedding(cfg[\"vocab_size\"], cfg[\"emb_dim\"])\n",
    "        self.pos_emb = nn.Embedding(cfg[\"context_length\"], cfg[\"emb_dim\"])\n",
    "        self.dropout = nn.Dropout(cfg[\"drop_rate\"])\n",
    "\n",
    "        # Use a placeholder for TransformerBlock\n",
    "        self.trf_blocks = nn.Sequential(\n",
    "            *[DummyTransformerBlock(cfg) for _ in range(cfg[\"n_layers\"])]\n",
    "        )\n",
    "        self.final_norm = DummyLayerNorm(cfg[\"emb_dim\"])\n",
    "        self.out_head = nn.Linear(cfg[\"emb_dim\"], cfg[\"vocab_size\"], bias=False)\n",
    "    \n",
    "    def forward(self, in_idx):\n",
    "        batch_size, seq_len = in_idx.shape\n",
    "        tok_embeds = self.tok_emb(in_idx)\n",
    "        pos_embeds = self.pos_emb(torch.arange(seq_len, device=in_idx.device))\n",
    "        x = tok_embeds + pos_embeds\n",
    "        x = self.dropout(x)\n",
    "        x = self.trf_blocks(x)\n",
    "        x = self.final_norm(x)\n",
    "        logits = self.out_head(x)\n",
    "        return logits\n",
    "\n",
    "\n",
    "class DummyTransformerBlock(nn.Module):\n",
    "    def __init__(self, cfg): \n",
    "        super().__init__()\n",
    "        # A simple placeholder\n",
    "\n",
    "    def forward(self, x):\n",
    "        # This block does nothing and just returns its input.\n",
    "        return x\n",
    "\n",
    "\n",
    "class DummyLayerNorm(nn.Module):\n",
    "    def __init__(self, normalized_shape, eps=1e-5):\n",
    "        super().__init__()\n",
    "        # The parameters here are just to mimic the LayerNorm interface.\n",
    "\n",
    "    def forward(self, x):\n",
    "        # This layer does nothing and just returns its input.\n",
    "        return x"
   ]
  },
  {
   "cell_type": "code",
   "execution_count": 47,
   "id": "20866762",
   "metadata": {
    "execution": {
     "iopub.execute_input": "2025-06-07T03:05:09.331282Z",
     "iopub.status.busy": "2025-06-07T03:05:09.330541Z",
     "iopub.status.idle": "2025-06-07T03:05:09.351958Z",
     "shell.execute_reply": "2025-06-07T03:05:09.351286Z",
     "shell.execute_reply.started": "2025-06-07T03:05:09.331261Z"
    },
    "trusted": true
   },
   "outputs": [
    {
     "name": "stdout",
     "output_type": "stream",
     "text": [
      "tensor([[6109, 3626, 6100,  345],\n",
      "        [6109, 1110, 6622,  257]])\n"
     ]
    }
   ],
   "source": [
    "import tiktoken\n",
    "tokenizer = tiktoken.get_encoding(\"gpt2\")\n",
    "batch = []\n",
    "txt1 = \"Every effort moves you\"\n",
    "txt2 = \"Every day holds a\"\n",
    "batch.append(torch.tensor(tokenizer.encode(txt1)))\n",
    "batch.append(torch.tensor(tokenizer.encode(txt2)))\n",
    "batch = torch.stack(batch, dim=0)\n",
    "print(batch)"
   ]
  },
  {
   "cell_type": "code",
   "execution_count": 48,
   "id": "c966b88a",
   "metadata": {
    "execution": {
     "iopub.execute_input": "2025-06-07T03:05:09.353020Z",
     "iopub.status.busy": "2025-06-07T03:05:09.352788Z",
     "iopub.status.idle": "2025-06-07T03:05:10.092273Z",
     "shell.execute_reply": "2025-06-07T03:05:10.091512Z",
     "shell.execute_reply.started": "2025-06-07T03:05:09.352995Z"
    },
    "trusted": true
   },
   "outputs": [
    {
     "name": "stdout",
     "output_type": "stream",
     "text": [
      "Output shape: torch.Size([2, 4, 50257])\n",
      "tensor([[[-0.9289,  0.2748, -0.7557,  ..., -1.6070,  0.2702, -0.5888],\n",
      "         [-0.4476,  0.1726,  0.5354,  ..., -0.3932,  1.5285,  0.8557],\n",
      "         [ 0.5680,  1.6053, -0.2155,  ...,  1.1624,  0.1380,  0.7425],\n",
      "         [ 0.0448,  2.4787, -0.8843,  ...,  1.3219, -0.0864, -0.5856]],\n",
      "\n",
      "        [[-1.5474, -0.0542, -1.0571,  ..., -1.8061, -0.4494, -0.6747],\n",
      "         [-0.8422,  0.8243, -0.1098,  ..., -0.1434,  0.2079,  1.2046],\n",
      "         [ 0.1355,  1.1858, -0.1453,  ...,  0.0869, -0.1590,  0.1552],\n",
      "         [ 0.1666, -0.8138,  0.2307,  ...,  2.5035, -0.3055, -0.3083]]],\n",
      "       grad_fn=<UnsafeViewBackward0>)\n"
     ]
    }
   ],
   "source": [
    "torch.manual_seed(123)\n",
    "model = DummyGPTModel(GPT_CONFIG_124M)\n",
    "logits = model(batch)\n",
    "print(\"Output shape:\", logits.shape)\n",
    "print(logits)"
   ]
  },
  {
   "cell_type": "markdown",
   "id": "1ab6f9f5",
   "metadata": {},
   "source": [
    "## LAYER NORMALIZATION"
   ]
  },
  {
   "cell_type": "code",
   "execution_count": 49,
   "id": "80a99f9f",
   "metadata": {
    "execution": {
     "iopub.execute_input": "2025-06-07T03:05:10.093498Z",
     "iopub.status.busy": "2025-06-07T03:05:10.093175Z",
     "iopub.status.idle": "2025-06-07T03:05:10.103896Z",
     "shell.execute_reply": "2025-06-07T03:05:10.103176Z",
     "shell.execute_reply.started": "2025-06-07T03:05:10.093481Z"
    },
    "trusted": true
   },
   "outputs": [
    {
     "name": "stdout",
     "output_type": "stream",
     "text": [
      "tensor([[0.2260, 0.3470, 0.0000, 0.2216, 0.0000, 0.0000],\n",
      "        [0.2133, 0.2394, 0.0000, 0.5198, 0.3297, 0.0000]],\n",
      "       grad_fn=<ReluBackward0>)\n"
     ]
    }
   ],
   "source": [
    "torch.manual_seed(123)\n",
    "batch_example = torch.randn(2, 5)\n",
    "layer = nn.Sequential(nn.Linear(5,6), nn.ReLU())\n",
    "out = layer(batch_example)\n",
    "print(out)"
   ]
  },
  {
   "cell_type": "markdown",
   "id": "0a38419a",
   "metadata": {},
   "source": [
    "<div class=\"alert alert-block alert-info\">\n",
    "\n",
    "The neural network layer we have coded consists of a Linear layer followed by a non-linear\n",
    "activation function, ReLU (short for Rectified Linear Unit), which is a standard activation\n",
    "function in neural networks. \n",
    "\n",
    "If you are unfamiliar with ReLU, it simply thresholds negative\n",
    "inputs to 0, ensuring that a layer outputs only positive values, which explains why the\n",
    "resulting layer output does not contain any negative values. \n",
    "\n",
    "(Note that we will use another,\n",
    "more sophisticated activation function in GPT, which we will introduce in the next section).\n",
    "</div>"
   ]
  },
  {
   "cell_type": "code",
   "execution_count": 50,
   "id": "6e7a81e9",
   "metadata": {
    "execution": {
     "iopub.execute_input": "2025-06-07T03:05:10.105096Z",
     "iopub.status.busy": "2025-06-07T03:05:10.104811Z",
     "iopub.status.idle": "2025-06-07T03:05:10.134541Z",
     "shell.execute_reply": "2025-06-07T03:05:10.133918Z",
     "shell.execute_reply.started": "2025-06-07T03:05:10.105078Z"
    },
    "trusted": true
   },
   "outputs": [
    {
     "name": "stdout",
     "output_type": "stream",
     "text": [
      "tensor([[0.1324],\n",
      "        [0.2170]], grad_fn=<MeanBackward1>)\n",
      "tensor([[0.0231],\n",
      "        [0.0398]], grad_fn=<VarBackward0>)\n"
     ]
    }
   ],
   "source": [
    "mean = out.mean(dim=-1, keepdim = True)\n",
    "var = out.var(dim=-1, keepdim=True)\n",
    "print(mean)\n",
    "print(var)"
   ]
  },
  {
   "cell_type": "markdown",
   "id": "f7709636",
   "metadata": {},
   "source": [
    "<div class=\"alert alert-block alert-warning\">\n",
    "\n",
    "The first row in the mean tensor above contains the mean value for the first input row, and\n",
    "the second output row contains the mean for the second input row.\n",
    "</div>"
   ]
  },
  {
   "cell_type": "code",
   "execution_count": 51,
   "id": "d92a06e8",
   "metadata": {
    "execution": {
     "iopub.execute_input": "2025-06-07T03:05:10.135862Z",
     "iopub.status.busy": "2025-06-07T03:05:10.135364Z",
     "iopub.status.idle": "2025-06-07T03:05:10.150286Z",
     "shell.execute_reply": "2025-06-07T03:05:10.149393Z",
     "shell.execute_reply.started": "2025-06-07T03:05:10.135843Z"
    },
    "trusted": true
   },
   "outputs": [
    {
     "name": "stdout",
     "output_type": "stream",
     "text": [
      "Normalized layer output\n",
      " tensor([[ 0.6159,  1.4126, -0.8719,  0.5872, -0.8719, -0.8719],\n",
      "        [-0.0189,  0.1121, -1.0876,  1.5173,  0.5647, -1.0876]],\n",
      "       grad_fn=<DivBackward0>)\n",
      "Mean:\n",
      " tensor([[9.9341e-09],\n",
      "        [1.9868e-08]], grad_fn=<MeanBackward1>)\n",
      "Variance:\n",
      " tensor([[1.0000],\n",
      "        [1.0000]], grad_fn=<VarBackward0>)\n"
     ]
    }
   ],
   "source": [
    "out_norm = (out - mean) / torch.sqrt(var)\n",
    "mean = out_norm.mean(dim = -1, keepdim = True)\n",
    "var = out_norm.var(dim = -1, keepdim = True)\n",
    "print(\"Normalized layer output\\n\", out_norm)\n",
    "print(\"Mean:\\n\", mean)\n",
    "print(\"Variance:\\n\", var)"
   ]
  },
  {
   "cell_type": "markdown",
   "id": "2c0831a4",
   "metadata": {},
   "source": [
    "<div class=\"alert alert-block alert-info\">\n",
    "\n",
    "Note that the value 2.9802e-08 in the output tensor is the scientific notation for 2.9802 ×\n",
    "10-8, which is 0.0000000298 in decimal form. This value is very close to 0, but it is not\n",
    "exactly 0 due to small numerical errors that can accumulate because of the finite precision\n",
    "with which computers represent numbers.\n",
    "</div>"
   ]
  },
  {
   "cell_type": "code",
   "execution_count": 52,
   "id": "8af0f2e1",
   "metadata": {
    "execution": {
     "iopub.execute_input": "2025-06-07T03:05:10.151750Z",
     "iopub.status.busy": "2025-06-07T03:05:10.151091Z",
     "iopub.status.idle": "2025-06-07T03:05:10.158756Z",
     "shell.execute_reply": "2025-06-07T03:05:10.158217Z",
     "shell.execute_reply.started": "2025-06-07T03:05:10.151730Z"
    },
    "trusted": true
   },
   "outputs": [],
   "source": [
    "class LayerNorm(nn.Module):\n",
    "    def __init__(self,emb_dim):\n",
    "        super().__init__()\n",
    "        self.eps = 1e-5\n",
    "        self.scale = nn.Parameter(torch.ones(emb_dim))\n",
    "        self.shift = nn.Parameter(torch.zeros(emb_dim))\n",
    "\n",
    "    def forward(self, x):\n",
    "        mean = x.mean(dim = -1, keepdim = True)\n",
    "        var = x.var(dim = -1, keepdim = True, unbiased = False)\n",
    "        norm_x = (x-mean) / torch.sqrt(var + self.eps)\n",
    "        return self.scale * norm_x + self.shift"
   ]
  },
  {
   "cell_type": "markdown",
   "id": "03afd80a",
   "metadata": {},
   "source": [
    "<div class=\"alert alert-block alert-warning\">\n",
    "\n",
    "This specific implementation of layer Normalization operates on the last dimension of the\n",
    "input tensor x, which represents the embedding dimension (emb_dim). \n",
    "\n",
    "The variable eps is a\n",
    "small constant (epsilon) added to the variance to prevent division by zero during\n",
    "normalization. \n",
    "\n",
    "The scale and shift are two trainable parameters (of the same dimension\n",
    "as the input) that the LLM automatically adjusts during training if it is determined that\n",
    "doing so would improve the model's performance on its training task. \n",
    "\n",
    "This allows the model\n",
    "to learn appropriate scaling and shifting that best suit the data it is processing.\n",
    "\n",
    "</div>"
   ]
  },
  {
   "cell_type": "markdown",
   "id": "69a11e0b",
   "metadata": {},
   "source": [
    "<div class=\"alert alert-block alert-info\">\n",
    "\n",
    "In our variance calculation method, we have opted for an implementation detail by\n",
    "setting unbiased=False. \n",
    "\n",
    "For those curious about what this means, in the variance\n",
    "calculation, we divide by the number of inputs n in the variance formula. \n",
    "\n",
    "This approach does not apply Bessel's correction, which typically uses n-1 instead of n in\n",
    "the denominator to adjust for bias in sample variance estimation. \n",
    "\n",
    "This decision results in a so-called biased estimate of the variance. \n",
    "\n",
    "For large-scale language\n",
    "models (LLMs), where the embedding dimension n is significantly large, the\n",
    "difference between using n and n-1 is practically negligible. \n",
    "\n",
    "We chose this approach to ensure compatibility with the GPT-2 model's normalization layers and because it\n",
    "reflects TensorFlow's default behavior, which was used to implement the original GPT2 model.\n",
    "</div>"
   ]
  },
  {
   "cell_type": "code",
   "execution_count": 53,
   "id": "c30075c7",
   "metadata": {
    "execution": {
     "iopub.execute_input": "2025-06-07T03:05:10.159699Z",
     "iopub.status.busy": "2025-06-07T03:05:10.159442Z",
     "iopub.status.idle": "2025-06-07T03:05:10.181028Z",
     "shell.execute_reply": "2025-06-07T03:05:10.180169Z",
     "shell.execute_reply.started": "2025-06-07T03:05:10.159673Z"
    },
    "trusted": true
   },
   "outputs": [
    {
     "name": "stdout",
     "output_type": "stream",
     "text": [
      "tensor([[ 0.5528,  1.0693, -0.0223,  0.2656, -1.8654],\n",
      "        [ 0.9087, -1.3767, -0.9564,  1.1304,  0.2940]], grad_fn=<AddBackward0>)\n",
      "Mean:\n",
      " tensor([[-2.9802e-08],\n",
      "        [ 0.0000e+00]], grad_fn=<MeanBackward1>)\n",
      "Variance:\n",
      " tensor([[1.0000],\n",
      "        [1.0000]], grad_fn=<VarBackward0>)\n"
     ]
    }
   ],
   "source": [
    "ln = LayerNorm(emb_dim = 5)\n",
    "out_ln  = ln(batch_example)\n",
    "print(out_ln)\n",
    "mean = out_ln.mean(dim=-1, keepdim=True)\n",
    "var = out_ln.var(dim=-1, unbiased=False, keepdim=True)\n",
    "print(\"Mean:\\n\", mean)\n",
    "print(\"Variance:\\n\", var)"
   ]
  },
  {
   "cell_type": "code",
   "execution_count": 54,
   "id": "81a5cb79",
   "metadata": {
    "execution": {
     "iopub.execute_input": "2025-06-07T03:05:10.182412Z",
     "iopub.status.busy": "2025-06-07T03:05:10.182033Z",
     "iopub.status.idle": "2025-06-07T03:05:10.196386Z",
     "shell.execute_reply": "2025-06-07T03:05:10.195826Z",
     "shell.execute_reply.started": "2025-06-07T03:05:10.182390Z"
    },
    "trusted": true
   },
   "outputs": [],
   "source": [
    "class GELU(nn.Module):\n",
    "    def __init__(self):\n",
    "        super().__init__()\n",
    "\n",
    "    def forward(self, x):\n",
    "        return 0.5 * x * (1 + torch.tanh(\n",
    "            torch.sqrt(torch.tensor(2.0 / torch.pi)) * \n",
    "            (x + 0.044715 * torch.pow(x, 3))\n",
    "        ))"
   ]
  },
  {
   "cell_type": "code",
   "execution_count": 55,
   "id": "e01bb900",
   "metadata": {
    "execution": {
     "iopub.execute_input": "2025-06-07T03:05:10.197541Z",
     "iopub.status.busy": "2025-06-07T03:05:10.197054Z",
     "iopub.status.idle": "2025-06-07T03:05:10.778286Z",
     "shell.execute_reply": "2025-06-07T03:05:10.777463Z",
     "shell.execute_reply.started": "2025-06-07T03:05:10.197517Z"
    },
    "trusted": true
   },
   "outputs": [
    {
     "data": {
      "image/png": "[encoded data removed]",
      "text/plain": [
       "<Figure size 800x300 with 3 Axes>"
      ]
     },
     "metadata": {},
     "output_type": "display_data"
    }
   ],
   "source": [
    "import matplotlib.pyplot as plt\n",
    "\n",
    "gelu, relu = GELU(), nn.ReLU()\n",
    "\n",
    "# Some sample data\n",
    "x = torch.linspace(-3, 3, 100)\n",
    "y_gelu, y_relu, y_gelu_dist = gelu(x), relu(x), (gelu(x))/x\n",
    "\n",
    "plt.figure(figsize=(8, 3))\n",
    "for i, (y, label) in enumerate(zip([y_gelu, y_relu,y_gelu_dist], [\"GELU\", \"ReLU\", \"GELU_DIST\"]), 1):\n",
    "    plt.subplot(1, 3, i)\n",
    "    plt.plot(x, y)\n",
    "    plt.title(f\"{label} activation function\")\n",
    "    plt.xlabel(\"x\")\n",
    "    plt.ylabel(f\"{label}(x)\")\n",
    "    plt.grid(True)\n",
    "\n",
    "plt.tight_layout()\n",
    "plt.show()\n"
   ]
  },
  {
   "cell_type": "code",
   "execution_count": 56,
   "id": "7c365cc0",
   "metadata": {
    "execution": {
     "iopub.execute_input": "2025-06-07T03:05:10.779407Z",
     "iopub.status.busy": "2025-06-07T03:05:10.779143Z",
     "iopub.status.idle": "2025-06-07T03:05:10.783943Z",
     "shell.execute_reply": "2025-06-07T03:05:10.783407Z",
     "shell.execute_reply.started": "2025-06-07T03:05:10.779390Z"
    },
    "trusted": true
   },
   "outputs": [],
   "source": [
    "class FeedForward(nn.Module):\n",
    "    def __init__(self, cfg):\n",
    "        super().__init__()\n",
    "        self.layers = nn.Sequential(\n",
    "            nn.Linear(cfg[\"emb_dim\"], 4 * cfg[\"emb_dim\"]),\n",
    "            GELU(),\n",
    "            nn.Linear(4 * cfg[\"emb_dim\"], cfg[\"emb_dim\"]),    \n",
    "        )\n",
    "    def forward(self, x):\n",
    "        return self.layers(x)\n",
    "    "
   ]
  },
  {
   "cell_type": "code",
   "execution_count": 57,
   "id": "3ef2300c",
   "metadata": {
    "execution": {
     "iopub.execute_input": "2025-06-07T03:05:10.784789Z",
     "iopub.status.busy": "2025-06-07T03:05:10.784611Z",
     "iopub.status.idle": "2025-06-07T03:05:10.853246Z",
     "shell.execute_reply": "2025-06-07T03:05:10.852456Z",
     "shell.execute_reply.started": "2025-06-07T03:05:10.784774Z"
    },
    "trusted": true
   },
   "outputs": [
    {
     "name": "stdout",
     "output_type": "stream",
     "text": [
      "torch.Size([2, 3, 768])\n"
     ]
    }
   ],
   "source": [
    "ffn = FeedForward(GPT_CONFIG_124M)\n",
    "x = torch.rand(2, 3, 768) #A\n",
    "out = ffn(x)\n",
    "print(out.shape)"
   ]
  },
  {
   "cell_type": "markdown",
   "id": "4c8338b9",
   "metadata": {},
   "source": [
    "# SHORTCUT CONNECTIONS"
   ]
  },
  {
   "cell_type": "markdown",
   "id": "6b697c61",
   "metadata": {},
   "source": [
    "![Screenshot](images/screenshot7.png)\n"
   ]
  },
  {
   "cell_type": "code",
   "execution_count": 58,
   "id": "f747b73b",
   "metadata": {
    "execution": {
     "iopub.execute_input": "2025-06-07T03:05:10.854410Z",
     "iopub.status.busy": "2025-06-07T03:05:10.854145Z",
     "iopub.status.idle": "2025-06-07T03:05:10.860359Z",
     "shell.execute_reply": "2025-06-07T03:05:10.859740Z",
     "shell.execute_reply.started": "2025-06-07T03:05:10.854385Z"
    },
    "trusted": true
   },
   "outputs": [],
   "source": [
    "class ExampleDeepNeuralNetwork(nn.Module):\n",
    "    def __init__(self, layer_sizes, use_shortcut):\n",
    "        super().__init__()\n",
    "        self.use_shortcut = use_shortcut\n",
    "        self.layers = nn.ModuleList([\n",
    "            nn.Sequential(nn.Linear(layer_sizes[0], layer_sizes[1]), GELU()),\n",
    "            nn.Sequential(nn.Linear(layer_sizes[1], layer_sizes[2]), GELU()),\n",
    "            nn.Sequential(nn.Linear(layer_sizes[2], layer_sizes[3]), GELU()),\n",
    "            nn.Sequential(nn.Linear(layer_sizes[3], layer_sizes[4]), GELU()),\n",
    "            nn.Sequential(nn.Linear(layer_sizes[4], layer_sizes[5]), GELU())\n",
    "        ])\n",
    "\n",
    "    def forward(self, x):\n",
    "        for layer in self.layers:\n",
    "            # Compute the output of the current layer\n",
    "            layer_output = layer(x)\n",
    "            # Check if shortcut can be applied\n",
    "            if self.use_shortcut and x.shape == layer_output.shape:\n",
    "                x = x + layer_output\n",
    "            else:\n",
    "                x = layer_output\n",
    "        return x\n"
   ]
  },
  {
   "cell_type": "markdown",
   "id": "0b3e63ad",
   "metadata": {},
   "source": [
    "<div class=\"alert alert-block alert-info\">\n",
    "\n",
    "The code implements a deep neural network with 5 layers, each consisting of a Linear\n",
    "layer and a GELU activation function. \n",
    "\n",
    "In the forward pass, we iteratively pass the input\n",
    "through the layers and optionally add the shortcut connections  if\n",
    "the self.use_shortcut attribute is set to True.\n",
    "</div>"
   ]
  },
  {
   "cell_type": "markdown",
   "id": "c850696e",
   "metadata": {},
   "source": [
    "<div class=\"alert alert-block alert-success\">\n",
    "\n",
    "Let's use this code to first initialize a neural network without shortcut connections. Here,\n",
    "each layer will be initialized such that it accepts an example with 3 input values and returns\n",
    "3 output values. The last layer returns a single output value:\n",
    "</div>"
   ]
  },
  {
   "cell_type": "code",
   "execution_count": 59,
   "id": "eb4932ce",
   "metadata": {
    "execution": {
     "iopub.execute_input": "2025-06-07T03:05:10.861657Z",
     "iopub.status.busy": "2025-06-07T03:05:10.861142Z",
     "iopub.status.idle": "2025-06-07T03:05:10.880987Z",
     "shell.execute_reply": "2025-06-07T03:05:10.880460Z",
     "shell.execute_reply.started": "2025-06-07T03:05:10.861630Z"
    },
    "trusted": true
   },
   "outputs": [],
   "source": [
    "layer_sizes = [3, 3, 3, 3, 3, 1]\n",
    "sample_input = torch.tensor([[1., 0., -1.]])\n",
    "torch.manual_seed(123) # specify random seed for the initial weights for reproducibility\n",
    "model_without_shortcut = ExampleDeepNeuralNetwork(\n",
    "layer_sizes, use_shortcut=False\n",
    ")"
   ]
  },
  {
   "cell_type": "code",
   "execution_count": 60,
   "id": "02063c0d",
   "metadata": {
    "execution": {
     "iopub.execute_input": "2025-06-07T03:05:10.881941Z",
     "iopub.status.busy": "2025-06-07T03:05:10.881684Z",
     "iopub.status.idle": "2025-06-07T03:05:10.895952Z",
     "shell.execute_reply": "2025-06-07T03:05:10.895408Z",
     "shell.execute_reply.started": "2025-06-07T03:05:10.881917Z"
    },
    "trusted": true
   },
   "outputs": [],
   "source": [
    "def print_gradients(model, x):\n",
    "    # Forward pass\n",
    "    output = model(x)\n",
    "    target = torch.tensor([[0.]])\n",
    "\n",
    "    # Calculate loss based on how close the target\n",
    "    # and output are\n",
    "    loss = nn.MSELoss()\n",
    "    loss = loss(output, target)\n",
    "    \n",
    "    # Backward pass to calculate the gradients\n",
    "    loss.backward()\n",
    "\n",
    "    for name, param in model.named_parameters():\n",
    "        if 'weight' in name:\n",
    "            # Print the mean absolute gradient of the weights\n",
    "            print(f\"{name} has gradient mean of {param.grad.abs().mean().item()}\")"
   ]
  },
  {
   "cell_type": "markdown",
   "id": "f63d59bd",
   "metadata": {},
   "source": [
    "<div class=\"alert alert-block alert-warning\">\n",
    "\n",
    "In the preceding code, we specify a loss function that computes how close the model output\n",
    "and a user-specified target (here, for simplicity, the value 0) are. \n",
    "\n",
    "Then, when calling loss.backward(), PyTorch computes the loss gradient for each layer in the model. \n",
    "\n",
    "We can iterate through the weight parameters via model.named_parameters(). \n",
    "\n",
    "Suppose we have a 3×3 weight parameter matrix for a given layer. \n",
    "\n",
    "In that case, this layer will have 3×3 gradient values, and we print the mean absolute gradient of these 3×3 gradient values to\n",
    "obtain a single gradient value per layer to compare the gradients between layers more\n",
    "easily.\n",
    "</div>"
   ]
  },
  {
   "cell_type": "markdown",
   "id": "d2fd40f4",
   "metadata": {},
   "source": [
    "<div class=\"alert alert-block alert-warning\">\n",
    "\n",
    "In short, the .backward() method is a convenient method in PyTorch that computes loss\n",
    "gradients, which are required during model training, without implementing the math for the\n",
    "gradient calculation ourselves, thereby making working with deep neural networks much\n",
    "more accessible. \n",
    "</div>"
   ]
  },
  {
   "cell_type": "markdown",
   "id": "41d9b839",
   "metadata": {},
   "source": [
    "<div class=\"alert alert-block alert-success\">\n",
    "\n",
    "Let's now use the print_gradients function and apply it to the model without skip\n",
    "connections:\n",
    "</div>"
   ]
  },
  {
   "cell_type": "code",
   "execution_count": 61,
   "id": "5cdca392",
   "metadata": {
    "execution": {
     "iopub.execute_input": "2025-06-07T03:05:10.901842Z",
     "iopub.status.busy": "2025-06-07T03:05:10.901633Z",
     "iopub.status.idle": "2025-06-07T03:05:11.037769Z",
     "shell.execute_reply": "2025-06-07T03:05:11.037107Z",
     "shell.execute_reply.started": "2025-06-07T03:05:10.901827Z"
    },
    "trusted": true
   },
   "outputs": [
    {
     "name": "stdout",
     "output_type": "stream",
     "text": [
      "layers.0.0.weight has gradient mean of 0.00020173584925942123\n",
      "layers.1.0.weight has gradient mean of 0.00012011159560643137\n",
      "layers.2.0.weight has gradient mean of 0.0007152040489017963\n",
      "layers.3.0.weight has gradient mean of 0.0013988736318424344\n",
      "layers.4.0.weight has gradient mean of 0.005049645435065031\n"
     ]
    }
   ],
   "source": [
    "print_gradients(model_without_shortcut, sample_input)"
   ]
  },
  {
   "cell_type": "markdown",
   "id": "4ed95d82",
   "metadata": {},
   "source": [
    "<div class=\"alert alert-block alert-info\">\n",
    "As we can see based on the output of the print_gradients function, the gradients become\n",
    "smaller as we progress from the last layer (layers.4) to the first layer (layers.0), which\n",
    "is a phenomenon called the vanishing gradient problem.\n",
    "    \n",
    "</div>"
   ]
  },
  {
   "cell_type": "markdown",
   "id": "cbfa92b4",
   "metadata": {},
   "source": [
    "<div class=\"alert alert-block alert-success\">\n",
    "Let's now instantiate a model with skip connections and see how it compares:\n",
    "</div>"
   ]
  },
  {
   "cell_type": "code",
   "execution_count": 62,
   "id": "7194e3b4",
   "metadata": {
    "execution": {
     "iopub.execute_input": "2025-06-07T03:05:11.038822Z",
     "iopub.status.busy": "2025-06-07T03:05:11.038534Z",
     "iopub.status.idle": "2025-06-07T03:05:11.049357Z",
     "shell.execute_reply": "2025-06-07T03:05:11.048620Z",
     "shell.execute_reply.started": "2025-06-07T03:05:11.038797Z"
    },
    "trusted": true
   },
   "outputs": [
    {
     "name": "stdout",
     "output_type": "stream",
     "text": [
      "layers.0.0.weight has gradient mean of 0.22169792652130127\n",
      "layers.1.0.weight has gradient mean of 0.20694108307361603\n",
      "layers.2.0.weight has gradient mean of 0.3289699852466583\n",
      "layers.3.0.weight has gradient mean of 0.2665732204914093\n",
      "layers.4.0.weight has gradient mean of 1.3258541822433472\n"
     ]
    }
   ],
   "source": [
    "torch.manual_seed(123)\n",
    "model_with_shortcut = ExampleDeepNeuralNetwork(\n",
    "layer_sizes, use_shortcut=True\n",
    ")\n",
    "print_gradients(model_with_shortcut, sample_input)"
   ]
  },
  {
   "cell_type": "markdown",
   "id": "124a1472",
   "metadata": {},
   "source": [
    "<div class=\"alert alert-block alert-info\">\n",
    "As we can see, based on the output, the last layer (layers.4) still has a larger gradient\n",
    "than the other layers. \n",
    "\n",
    "However, the gradient value stabilizes as we progress towards the\n",
    "first layer (layers.0) and doesn't shrink to a vanishingly small value.\n",
    "</div>"
   ]
  },
  {
   "cell_type": "markdown",
   "id": "8dd87349",
   "metadata": {},
   "source": [
    "<div class=\"alert alert-block alert-warning\">\n",
    "\n",
    "In conclusion, shortcut connections are important for overcoming the limitations posed\n",
    "by the vanishing gradient problem in deep neural networks. \n",
    "\n",
    "Shortcut connections are a core building block of very large models such as LLMs, and they will help facilitate more effective\n",
    "training by ensuring consistent gradient flow across layers when we train the GPT model \n",
    "</div>"
   ]
  },
  {
   "cell_type": "markdown",
   "id": "d0355764",
   "metadata": {},
   "source": [
    "## GPT ARCHITECTURE PART 5: CODING ATTENTION AND LINEAR LAYERS IN A TRANSFORMER BLOCK"
   ]
  },
  {
   "cell_type": "code",
   "execution_count": 63,
   "id": "1cdc2221",
   "metadata": {
    "execution": {
     "iopub.execute_input": "2025-06-07T03:05:11.050676Z",
     "iopub.status.busy": "2025-06-07T03:05:11.050353Z",
     "iopub.status.idle": "2025-06-07T03:05:11.063220Z",
     "shell.execute_reply": "2025-06-07T03:05:11.062597Z",
     "shell.execute_reply.started": "2025-06-07T03:05:11.050658Z"
    },
    "trusted": true
   },
   "outputs": [],
   "source": [
    "class LayerNorm(nn.Module):\n",
    "    def __init__(self,emb_dim):\n",
    "        super().__init__()\n",
    "        self.eps = 1e-5\n",
    "        self.scale = nn.Parameter(torch.ones(emb_dim))\n",
    "        self.shift = nn.Parameter(torch.zeros(emb_dim))\n",
    "\n",
    "    def forward(self, x):\n",
    "        mean = x.mean(dim = -1, keepdim = True)\n",
    "        var = x.var(dim = -1, keepdim = True, unbiased = False)\n",
    "        norm_x = (x-mean) / torch.sqrt(var + self.eps)\n",
    "        return self.scale * norm_x + self.shift\n",
    "\n",
    "class GELU(nn.Module):\n",
    "    def __init__(self):\n",
    "        super().__init__()\n",
    "\n",
    "    def forward(self, x):\n",
    "        return 0.5 * x * (1 + torch.tanh(\n",
    "            torch.sqrt(torch.tensor(2.0 / torch.pi)) * \n",
    "            (x + 0.044715 * torch.pow(x, 3))\n",
    "        ))\n",
    "    \n",
    "class FeedForward(nn.Module):\n",
    "    def __init__(self, cfg):\n",
    "        super().__init__()\n",
    "        self.layers = nn.Sequential(\n",
    "            nn.Linear(cfg[\"emb_dim\"], 4 * cfg[\"emb_dim\"]),\n",
    "            GELU(),\n",
    "            nn.Linear(4 * cfg[\"emb_dim\"], cfg[\"emb_dim\"]),    \n",
    "        )\n",
    "    def forward(self, x):\n",
    "        return self.layers(x)\n",
    "    "
   ]
  },
  {
   "cell_type": "code",
   "execution_count": 64,
   "id": "aef78877",
   "metadata": {
    "execution": {
     "iopub.execute_input": "2025-06-07T03:05:11.064346Z",
     "iopub.status.busy": "2025-06-07T03:05:11.063968Z",
     "iopub.status.idle": "2025-06-07T03:05:11.084043Z",
     "shell.execute_reply": "2025-06-07T03:05:11.083423Z",
     "shell.execute_reply.started": "2025-06-07T03:05:11.064318Z"
    },
    "trusted": true
   },
   "outputs": [],
   "source": [
    "class TransofrmerBlock(nn.Module):\n",
    "    def __init__(self, cfg):\n",
    "        super().__init__()\n",
    "        self.att = MultiHeadedAttention(\n",
    "            cfg[\"emb_dim\"], cfg[\"emb_dim\"], cfg[\"context_length\"],\n",
    "            cfg[\"drop_rate\"], cfg[\"n_heads\"], qkv_bias=cfg[\"qkv_bias\"]\n",
    "        )\n",
    "        self.ff = FeedForward(cfg)\n",
    "        self.norm1 = LayerNorm(cfg[\"emb_dim\"])\n",
    "        self.norm2 = LayerNorm(cfg[\"emb_dim\"])\n",
    "        self.drop_shortcut = nn.Dropout(cfg[\"drop_rate\"])\n",
    "\n",
    "    def forward (self, x):\n",
    "        shortcut = x\n",
    "        x = self.norm1(x)\n",
    "        x = self.att(x)\n",
    "        x = self.drop_shortcut(x)\n",
    "        x = x + shortcut\n",
    "\n",
    "        shortcut = x\n",
    "        x = self.norm2(x)\n",
    "        x = self.ff(x)\n",
    "        x = self.drop_shortcut(x)\n",
    "        x = x + shortcut\n",
    "\n",
    "        return x"
   ]
  },
  {
   "cell_type": "markdown",
   "id": "268da556",
   "metadata": {},
   "source": [
    "<div class=\"alert alert-block alert-warning\">\n",
    "\n",
    "Layer normalization (LayerNorm) is applied before each of these two components, and\n",
    "dropout is applied after them to regularize the model and prevent overfitting. \n",
    "\n",
    "This is also known as Pre-LayerNorm. \n",
    "\n",
    "Older architectures, such as the original transformer model,\n",
    "applied layer normalization after the self-attention and feed-forward networks instead,\n",
    "known as Post-LayerNorm, which often leads to worse training dynamics.\n",
    "</div>"
   ]
  },
  {
   "cell_type": "code",
   "execution_count": 65,
   "id": "3b3de627",
   "metadata": {
    "execution": {
     "iopub.execute_input": "2025-06-07T03:05:11.085207Z",
     "iopub.status.busy": "2025-06-07T03:05:11.084933Z",
     "iopub.status.idle": "2025-06-07T03:05:11.183716Z",
     "shell.execute_reply": "2025-06-07T03:05:11.183029Z",
     "shell.execute_reply.started": "2025-06-07T03:05:11.085186Z"
    },
    "trusted": true
   },
   "outputs": [
    {
     "name": "stdout",
     "output_type": "stream",
     "text": [
      "Input shape: torch.Size([2, 4, 768])\n",
      "Output shape: torch.Size([2, 4, 768])\n"
     ]
    }
   ],
   "source": [
    "torch.manual_seed(123)\n",
    "x = torch.rand(2, 4, 768)\n",
    "block = TransofrmerBlock(GPT_CONFIG_124M)\n",
    "output = block(x)\n",
    "print(\"Input shape:\", x.shape)\n",
    "print(\"Output shape:\", output.shape)"
   ]
  },
  {
   "cell_type": "markdown",
   "id": "db003c40",
   "metadata": {},
   "source": [
    "<div class=\"alert alert-block alert-info\">\n",
    "\n",
    "As we can see from the code output, the transformer block maintains the input dimensions\n",
    "in its output, indicating that the transformer architecture processes sequences of data\n",
    "without altering their shape throughout the network.\n",
    "</div>"
   ]
  },
  {
   "cell_type": "markdown",
   "id": "8b11ebb9",
   "metadata": {},
   "source": [
    "<div class=\"alert alert-block alert-warning\">\n",
    "    \n",
    "The preservation of shape throughout the transformer block architecture is not incidental\n",
    "but a crucial aspect of its design. \n",
    "\n",
    "This design enables its effective application across a wide\n",
    "range of sequence-to-sequence tasks, where each output vector directly corresponds to an\n",
    "input vector, maintaining a one-to-one relationship. \n",
    "</div>"
   ]
  },
  {
   "cell_type": "markdown",
   "id": "2d69f799",
   "metadata": {},
   "source": [
    "<div class=\"alert alert-block alert-warning\">\n",
    "\n",
    "However, the output is a context vector\n",
    "that encapsulates information from the entire input sequence.\n",
    "\n",
    "This means that while the physical dimensions of the sequence (length and feature size)\n",
    "remain unchanged as it passes through the transformer block, the content of each output\n",
    "vector is re-encoded to integrate contextual information from across the entire input\n",
    "sequence.\n",
    "\n",
    "</div>"
   ]
  },
  {
   "cell_type": "markdown",
   "id": "403551c2",
   "metadata": {},
   "source": [
    "## GPT ARCHITECTURE PART 6: ENTIRE GPT MODEL ARCHITECTURE IMPLEMENTATION"
   ]
  },
  {
   "cell_type": "markdown",
   "id": "941cd900",
   "metadata": {},
   "source": [
    "<div class=\"alert alert-block alert-info\">\n",
    "\n",
    "The device setting will allow us to train the model on a CPU or GPU, depending on which device the input\n",
    "data sits\n",
    "    \n",
    "</div>"
   ]
  },
  {
   "cell_type": "code",
   "execution_count": 66,
   "id": "b28e6882",
   "metadata": {
    "execution": {
     "iopub.execute_input": "2025-06-07T03:05:11.184808Z",
     "iopub.status.busy": "2025-06-07T03:05:11.184522Z",
     "iopub.status.idle": "2025-06-07T03:05:11.191675Z",
     "shell.execute_reply": "2025-06-07T03:05:11.190815Z",
     "shell.execute_reply.started": "2025-06-07T03:05:11.184781Z"
    },
    "trusted": true
   },
   "outputs": [],
   "source": [
    "class GPTModel(nn.Module):\n",
    "    def __init__(self, cfg):\n",
    "        super().__init__()\n",
    "\n",
    "        self.tok_emb  = nn.Embedding(cfg[\"vocab_size\"], cfg[\"emb_dim\"])\n",
    "        self.pos_emb = nn.Embedding(cfg[\"context_length\"], cfg[\"emb_dim\"])\n",
    "        self.drop_emb = nn.Dropout(cfg[\"drop_rate\"])\n",
    "\n",
    "        self.trf_blocks = nn.Sequential(\n",
    "            *[TransofrmerBlock(cfg) for _ in range(cfg[\"n_layers\"])]\n",
    "        )\n",
    "        self.final_norm = LayerNorm(cfg[\"emb_dim\"])\n",
    "        self.out_head = nn.Linear(cfg[\"emb_dim\"], cfg[\"vocab_size\"], bias = False)\n",
    "\n",
    "    def forward(self, in_idx):\n",
    "        batch_size, seq_len = in_idx.shape\n",
    "        tok_embeds = self.tok_emb(in_idx)\n",
    "        pos_embeds = self.pos_emb(torch.arange(seq_len, device = in_idx.device))\n",
    "        x = tok_embeds + pos_embeds\n",
    "        x = self.drop_emb(x)\n",
    "        x = self.trf_blocks(x)\n",
    "        x = self.final_norm(x)\n",
    "        logits = self.out_head(x)\n",
    "        return logits\n",
    "    "
   ]
  },
  {
   "cell_type": "code",
   "execution_count": 67,
   "id": "ef2fb85e",
   "metadata": {
    "execution": {
     "iopub.execute_input": "2025-06-07T03:05:11.192988Z",
     "iopub.status.busy": "2025-06-07T03:05:11.192604Z",
     "iopub.status.idle": "2025-06-07T03:05:12.782747Z",
     "shell.execute_reply": "2025-06-07T03:05:12.782000Z",
     "shell.execute_reply.started": "2025-06-07T03:05:11.192965Z"
    },
    "trusted": true
   },
   "outputs": [
    {
     "name": "stdout",
     "output_type": "stream",
     "text": [
      "Input batch:\n",
      " tensor([[6109, 3626, 6100,  345],\n",
      "        [6109, 1110, 6622,  257]])\n",
      "\n",
      "Output shape: torch.Size([2, 4, 50257])\n",
      "tensor([[[ 0.1381,  0.0077, -0.1963,  ..., -0.0222, -0.1060,  0.1717],\n",
      "         [ 0.3865, -0.8408, -0.6564,  ..., -0.5163,  0.2369, -0.3357],\n",
      "         [ 0.6989, -0.1829, -0.1631,  ...,  0.1472, -0.6504, -0.0056],\n",
      "         [-0.4290,  0.1669, -0.1258,  ...,  1.1579,  0.5303, -0.5549]],\n",
      "\n",
      "        [[ 0.1094, -0.2894, -0.1467,  ..., -0.0557,  0.2911, -0.2824],\n",
      "         [ 0.0882, -0.3552, -0.3527,  ...,  1.2930,  0.0053,  0.1898],\n",
      "         [ 0.6091,  0.4702, -0.4094,  ...,  0.7688,  0.3787, -0.1974],\n",
      "         [-0.0612, -0.0737,  0.4751,  ...,  1.2463, -0.3834,  0.0609]]],\n",
      "       grad_fn=<UnsafeViewBackward0>)\n"
     ]
    }
   ],
   "source": [
    "torch.manual_seed(123)\n",
    "model = GPTModel(GPT_CONFIG_124M)\n",
    "out = model(batch)\n",
    "print(\"Input batch:\\n\", batch)\n",
    "print(\"\\nOutput shape:\", out.shape)\n",
    "print(out)\n",
    "\n"
   ]
  },
  {
   "cell_type": "markdown",
   "id": "cc76e164",
   "metadata": {},
   "source": [
    "<div class=\"alert alert-block alert-info\">\n",
    "\n",
    "As we can see, the output tensor has the shape [2, 4, 50257], since we passed in 2 input\n",
    "texts with 4 tokens each. The last dimension, 50,257, corresponds to the vocabulary size of\n",
    "the tokenizer. In the next section, we will see how to convert each of these 50,257-\n",
    "dimensional output vectors back into tokens.\n",
    "    \n",
    "</div>"
   ]
  },
  {
   "cell_type": "markdown",
   "id": "1b134d41",
   "metadata": {},
   "source": [
    "<div class=\"alert alert-block alert-success\">\n",
    "Using the numel() method, short for \"number of elements,\" we can collect the total\n",
    "number of parameters in the model's parameter tensors:\n",
    "</div>"
   ]
  },
  {
   "cell_type": "code",
   "execution_count": 68,
   "id": "b25de605",
   "metadata": {
    "execution": {
     "iopub.execute_input": "2025-06-07T03:05:12.783744Z",
     "iopub.status.busy": "2025-06-07T03:05:12.783536Z",
     "iopub.status.idle": "2025-06-07T03:05:12.788944Z",
     "shell.execute_reply": "2025-06-07T03:05:12.788003Z",
     "shell.execute_reply.started": "2025-06-07T03:05:12.783729Z"
    },
    "trusted": true
   },
   "outputs": [
    {
     "name": "stdout",
     "output_type": "stream",
     "text": [
      "Total number of parameters: 163,009,536\n"
     ]
    }
   ],
   "source": [
    "total_params = sum(p.numel() for p in model.parameters())\n",
    "print(f\"Total number of parameters: {total_params:,}\")\n"
   ]
  },
  {
   "cell_type": "markdown",
   "id": "0011a00b",
   "metadata": {},
   "source": [
    "<div class=\"alert alert-block alert-danger\">\n",
    "Earlier, we spoke of initializing a 124\n",
    "million parameter GPT model, so why is the actual number of parameters 163 million, as\n",
    "shown in the preceding code output?\n",
    "</div>\n"
   ]
  },
  {
   "cell_type": "markdown",
   "id": "e3235865",
   "metadata": {},
   "source": [
    "<div class=\"alert alert-block alert-warning\">\n",
    "    \n",
    "The reason is a concept called weight tying that is used in the original GPT-2\n",
    "architecture, which means that the original GPT-2 architecture is reusing the weights from\n",
    "the token embedding layer in its output layer. \n",
    "\n",
    "To understand what this means, let's take a\n",
    "look at the shapes of the token embedding layer and linear output layer that we initialized\n",
    "on the model via the GPTModel earlier:\n",
    "\n",
    "</div>"
   ]
  },
  {
   "cell_type": "code",
   "execution_count": 69,
   "id": "d7cfbf2d",
   "metadata": {
    "execution": {
     "iopub.execute_input": "2025-06-07T03:05:12.789936Z",
     "iopub.status.busy": "2025-06-07T03:05:12.789735Z",
     "iopub.status.idle": "2025-06-07T03:05:12.806818Z",
     "shell.execute_reply": "2025-06-07T03:05:12.806076Z",
     "shell.execute_reply.started": "2025-06-07T03:05:12.789921Z"
    },
    "trusted": true
   },
   "outputs": [
    {
     "name": "stdout",
     "output_type": "stream",
     "text": [
      "Token embedding layer shape: torch.Size([50257, 768])\n",
      "Output layer shape: torch.Size([50257, 768])\n"
     ]
    }
   ],
   "source": [
    "print(\"Token embedding layer shape:\", model.tok_emb.weight.shape)\n",
    "print(\"Output layer shape:\", model.out_head.weight.shape)"
   ]
  },
  {
   "cell_type": "markdown",
   "id": "eed42f56",
   "metadata": {},
   "source": [
    "<div class=\"alert alert-block alert-info\">\n",
    "\n",
    "As we can see based on the print outputs, the weight tensors for both these layers have the\n",
    "same shape:\n",
    "</div>"
   ]
  },
  {
   "cell_type": "markdown",
   "id": "350bb954",
   "metadata": {},
   "source": [
    "<div class=\"alert alert-block alert-success\">\n",
    "The token embedding and output layers are very large due to the number of rows for the\n",
    "50,257 in the tokenizer's vocabulary. Let's remove the output layer parameter count from\n",
    "the total GPT-2 model count according to the weight tying:\n",
    "</div>"
   ]
  },
  {
   "cell_type": "code",
   "execution_count": 70,
   "id": "38117b5c",
   "metadata": {
    "execution": {
     "iopub.execute_input": "2025-06-07T03:05:12.807864Z",
     "iopub.status.busy": "2025-06-07T03:05:12.807616Z",
     "iopub.status.idle": "2025-06-07T03:05:12.825731Z",
     "shell.execute_reply": "2025-06-07T03:05:12.825167Z",
     "shell.execute_reply.started": "2025-06-07T03:05:12.807842Z"
    },
    "trusted": true
   },
   "outputs": [
    {
     "name": "stdout",
     "output_type": "stream",
     "text": [
      "Number of trainable parameters considering weight tying: 124,412,160\n"
     ]
    }
   ],
   "source": [
    "total_params_gpt2 = total_params - sum(p.numel() for p in model.out_head.parameters())\n",
    "print(f\"Number of trainable parameters considering weight tying: {total_params_gpt2:,}\")"
   ]
  },
  {
   "cell_type": "markdown",
   "id": "2151f226",
   "metadata": {},
   "source": [
    "<div class=\"alert alert-block alert-info\">\n",
    "\n",
    "As we can see, the model is now only 124 million parameters large, matching the original\n",
    "size of the GPT-2 model.\n",
    "</div>"
   ]
  },
  {
   "cell_type": "markdown",
   "id": "7752dd4b",
   "metadata": {},
   "source": [
    "<div class=\"alert alert-block alert-warning\">\n",
    "    \n",
    "Weight tying reduces the overall memory footprint and computational complexity of the\n",
    "model. However, in my experience, using separate token embedding and output layers\n",
    "results in better training and model performance; hence, we are using separate layers in\n",
    "our GPTModel implementation. The same is true for modern LLMs.\n",
    "\n",
    "</div>\n"
   ]
  },
  {
   "cell_type": "markdown",
   "id": "d7a3397b",
   "metadata": {},
   "source": [
    "<div class=\"alert alert-block alert-success\">\n",
    "Lastly, let us compute the memory requirements of the 163 million parameters in our\n",
    "GPTModel object:\n",
    "</div>"
   ]
  },
  {
   "cell_type": "code",
   "execution_count": 71,
   "id": "e4c8f883",
   "metadata": {
    "execution": {
     "iopub.execute_input": "2025-06-07T03:05:12.826343Z",
     "iopub.status.busy": "2025-06-07T03:05:12.826184Z",
     "iopub.status.idle": "2025-06-07T03:05:12.842414Z",
     "shell.execute_reply": "2025-06-07T03:05:12.841803Z",
     "shell.execute_reply.started": "2025-06-07T03:05:12.826330Z"
    },
    "trusted": true
   },
   "outputs": [
    {
     "name": "stdout",
     "output_type": "stream",
     "text": [
      "Total size of the model: 621.83 MB\n"
     ]
    }
   ],
   "source": [
    "total_size_bytes = total_params * 4 #A\n",
    "total_size_mb = total_size_bytes / (1024 * 1024) #B\n",
    "print(f\"Total size of the model: {total_size_mb:.2f} MB\")"
   ]
  },
  {
   "cell_type": "markdown",
   "id": "dc9e640d",
   "metadata": {},
   "source": [
    "<div class=\"alert alert-block alert-warning\">\n",
    "    \n",
    "In conclusion, by calculating the memory requirements for the 163 million parameters in\n",
    "our GPTModel object and assuming each parameter is a 32-bit float taking up 4 bytes, we\n",
    "find that the total size of the model amounts to 621.83 MB, illustrating the relatively large\n",
    "storage capacity required to accommodate even relatively small LLMs.\n",
    "\n",
    "</div>"
   ]
  },
  {
   "cell_type": "markdown",
   "id": "a9f28e64",
   "metadata": {},
   "source": [
    "<div class=\"alert alert-block alert-warning\">\n",
    "    \n",
    "In this section, we implemented the GPTModel architecture and saw that it outputs\n",
    "numeric tensors of shape [batch_size, num_tokens, vocab_size]. In the next section,\n",
    "we will write the code to convert these output tensors into text.\n",
    "\n",
    "</div>"
   ]
  },
  {
   "cell_type": "markdown",
   "id": "6bbf9a9d",
   "metadata": {},
   "source": [
    "Weight tying means sharing the same weight matrix between:\n",
    "\n",
    "The token embedding layer (converts token IDs to vectors), and\n",
    "\n",
    "The output projection layer (converts final vectors to logits over the vocabulary).\n",
    "\n",
    "So instead of having two separate matrices:\n",
    "\n",
    "E for input embedding: shape [vocab_size, emb_dim]\n",
    "\n",
    "W for output projection: shape [emb_dim, vocab_size]\n",
    "\n",
    "We reuse E.T as the output layer:\n",
    "\n",
    "logits = x @ E.T"
   ]
  },
  {
   "cell_type": "markdown",
   "id": "306e34fb",
   "metadata": {},
   "source": [
    " Why Use Weight Tying?\n",
    "Fewer Parameters\n",
    "\n",
    "GPT-2 has a huge vocabulary (e.g., 50,000 tokens). Instead of storing two large matrices, weight tying saves memory.\n",
    "\n",
    "Improved Generalization\n",
    "\n",
    "Sharing weights forces the model to treat input and output tokens in a more consistent way.\n",
    "\n",
    "This helps especially in language modeling, where the same vocabulary is used at both ends.\n",
    "\n",
    "Empirical Gains\n",
    "\n",
    "Papers like \"Using the Output Embedding to Improve Language Models\" (Press & Wolf, 2017) showed that weight tying improves perplexity.\n",
    "\n",
    "🧠 Intuition\n",
    "Think of it like this:\n",
    "\n",
    "If the embedding for \"cat\" is a certain vector, then the output layer should also understand that same vector means \"cat\".\n",
    "\n",
    "Sharing weights enforces this symmetry: the model learns one set of weights that both understands and generates token representations."
   ]
  },
  {
   "cell_type": "markdown",
   "id": "645f7341",
   "metadata": {},
   "source": [
    "## GPT ARCHITECTURE PART 7: GENERATING TEXT FROM OUTPUT TOKENS"
   ]
  },
  {
   "cell_type": "code",
   "execution_count": 72,
   "id": "e82bb33a",
   "metadata": {
    "execution": {
     "iopub.execute_input": "2025-06-07T03:05:12.843398Z",
     "iopub.status.busy": "2025-06-07T03:05:12.843119Z",
     "iopub.status.idle": "2025-06-07T03:05:12.863163Z",
     "shell.execute_reply": "2025-06-07T03:05:12.862644Z",
     "shell.execute_reply.started": "2025-06-07T03:05:12.843372Z"
    },
    "trusted": true
   },
   "outputs": [],
   "source": [
    "def generate_text_simple(model, idx, max_new_tokens,context_size):\n",
    "\n",
    "    for _ in range(max_new_tokens):\n",
    "\n",
    "        idx_cond = idx[:, -context_size:]\n",
    "\n",
    "        with torch.no_grad():\n",
    "            logits = model(idx_cond)\n",
    "\n",
    "        logits = logits[:, -1, :] # Get the last token's logits\n",
    "\n",
    "        probas = torch.softmax(logits, dim = -1)\n",
    "\n",
    "        idx_next = torch.argmax(probas, dim = -1, keepdim = True)\n",
    "\n",
    "        idx = torch.cat((idx, idx_next), dim = 1)\n",
    "\n",
    "    return idx\n"
   ]
  },
  {
   "cell_type": "code",
   "execution_count": 73,
   "id": "963f52b7",
   "metadata": {
    "execution": {
     "iopub.execute_input": "2025-06-07T03:05:12.864405Z",
     "iopub.status.busy": "2025-06-07T03:05:12.863930Z",
     "iopub.status.idle": "2025-06-07T03:05:12.879912Z",
     "shell.execute_reply": "2025-06-07T03:05:12.879059Z",
     "shell.execute_reply.started": "2025-06-07T03:05:12.864381Z"
    },
    "trusted": true
   },
   "outputs": [
    {
     "name": "stdout",
     "output_type": "stream",
     "text": [
      "Encoded context: [15496, 11, 314, 716]\n",
      "encoded_tensor.shape: torch.Size([1, 4])\n"
     ]
    }
   ],
   "source": [
    "start_context = \"Hello, I am\"\n",
    "encoded = tokenizer.encode(start_context)\n",
    "print(\"Encoded context:\", encoded)\n",
    "encoded_tensor = torch.tensor(encoded).unsqueeze(0)  # Add batch dimension\n",
    "print(\"encoded_tensor.shape:\", encoded_tensor.shape)"
   ]
  },
  {
   "cell_type": "markdown",
   "id": "18e8fdc7",
   "metadata": {},
   "source": [
    "<div class=\"alert alert-block alert-success\">\n",
    "Next, we put the model into .eval() mode, which disables random components like\n",
    "dropout, which are only used during training, and use the generate_text_simple function\n",
    "on the encoded input tensor:\n",
    "</div>"
   ]
  },
  {
   "cell_type": "code",
   "execution_count": 74,
   "id": "ce0d7710",
   "metadata": {
    "execution": {
     "iopub.execute_input": "2025-06-07T03:05:12.881535Z",
     "iopub.status.busy": "2025-06-07T03:05:12.880778Z",
     "iopub.status.idle": "2025-06-07T03:05:13.741218Z",
     "shell.execute_reply": "2025-06-07T03:05:13.740441Z",
     "shell.execute_reply.started": "2025-06-07T03:05:12.881513Z"
    },
    "trusted": true
   },
   "outputs": [
    {
     "name": "stdout",
     "output_type": "stream",
     "text": [
      "Output: tensor([[15496,    11,   314,   716, 27018, 24086, 47843, 30961, 42348,  7267,\n",
      "         49706, 43231, 47062, 34657]])\n",
      "Output length: 14\n"
     ]
    }
   ],
   "source": [
    "model.eval()\n",
    "out = generate_text_simple(model, encoded_tensor, max_new_tokens = 10, context_size = GPT_CONFIG_124M[\"context_length\"]) \n",
    "print(\"Output:\", out)\n",
    "print(\"Output length:\", len(out[0]))"
   ]
  },
  {
   "cell_type": "code",
   "execution_count": 75,
   "id": "a746372a",
   "metadata": {
    "execution": {
     "iopub.execute_input": "2025-06-07T03:05:13.742113Z",
     "iopub.status.busy": "2025-06-07T03:05:13.741932Z",
     "iopub.status.idle": "2025-06-07T03:05:13.746020Z",
     "shell.execute_reply": "2025-06-07T03:05:13.745441Z",
     "shell.execute_reply.started": "2025-06-07T03:05:13.742098Z"
    },
    "trusted": true
   },
   "outputs": [],
   "source": [
    "decoded_text = tokenizer.decode(out[0].tolist())"
   ]
  },
  {
   "cell_type": "code",
   "execution_count": 76,
   "id": "fb99ba8a",
   "metadata": {
    "execution": {
     "iopub.execute_input": "2025-06-07T03:05:13.746843Z",
     "iopub.status.busy": "2025-06-07T03:05:13.746650Z",
     "iopub.status.idle": "2025-06-07T03:05:13.764055Z",
     "shell.execute_reply": "2025-06-07T03:05:13.763284Z",
     "shell.execute_reply.started": "2025-06-07T03:05:13.746828Z"
    },
    "trusted": true
   },
   "outputs": [
    {
     "data": {
      "text/plain": [
       "'Hello, I am Featureiman Byeswickattribute argue logger Normandy Compton analogous'"
      ]
     },
     "execution_count": 76,
     "metadata": {},
     "output_type": "execute_result"
    }
   ],
   "source": [
    "decoded_text"
   ]
  },
  {
   "cell_type": "markdown",
   "id": "307fcec0",
   "metadata": {},
   "source": [
    "<div class=\"alert alert-block alert-info\">\n",
    "\n",
    "As we can see, based on the preceding output, the model generated gibberish, which is not\n",
    "at all coherent text. \n",
    "\n",
    "What happened? \n",
    "\n",
    "The reason why the model is unable to produce coherent text is that we haven't trained it yet. \n",
    "\n",
    "So far, we just\n",
    "implemented the GPT architecture and initialized a GPT model instance with initial random\n",
    "weights.\n",
    "\n",
    "</div>"
   ]
  },
  {
   "cell_type": "code",
   "execution_count": 77,
   "id": "2f2a51bc",
   "metadata": {
    "execution": {
     "iopub.execute_input": "2025-06-07T03:05:13.765038Z",
     "iopub.status.busy": "2025-06-07T03:05:13.764867Z",
     "iopub.status.idle": "2025-06-07T03:05:14.614967Z",
     "shell.execute_reply": "2025-06-07T03:05:14.614264Z",
     "shell.execute_reply.started": "2025-06-07T03:05:13.765024Z"
    },
    "trusted": true
   },
   "outputs": [
    {
     "name": "stdout",
     "output_type": "stream",
     "text": [
      "Output text:\n",
      " Every effort moves you Aeiman Byeswickattributeometer inspector Normandy freezerigrate\n"
     ]
    }
   ],
   "source": [
    "import tiktoken\n",
    "def text_to_token_ids(text, tokenizer):\n",
    "    encoded = tokenizer.encode(text,allowed_special={'<|endoftext|>'})\n",
    "    encoded_tensor = torch.tensor(encoded).unsqueeze(0)  # Add batch dimension\n",
    "    return encoded_tensor\n",
    "def token_ids_to_text(token_ids, tokenizer):\n",
    "    flat = token_ids.squeeze(0)\n",
    "    return tokenizer.decode(flat.tolist())\n",
    "\n",
    "\n",
    "start_context = \"Every effort moves you\"\n",
    "tokenizer = tiktoken.get_encoding(\"gpt2\")\n",
    "\n",
    "token_ids = generate_text_simple(\n",
    "    model=model,\n",
    "    idx=text_to_token_ids(start_context, tokenizer),\n",
    "    max_new_tokens=10,\n",
    "    context_size=GPT_CONFIG_124M[\"context_length\"]\n",
    ")\n",
    "\n",
    "print(\"Output text:\\n\", token_ids_to_text(token_ids, tokenizer))\n",
    "\n",
    "\n"
   ]
  },
  {
   "cell_type": "code",
   "execution_count": 78,
   "id": "d2bd9b23",
   "metadata": {
    "execution": {
     "iopub.execute_input": "2025-06-07T03:05:14.615953Z",
     "iopub.status.busy": "2025-06-07T03:05:14.615700Z",
     "iopub.status.idle": "2025-06-07T03:05:14.620700Z",
     "shell.execute_reply": "2025-06-07T03:05:14.620118Z",
     "shell.execute_reply.started": "2025-06-07T03:05:14.615930Z"
    },
    "trusted": true
   },
   "outputs": [],
   "source": [
    "inputs = torch.tensor([[16833, 3626, 6100],   # [\"every effort moves\",\n",
    "                       [40,    1107, 588]])   #  \"I really like\"]\n",
    "\n",
    "targets = torch.tensor([[3626, 6100, 345  ],  # [\" effort moves you\",\n",
    "                        [1107,  588, 11311]]) #  \" really like chocolate\"]"
   ]
  },
  {
   "cell_type": "code",
   "execution_count": 79,
   "id": "82fd45a4",
   "metadata": {
    "execution": {
     "iopub.execute_input": "2025-06-07T03:05:14.621659Z",
     "iopub.status.busy": "2025-06-07T03:05:14.621458Z",
     "iopub.status.idle": "2025-06-07T03:05:14.748641Z",
     "shell.execute_reply": "2025-06-07T03:05:14.747907Z",
     "shell.execute_reply.started": "2025-06-07T03:05:14.621645Z"
    },
    "trusted": true
   },
   "outputs": [
    {
     "name": "stdout",
     "output_type": "stream",
     "text": [
      "torch.Size([2, 3, 50257])\n"
     ]
    }
   ],
   "source": [
    "with torch.no_grad():\n",
    "    logits = model(inputs)\n",
    "\n",
    "probas = torch.softmax(logits,dim = -1)\n",
    "print(probas.shape)"
   ]
  },
  {
   "cell_type": "code",
   "execution_count": 80,
   "id": "e4a8f192",
   "metadata": {
    "execution": {
     "iopub.execute_input": "2025-06-07T03:05:14.750383Z",
     "iopub.status.busy": "2025-06-07T03:05:14.750091Z",
     "iopub.status.idle": "2025-06-07T03:05:14.755964Z",
     "shell.execute_reply": "2025-06-07T03:05:14.755309Z",
     "shell.execute_reply.started": "2025-06-07T03:05:14.750358Z"
    },
    "trusted": true
   },
   "outputs": [
    {
     "name": "stdout",
     "output_type": "stream",
     "text": [
      "Token IDs:\n",
      " tensor([[[36397],\n",
      "         [39619],\n",
      "         [20610]],\n",
      "\n",
      "        [[ 8615],\n",
      "         [49289],\n",
      "         [47105]]])\n"
     ]
    }
   ],
   "source": [
    "token_ids = torch.argmax(probas, dim=-1, keepdim=True)\n",
    "print(\"Token IDs:\\n\", token_ids)"
   ]
  },
  {
   "cell_type": "code",
   "execution_count": 81,
   "id": "b0ff7882",
   "metadata": {
    "execution": {
     "iopub.execute_input": "2025-06-07T03:05:14.756869Z",
     "iopub.status.busy": "2025-06-07T03:05:14.756597Z",
     "iopub.status.idle": "2025-06-07T03:05:14.775892Z",
     "shell.execute_reply": "2025-06-07T03:05:14.775185Z",
     "shell.execute_reply.started": "2025-06-07T03:05:14.756842Z"
    },
    "trusted": true
   },
   "outputs": [
    {
     "name": "stdout",
     "output_type": "stream",
     "text": [
      "Targets batch 1:  effort moves you\n",
      "Outputs batch 1:  Gathering SerbianFriday\n"
     ]
    }
   ],
   "source": [
    "print(f\"Targets batch 1: {token_ids_to_text(targets[0], tokenizer)}\")\n",
    "print(f\"Outputs batch 1: {token_ids_to_text(token_ids[0].flatten(), tokenizer)}\")"
   ]
  },
  {
   "cell_type": "code",
   "execution_count": 82,
   "id": "314a3e57",
   "metadata": {
    "execution": {
     "iopub.execute_input": "2025-06-07T03:05:14.777086Z",
     "iopub.status.busy": "2025-06-07T03:05:14.776788Z",
     "iopub.status.idle": "2025-06-07T03:05:14.799310Z",
     "shell.execute_reply": "2025-06-07T03:05:14.798601Z",
     "shell.execute_reply.started": "2025-06-07T03:05:14.777063Z"
    },
    "trusted": true
   },
   "outputs": [
    {
     "name": "stdout",
     "output_type": "stream",
     "text": [
      "Text 1: tensor([2.3466e-05, 2.0531e-05, 1.1733e-05])\n",
      "Text 2: tensor([4.2794e-05, 1.6248e-05, 1.1586e-05])\n"
     ]
    }
   ],
   "source": [
    "text_idx = 0\n",
    "target_probas_1 = probas[text_idx, [0, 1, 2], targets[text_idx]]\n",
    "print(\"Text 1:\", target_probas_1)\n",
    "\n",
    "text_idx = 1\n",
    "target_probas_2 = probas[text_idx, [0, 1, 2], targets[text_idx]]\n",
    "print(\"Text 2:\", target_probas_2)"
   ]
  },
  {
   "cell_type": "code",
   "execution_count": 83,
   "id": "dfc58229",
   "metadata": {
    "execution": {
     "iopub.execute_input": "2025-06-07T03:05:14.800513Z",
     "iopub.status.busy": "2025-06-07T03:05:14.800210Z",
     "iopub.status.idle": "2025-06-07T03:05:14.818577Z",
     "shell.execute_reply": "2025-06-07T03:05:14.817905Z",
     "shell.execute_reply.started": "2025-06-07T03:05:14.800490Z"
    },
    "trusted": true
   },
   "outputs": [
    {
     "name": "stdout",
     "output_type": "stream",
     "text": [
      "Log probabilities:\n",
      " tensor([-10.6600, -10.7936, -11.3531, -10.0591, -11.0276, -11.3658])\n"
     ]
    }
   ],
   "source": [
    "log_probas = torch.log(torch.cat((target_probas_1, target_probas_2), dim=0))\n",
    "print(\"Log probabilities:\\n\", log_probas)"
   ]
  },
  {
   "cell_type": "code",
   "execution_count": 84,
   "id": "6e5b46fa",
   "metadata": {
    "execution": {
     "iopub.execute_input": "2025-06-07T03:05:14.819636Z",
     "iopub.status.busy": "2025-06-07T03:05:14.819373Z",
     "iopub.status.idle": "2025-06-07T03:05:14.837845Z",
     "shell.execute_reply": "2025-06-07T03:05:14.837179Z",
     "shell.execute_reply.started": "2025-06-07T03:05:14.819618Z"
    },
    "trusted": true
   },
   "outputs": [
    {
     "name": "stdout",
     "output_type": "stream",
     "text": [
      "tensor(-10.8765)\n"
     ]
    }
   ],
   "source": [
    "avg_log_probas = torch.mean(log_probas)\n",
    "print(avg_log_probas)"
   ]
  },
  {
   "cell_type": "markdown",
   "id": "df11b4ca",
   "metadata": {},
   "source": [
    "<div class=\"alert alert-block alert-info\">\n",
    "\n",
    "The goal is to make this average log probability as large as possible by optimizing the model weights.\n",
    "\n",
    "Due to the log, the largest possible value is 0, and we are currently far away from 0.\n",
    "\n",
    "In deep learning, instead of maximizing the average log-probability, it's a standard convention to minimize the negative average log-probability value; in our case, instead of maximizing -10.7722 so that it approaches 0, in deep learning, we would minimize 10.7722 so that it approaches 0.\n",
    "\n",
    "The value negative of -10.7722, i.e., 10.7722, is also called cross-entropy loss in deep learning.\n",
    "\n",
    "</div>"
   ]
  },
  {
   "cell_type": "code",
   "execution_count": 85,
   "id": "88827ea3",
   "metadata": {
    "execution": {
     "iopub.execute_input": "2025-06-07T03:05:14.838890Z",
     "iopub.status.busy": "2025-06-07T03:05:14.838670Z",
     "iopub.status.idle": "2025-06-07T03:05:14.855958Z",
     "shell.execute_reply": "2025-06-07T03:05:14.855197Z",
     "shell.execute_reply.started": "2025-06-07T03:05:14.838871Z"
    },
    "trusted": true
   },
   "outputs": [
    {
     "name": "stdout",
     "output_type": "stream",
     "text": [
      "tensor(10.8765)\n"
     ]
    }
   ],
   "source": [
    "neg_avg_log_probas = avg_log_probas * -1\n",
    "print(neg_avg_log_probas)"
   ]
  },
  {
   "cell_type": "code",
   "execution_count": 86,
   "id": "1c2de412",
   "metadata": {
    "execution": {
     "iopub.execute_input": "2025-06-07T03:05:14.857088Z",
     "iopub.status.busy": "2025-06-07T03:05:14.856826Z",
     "iopub.status.idle": "2025-06-07T03:05:14.872074Z",
     "shell.execute_reply": "2025-06-07T03:05:14.871379Z",
     "shell.execute_reply.started": "2025-06-07T03:05:14.857067Z"
    },
    "trusted": true
   },
   "outputs": [
    {
     "name": "stdout",
     "output_type": "stream",
     "text": [
      "Flattened logits: torch.Size([6, 50257])\n",
      "Flattened targets: torch.Size([6])\n"
     ]
    }
   ],
   "source": [
    "logits_flat = logits.flatten(0, 1)\n",
    "targets_flat = targets.flatten()\n",
    "\n",
    "print(\"Flattened logits:\", logits_flat.shape)\n",
    "print(\"Flattened targets:\", targets_flat.shape)"
   ]
  },
  {
   "cell_type": "markdown",
   "id": "e9276589",
   "metadata": {},
   "source": [
    "<div class=\"alert alert-block alert-info\">\n",
    "\n",
    "Note that the targets are the token IDs, which also represent the index positions in the logits tensors that we want to maximize.\n",
    "    \n",
    "The cross_entropy function in PyTorch will automatically take care of applying the softmax and log-probability computation internally over those token indices in the logits that are to be maximized\n",
    "\n",
    "</div>"
   ]
  },
  {
   "cell_type": "code",
   "execution_count": 87,
   "id": "e6caf587",
   "metadata": {
    "execution": {
     "iopub.execute_input": "2025-06-07T03:05:14.873254Z",
     "iopub.status.busy": "2025-06-07T03:05:14.872861Z",
     "iopub.status.idle": "2025-06-07T03:05:14.900307Z",
     "shell.execute_reply": "2025-06-07T03:05:14.899514Z",
     "shell.execute_reply.started": "2025-06-07T03:05:14.873232Z"
    },
    "trusted": true
   },
   "outputs": [
    {
     "name": "stdout",
     "output_type": "stream",
     "text": [
      "tensor(10.8765)\n"
     ]
    }
   ],
   "source": [
    "loss = torch.nn.functional.cross_entropy(logits_flat, targets_flat)\n",
    "print(loss)"
   ]
  },
  {
   "cell_type": "markdown",
   "id": "f308fef8",
   "metadata": {},
   "source": [
    "# Perplexity"
   ]
  },
  {
   "cell_type": "markdown",
   "id": "1abe6ba1",
   "metadata": {},
   "source": [
    "<div class=\"alert alert-block alert-success\">\n",
    "\n",
    "A concept related to the cross-entropy loss is the perplexity of an LLM.\n",
    "\n",
    "The perplexity is simply the exponential of the cross-entropy loss.\n",
    "\n",
    "</div>"
   ]
  },
  {
   "cell_type": "code",
   "execution_count": 88,
   "id": "a8e88a9b",
   "metadata": {
    "execution": {
     "iopub.execute_input": "2025-06-07T03:05:14.901179Z",
     "iopub.status.busy": "2025-06-07T03:05:14.900968Z",
     "iopub.status.idle": "2025-06-07T03:05:14.914467Z",
     "shell.execute_reply": "2025-06-07T03:05:14.913609Z",
     "shell.execute_reply.started": "2025-06-07T03:05:14.901162Z"
    },
    "trusted": true
   },
   "outputs": [
    {
     "name": "stdout",
     "output_type": "stream",
     "text": [
      "tensor(52918.7773)\n"
     ]
    }
   ],
   "source": [
    "perplexity = torch.exp(loss)\n",
    "print(perplexity)"
   ]
  },
  {
   "cell_type": "markdown",
   "id": "62f7f52e",
   "metadata": {},
   "source": [
    "<div class=\"alert alert-block alert-info\">\n",
    "\n",
    "The perplexity is often considered more interpretable because it can be understood as the effective vocabulary size that the model is uncertain about at each step (in the example above, that'd be 52918.7734 words or tokens).\n",
    "\n",
    "In other words, perplexity provides a measure of how well the probability distribution predicted by the model matches the actual distribution of the words in the dataset.\n",
    "    \n",
    "Similar to the loss, a lower perplexity indicates that the model predictions are closer to the actual distribution\n",
    "    \n",
    "</div>\n"
   ]
  },
  {
   "cell_type": "markdown",
   "id": "5d5773d6",
   "metadata": {},
   "source": [
    "### Calculating the training and validation set losses"
   ]
  },
  {
   "cell_type": "markdown",
   "id": "6a004480",
   "metadata": {},
   "source": [
    "<div class=\"alert alert-block alert-success\">\n",
    "\n",
    "We use a relatively small dataset for training the LLM (in fact, only one short story)\n",
    "\n",
    "The reasons are:\n",
    "\n",
    "You can run the code examples in a few minutes on a laptop computer without a suitable GPU.\n",
    "\n",
    "The training finishes relatively fast (minutes instead of weeks), which is good for educational purposes.\n",
    "    \n",
    "We use a text from the public domain, which can be included in this GitHub repository without violating any usage rights or bloating the repository size.\n",
    "    \n",
    "For example, Llama 2 7B required 184,320 GPU hours on A100 GPUs to be trained on 2 trillion tokens\n",
    "\n",
    "At the time of this writing, the hourly cost of an 8xA100 cloud server at AWS is approximately 30 dollars. \n",
    "\n",
    "So, via an off-the-envelope calculation, training this LLM would cost 184,320 / 8 * 30 = 690,000 dollars\n",
    "\n",
    "Below, we use the same dataset we used in chapter 2.\n",
    "\n",
    "</div>"
   ]
  },
  {
   "cell_type": "code",
   "execution_count": 89,
   "id": "0f787ecd",
   "metadata": {
    "execution": {
     "iopub.execute_input": "2025-06-07T03:05:14.915782Z",
     "iopub.status.busy": "2025-06-07T03:05:14.915505Z",
     "iopub.status.idle": "2025-06-07T03:05:14.931900Z",
     "shell.execute_reply": "2025-06-07T03:05:14.931174Z",
     "shell.execute_reply.started": "2025-06-07T03:05:14.915758Z"
    },
    "trusted": true
   },
   "outputs": [],
   "source": [
    "GPT_CONFIG_124M = {\n",
    "    \"vocab_size\": 50257,   # Vocabulary size\n",
    "    \"context_length\": 256, # Shortened context length (orig: 1024)\n",
    "    \"emb_dim\": 768,        # Embedding dimension\n",
    "    \"n_heads\": 12,         # Number of attention heads\n",
    "    \"n_layers\": 12,         # Number of layers\n",
    "    \"drop_rate\": 0.1,      # Dropout rate\n",
    "    \"qkv_bias\": False      # Query-key-value bias\n",
    "}\n"
   ]
  },
  {
   "cell_type": "code",
   "execution_count": 90,
   "id": "45e5e4e6",
   "metadata": {
    "execution": {
     "iopub.execute_input": "2025-06-07T03:05:14.932960Z",
     "iopub.status.busy": "2025-06-07T03:05:14.932729Z",
     "iopub.status.idle": "2025-06-07T03:05:15.021949Z",
     "shell.execute_reply": "2025-06-07T03:05:15.021232Z",
     "shell.execute_reply.started": "2025-06-07T03:05:14.932941Z"
    },
    "trusted": true
   },
   "outputs": [],
   "source": [
    "import os\n",
    "file_path = \"/kaggle/input/datase/Harry Potter and The Half-Blood Prince.txt\"\n",
    "with open(file_path, \"r\", encoding=\"utf-8\") as file:\n",
    "        text_data = file.read()\n"
   ]
  },
  {
   "cell_type": "code",
   "execution_count": 91,
   "id": "47e7d23d",
   "metadata": {
    "execution": {
     "iopub.execute_input": "2025-06-07T03:05:15.022871Z",
     "iopub.status.busy": "2025-06-07T03:05:15.022662Z",
     "iopub.status.idle": "2025-06-07T03:05:15.027832Z",
     "shell.execute_reply": "2025-06-07T03:05:15.027162Z",
     "shell.execute_reply.started": "2025-06-07T03:05:15.022856Z"
    },
    "trusted": true
   },
   "outputs": [
    {
     "data": {
      "text/plain": [
       "'M r. and Mrs. Dursley, of number four, Privet Drive, were proud to say that they were perfectly nor'"
      ]
     },
     "execution_count": 91,
     "metadata": {},
     "output_type": "execute_result"
    }
   ],
   "source": [
    "text_data[:99]"
   ]
  },
  {
   "cell_type": "code",
   "execution_count": 92,
   "id": "34897960",
   "metadata": {
    "execution": {
     "iopub.execute_input": "2025-06-07T03:05:15.028832Z",
     "iopub.status.busy": "2025-06-07T03:05:15.028515Z",
     "iopub.status.idle": "2025-06-07T03:05:15.046860Z",
     "shell.execute_reply": "2025-06-07T03:05:15.046151Z",
     "shell.execute_reply.started": "2025-06-07T03:05:15.028808Z"
    },
    "trusted": true
   },
   "outputs": [
    {
     "data": {
      "text/plain": [
       "'his forehead.\\n\\n“I know he will.”\\n\\nThe scar had not pained Harry for nineteen years. All was well.\\n\\n'"
      ]
     },
     "execution_count": 92,
     "metadata": {},
     "output_type": "execute_result"
    }
   ],
   "source": [
    "text_data[-99:]"
   ]
  },
  {
   "cell_type": "code",
   "execution_count": 93,
   "id": "2f5ae4a4",
   "metadata": {
    "execution": {
     "iopub.execute_input": "2025-06-07T03:05:15.048069Z",
     "iopub.status.busy": "2025-06-07T03:05:15.047847Z",
     "iopub.status.idle": "2025-06-07T03:05:15.865416Z",
     "shell.execute_reply": "2025-06-07T03:05:15.864589Z",
     "shell.execute_reply.started": "2025-06-07T03:05:15.048053Z"
    },
    "trusted": true
   },
   "outputs": [],
   "source": [
    "tokenizer = tiktoken.get_encoding(\"gpt2\")\n",
    "total_character = len(text_data)\n",
    "total_tokens = len(tokenizer.encode(text_data))"
   ]
  },
  {
   "cell_type": "code",
   "execution_count": 94,
   "id": "fa7a8616",
   "metadata": {
    "execution": {
     "iopub.execute_input": "2025-06-07T03:05:15.866544Z",
     "iopub.status.busy": "2025-06-07T03:05:15.866291Z",
     "iopub.status.idle": "2025-06-07T03:05:15.870802Z",
     "shell.execute_reply": "2025-06-07T03:05:15.869934Z",
     "shell.execute_reply.started": "2025-06-07T03:05:15.866518Z"
    },
    "trusted": true
   },
   "outputs": [
    {
     "name": "stdout",
     "output_type": "stream",
     "text": [
      "Characters: 6285449\n",
      "Tokens: 1669303\n"
     ]
    }
   ],
   "source": [
    "print(\"Characters:\", total_character)\n",
    "print(\"Tokens:\", total_tokens)"
   ]
  },
  {
   "cell_type": "code",
   "execution_count": 95,
   "id": "8f2c4675",
   "metadata": {
    "execution": {
     "iopub.execute_input": "2025-06-07T03:05:15.871931Z",
     "iopub.status.busy": "2025-06-07T03:05:15.871687Z",
     "iopub.status.idle": "2025-06-07T03:05:17.303182Z",
     "shell.execute_reply": "2025-06-07T03:05:17.302398Z",
     "shell.execute_reply.started": "2025-06-07T03:05:15.871910Z"
    },
    "trusted": true
   },
   "outputs": [],
   "source": [
    "train_ratio = 0.9\n",
    "split_idx = int(train_ratio * len(text_data))\n",
    "train_data = text_data[:split_idx]\n",
    "val_data = text_data[split_idx:]\n",
    "\n",
    "torch.manual_seed(123)\n",
    "\n",
    "train_loader = create_dataloader_v1(\n",
    "    train_data,\n",
    "    batch_size = 8, \n",
    "    max_length = GPT_CONFIG_124M[\"context_length\"],\n",
    "    stride = GPT_CONFIG_124M[\"context_length\"] , \n",
    "    shuffle = True, \n",
    "    drop_last = True,\n",
    "    num_workers = 0\n",
    ")\n",
    "\n",
    "val_loader = create_dataloader_v1(\n",
    "    val_data,\n",
    "    batch_size = 8, \n",
    "    max_length = GPT_CONFIG_124M[\"context_length\"],\n",
    "    stride = GPT_CONFIG_124M[\"context_length\"] , \n",
    "    shuffle = False, \n",
    "    drop_last = False,\n",
    "    num_workers = 0\n",
    ")"
   ]
  },
  {
   "cell_type": "code",
   "execution_count": null,
   "id": "85e7512d",
   "metadata": {},
   "outputs": [],
   "source": [
    "print(\"Train loader:\")\n",
    "for x, y in train_loader:\n",
    "    print(x.shape, y.shape)\n",
    "\n",
    "print(\"\\nValidation loader:\")\n",
    "for x, y in val_loader:\n",
    "    print(x.shape, y.shape)\n",
    "\n",
    "print(\"Number of batches in train loader:\", len(train_loader))\n",
    "print(\"Number of batches in validation loader:\", len(val_loader))\n"
   ]
  },
  {
   "cell_type": "code",
   "execution_count": 97,
   "id": "9f98caf2",
   "metadata": {
    "execution": {
     "iopub.execute_input": "2025-06-07T03:05:17.372343Z",
     "iopub.status.busy": "2025-06-07T03:05:17.372151Z",
     "iopub.status.idle": "2025-06-07T03:05:17.426427Z",
     "shell.execute_reply": "2025-06-07T03:05:17.425695Z",
     "shell.execute_reply.started": "2025-06-07T03:05:17.372328Z"
    },
    "trusted": true
   },
   "outputs": [
    {
     "name": "stdout",
     "output_type": "stream",
     "text": [
      "Training tokens: 1501184\n",
      "Validation tokens: 167424\n",
      "All tokens: 1668608\n"
     ]
    }
   ],
   "source": [
    "train_tokens = 0\n",
    "for x, y in train_loader:\n",
    "    train_tokens += x.numel()\n",
    "\n",
    "val_tokens = 0\n",
    "for x, y in val_loader:\n",
    "    val_tokens += x.numel()\n",
    "\n",
    "print(\"Training tokens:\", train_tokens)\n",
    "print(\"Validation tokens:\", val_tokens)\n",
    "print(\"All tokens:\", train_tokens + val_tokens)"
   ]
  },
  {
   "cell_type": "code",
   "execution_count": 98,
   "id": "52e924a1",
   "metadata": {
    "execution": {
     "iopub.execute_input": "2025-06-07T03:05:17.427438Z",
     "iopub.status.busy": "2025-06-07T03:05:17.427207Z",
     "iopub.status.idle": "2025-06-07T03:05:17.433013Z",
     "shell.execute_reply": "2025-06-07T03:05:17.432332Z",
     "shell.execute_reply.started": "2025-06-07T03:05:17.427422Z"
    },
    "trusted": true
   },
   "outputs": [],
   "source": [
    "def calc_loss_batch(input_batch, target_batch, model, device):\n",
    "    input_batch, target_batch = input_batch.to(device), target_batch.to(device)\n",
    "    logits = model(input_batch)\n",
    "    loss = torch.nn.functional.cross_entropy(logits.flatten(0,1), target_batch.flatten())\n",
    "    return loss\n",
    "\n",
    "def calc_loss_loader(data_loader, model, device, num_batches = None):\n",
    "    total_loss = 0.\n",
    "    if len(data_loader) == 0:\n",
    "        return float(\"nan\")\n",
    "    elif num_batches is None:\n",
    "        num_batches = len(data_loader)\n",
    "    else:\n",
    "        # Reduce the number of batches to match the total number of batches in the data loader\n",
    "        # if num_batches exceeds the number of batches in the data loader\n",
    "        num_batches = min(num_batches, len(data_loader))\n",
    "    \n",
    "    for i, (input_batch, target_batch) in enumerate(data_loader):\n",
    "        if i < num_batches:\n",
    "            loss = calc_loss_batch(input_batch, target_batch, model, device)\n",
    "            total_loss += loss.item()\n",
    "        else:\n",
    "            break\n",
    "    return total_loss / num_batches"
   ]
  },
  {
   "cell_type": "code",
   "execution_count": 99,
   "id": "e506e2f2",
   "metadata": {
    "execution": {
     "iopub.execute_input": "2025-06-07T03:05:17.434011Z",
     "iopub.status.busy": "2025-06-07T03:05:17.433770Z",
     "iopub.status.idle": "2025-06-07T03:05:17.449715Z",
     "shell.execute_reply": "2025-06-07T03:05:17.449060Z",
     "shell.execute_reply.started": "2025-06-07T03:05:17.433992Z"
    },
    "trusted": true
   },
   "outputs": [
    {
     "name": "stdout",
     "output_type": "stream",
     "text": [
      "Using cuda device.\n"
     ]
    }
   ],
   "source": [
    "if torch.cuda.is_available():\n",
    "    device = torch.device(\"cuda\")\n",
    "else:\n",
    "    print(\"hiu\")\n",
    "print(f\"Using {device} device.\")"
   ]
  },
  {
   "cell_type": "code",
   "execution_count": 100,
   "id": "07a7f7f3",
   "metadata": {
    "execution": {
     "iopub.execute_input": "2025-06-07T03:05:17.450742Z",
     "iopub.status.busy": "2025-06-07T03:05:17.450466Z",
     "iopub.status.idle": "2025-06-07T03:08:16.640745Z",
     "shell.execute_reply": "2025-06-07T03:08:16.640158Z",
     "shell.execute_reply.started": "2025-06-07T03:05:17.450717Z"
    },
    "trusted": true
   },
   "outputs": [
    {
     "name": "stdout",
     "output_type": "stream",
     "text": [
      "Training loss: 10.997598331914592\n",
      "Validation loss: 10.980638201643782\n"
     ]
    }
   ],
   "source": [
    "model = GPTModel(GPT_CONFIG_124M).to(device)\n",
    "\n",
    "with torch.no_grad():\n",
    "    train_loss = calc_loss_loader(train_loader, model, device)\n",
    "    val_loss = calc_loss_loader(val_loader, model, device)\n",
    "\n",
    "print(\"Training loss:\", train_loss)\n",
    "print(\"Validation loss:\", val_loss)"
   ]
  },
  {
   "cell_type": "code",
   "execution_count": 101,
   "id": "42b9799e",
   "metadata": {
    "execution": {
     "iopub.execute_input": "2025-06-07T03:08:16.641817Z",
     "iopub.status.busy": "2025-06-07T03:08:16.641565Z",
     "iopub.status.idle": "2025-06-07T03:08:16.646502Z",
     "shell.execute_reply": "2025-06-07T03:08:16.645621Z",
     "shell.execute_reply.started": "2025-06-07T03:08:16.641791Z"
    },
    "trusted": true
   },
   "outputs": [],
   "source": [
    "def evaluate_model(model, train_loader, val_loader, device, eval_iter):\n",
    "    model.eval()\n",
    "    with torch.no_grad():\n",
    "        train_loss = calc_loss_loader(train_loader, model, device, num_batches=eval_iter)\n",
    "        val_loss = calc_loss_loader(val_loader, model, device, num_batches=eval_iter)\n",
    "    model.train()\n",
    "    return train_loss, val_loss"
   ]
  },
  {
   "cell_type": "code",
   "execution_count": 102,
   "id": "5c11a577",
   "metadata": {
    "execution": {
     "iopub.execute_input": "2025-06-07T03:08:16.647510Z",
     "iopub.status.busy": "2025-06-07T03:08:16.647275Z",
     "iopub.status.idle": "2025-06-07T03:08:16.667900Z",
     "shell.execute_reply": "2025-06-07T03:08:16.667143Z",
     "shell.execute_reply.started": "2025-06-07T03:08:16.647495Z"
    },
    "trusted": true
   },
   "outputs": [],
   "source": [
    "def generate_and_print_sample(model, tokenizer, device, start_context):\n",
    "    model.eval()\n",
    "    context_size = model.pos_emb.weight.shape[0]\n",
    "    encoded = text_to_token_ids(start_context, tokenizer).to(device)\n",
    "    with torch.no_grad():\n",
    "        token_ids = generate_text_simple(\n",
    "            model=model, idx=encoded,\n",
    "            max_new_tokens=100, context_size=context_size\n",
    "        )\n",
    "    decoded_text = token_ids_to_text(token_ids, tokenizer)\n",
    "    print(decoded_text.replace(\"\\n\", \" \"))  # Compact print format\n",
    "    model.train()"
   ]
  },
  {
   "cell_type": "markdown",
   "id": "5a885f24",
   "metadata": {},
   "source": [
    "# TRAINING LOOP FOR THE LLM"
   ]
  },
  {
   "cell_type": "code",
   "execution_count": 103,
   "id": "f0e32363",
   "metadata": {
    "execution": {
     "iopub.execute_input": "2025-06-07T03:08:16.669259Z",
     "iopub.status.busy": "2025-06-07T03:08:16.668806Z",
     "iopub.status.idle": "2025-06-07T03:08:16.695040Z",
     "shell.execute_reply": "2025-06-07T03:08:16.694480Z",
     "shell.execute_reply.started": "2025-06-07T03:08:16.669242Z"
    },
    "trusted": true
   },
   "outputs": [],
   "source": [
    "def train_model_simple(model, train_loader, val_loader, device, optimizer, num_epochs,\n",
    "    eval_freq, eval_iter, start_context,tokenizer):\n",
    "\n",
    "    train_losses, val_losses, track_tokens_seen = [], [], []\n",
    "    tokens_seen, global_step = 0, -1\n",
    "\n",
    "    for epoch in range(num_epochs):\n",
    "        model.train()\n",
    "\n",
    "        for input_batch, target_batch in train_loader:\n",
    "            optimizer.zero_grad()\n",
    "            loss = calc_loss_batch(input_batch, target_batch, model, device)\n",
    "            loss.backward()\n",
    "            optimizer.step()\n",
    "            tokens_seen += input_batch.numel() # Returns the total number of elements (or tokens) in the input_batch.\n",
    "            global_step += 1\n",
    "\n",
    "            if global_step % eval_freq == 0:\n",
    "                train_loss, val_loss = evaluate_model(\n",
    "                    model, train_loader, val_loader, device, eval_iter\n",
    "                )\n",
    "                train_losses.append(train_loss)\n",
    "                val_losses.append(val_loss)\n",
    "                track_tokens_seen.append(tokens_seen)\n",
    "                print(f\"Ep {epoch+1} (Step {global_step:06d}): \"\n",
    "                      f\"Train loss {train_loss:.3f}, Val loss {val_loss:.3f}\")\n",
    "        \n",
    "        generate_and_print_sample(\n",
    "            model, tokenizer, device, start_context\n",
    "        )\n",
    "    \n",
    "    return train_losses, val_losses, track_tokens_seen\n",
    "                \n",
    "            \n",
    "\n",
    "\n",
    "\n"
   ]
  },
  {
   "cell_type": "code",
   "execution_count": 104,
   "id": "a6ef280c",
   "metadata": {
    "execution": {
     "iopub.execute_input": "2025-06-07T03:08:16.695947Z",
     "iopub.status.busy": "2025-06-07T03:08:16.695764Z",
     "iopub.status.idle": "2025-06-07T05:31:53.395528Z",
     "shell.execute_reply": "2025-06-07T05:31:53.394788Z",
     "shell.execute_reply.started": "2025-06-07T03:08:16.695932Z"
    },
    "trusted": true
   },
   "outputs": [
    {
     "name": "stdout",
     "output_type": "stream",
     "text": [
      "Ep 1 (Step 000000): Train loss 10.342, Val loss 10.314\n",
      "Ep 1 (Step 000080): Train loss 5.934, Val loss 5.959\n",
      "Ep 1 (Step 000160): Train loss 5.488, Val loss 5.566\n",
      "Ep 1 (Step 000240): Train loss 5.205, Val loss 5.348\n",
      "Ep 1 (Step 000320): Train loss 5.022, Val loss 5.193\n",
      "Ep 1 (Step 000400): Train loss 4.867, Val loss 5.086\n",
      "Ep 1 (Step 000480): Train loss 4.762, Val loss 4.992\n",
      "Ep 1 (Step 000560): Train loss 4.648, Val loss 4.897\n",
      "Ep 1 (Step 000640): Train loss 4.592, Val loss 4.830\n",
      "Ep 1 (Step 000720): Train loss 4.474, Val loss 4.773\n",
      "Harry potter was stunned.  “I’t you’t you’t you’t you’t think you’t you’t you’t you’t you’t you’t you’t you’t you’t you’t you’t you’t you’t you’t you’t you’t you’t you’t think I\n",
      "Ep 2 (Step 000800): Train loss 4.398, Val loss 4.724\n",
      "Ep 2 (Step 000880): Train loss 4.351, Val loss 4.677\n",
      "Ep 2 (Step 000960): Train loss 4.270, Val loss 4.637\n",
      "Ep 2 (Step 001040): Train loss 4.205, Val loss 4.604\n",
      "Ep 2 (Step 001120): Train loss 4.217, Val loss 4.578\n",
      "Ep 2 (Step 001200): Train loss 4.182, Val loss 4.547\n",
      "Ep 2 (Step 001280): Train loss 4.125, Val loss 4.506\n",
      "Ep 2 (Step 001360): Train loss 4.037, Val loss 4.470\n",
      "Ep 2 (Step 001440): Train loss 3.997, Val loss 4.445\n",
      "Harry potter was stunned.  “I’m not,” said Harry, “I’m not to be able to be able to be able to be able to be able to be able to be able to be able to be able to be able to be able to be able to be able to be able to be able to be able to be able to be able to be able to be able to be able to be able to be able to be able to be able to be\n",
      "Ep 3 (Step 001520): Train loss 3.988, Val loss 4.416\n",
      "Ep 3 (Step 001600): Train loss 3.933, Val loss 4.406\n",
      "Ep 3 (Step 001680): Train loss 3.897, Val loss 4.385\n",
      "Ep 3 (Step 001760): Train loss 3.851, Val loss 4.364\n",
      "Ep 3 (Step 001840): Train loss 3.841, Val loss 4.337\n",
      "Ep 3 (Step 001920): Train loss 3.766, Val loss 4.325\n",
      "Ep 3 (Step 002000): Train loss 3.761, Val loss 4.310\n",
      "Ep 3 (Step 002080): Train loss 3.714, Val loss 4.290\n",
      "Ep 3 (Step 002160): Train loss 3.675, Val loss 4.280\n",
      "Harry potter was stunned.  “I’m not going to be able to be able to be able to be able to be able to be able to be able to be able to be able to be able to be able to be able to be able to be able to be able to be able to be able to be able to be able to be able to be able to be able to be able to be able to be able to be able to be able to be able to be able to be\n",
      "Ep 4 (Step 002240): Train loss 3.680, Val loss 4.265\n",
      "Ep 4 (Step 002320): Train loss 3.636, Val loss 4.262\n",
      "Ep 4 (Step 002400): Train loss 3.602, Val loss 4.244\n",
      "Ep 4 (Step 002480): Train loss 3.561, Val loss 4.236\n",
      "Ep 4 (Step 002560): Train loss 3.534, Val loss 4.214\n",
      "Ep 4 (Step 002640): Train loss 3.507, Val loss 4.200\n",
      "Ep 4 (Step 002720): Train loss 3.464, Val loss 4.196\n",
      "Ep 4 (Step 002800): Train loss 3.471, Val loss 4.190\n",
      "Ep 4 (Step 002880): Train loss 3.431, Val loss 4.173\n",
      "Harry potter was stunned.  “I’m not going to be here,” said Ron, “I’m not going to be in the same time.”  “I’m not to know,” said Hermione, “I’m not going to be in the castle, but I’m not going to be able to be able to be in the school.”  “I’m not going to\n",
      "Ep 5 (Step 002960): Train loss 3.382, Val loss 4.166\n",
      "Ep 5 (Step 003040): Train loss 3.317, Val loss 4.165\n",
      "Ep 5 (Step 003120): Train loss 3.341, Val loss 4.174\n",
      "Ep 5 (Step 003200): Train loss 3.284, Val loss 4.159\n",
      "Ep 5 (Step 003280): Train loss 3.266, Val loss 4.148\n",
      "Ep 5 (Step 003360): Train loss 3.225, Val loss 4.148\n",
      "Ep 5 (Step 003440): Train loss 3.239, Val loss 4.137\n",
      "Ep 5 (Step 003520): Train loss 3.214, Val loss 4.126\n",
      "Ep 5 (Step 003600): Train loss 3.176, Val loss 4.107\n",
      "Harry potter was stunned. He was standing in the middle of the room, looking around at the window, but he was sure that he was in the same time.  'What's he doing?' said Ron, looking around at him. 'I'm going to be in the kitchen, he's got to be in the room, he's got back.'  'What?' said Harry.  'I'm going to know,' said Ron, looking up at him. 'I'm going to be\n",
      "Ep 6 (Step 003680): Train loss 3.127, Val loss 4.111\n",
      "Ep 6 (Step 003760): Train loss 3.075, Val loss 4.125\n",
      "Ep 6 (Step 003840): Train loss 3.091, Val loss 4.133\n",
      "Ep 6 (Step 003920): Train loss 3.026, Val loss 4.128\n",
      "Ep 6 (Step 004000): Train loss 3.039, Val loss 4.124\n",
      "Ep 6 (Step 004080): Train loss 3.004, Val loss 4.128\n",
      "Ep 6 (Step 004160): Train loss 2.998, Val loss 4.111\n",
      "Ep 6 (Step 004240): Train loss 2.945, Val loss 4.108\n",
      "Ep 6 (Step 004320): Train loss 2.928, Val loss 4.109\n",
      "Harry potter was stunned. He was very well that he was in the same way that he was in the hospital wing. He was very well, but he was not sure he was in the first time. He was not sure he was in the first time. He had not been able to do it. He had been in the first time since he had been in the school, he had been in the first task. He had been in the world, he had not been able to do it. He had not been\n",
      "Ep 7 (Step 004400): Train loss 2.877, Val loss 4.101\n",
      "Ep 7 (Step 004480): Train loss 2.829, Val loss 4.129\n",
      "Ep 7 (Step 004560): Train loss 2.798, Val loss 4.137\n",
      "Ep 7 (Step 004640): Train loss 2.778, Val loss 4.143\n",
      "Ep 7 (Step 004720): Train loss 2.746, Val loss 4.137\n",
      "Ep 7 (Step 004800): Train loss 2.736, Val loss 4.129\n",
      "Ep 7 (Step 004880): Train loss 2.688, Val loss 4.135\n",
      "Ep 7 (Step 004960): Train loss 2.678, Val loss 4.134\n",
      "Ep 7 (Step 005040): Train loss 2.623, Val loss 4.136\n",
      "Ep 7 (Step 005120): Train loss 2.610, Val loss 4.125\n",
      "Harry potter was stunned.  ‘I’m not going to be here,’ said Ron, looking alarmed. ‘I’ll be able to see you.’  ‘I’m not going to go,’ said Hermione, looking alarmed. ‘I’m not going to be in here.’  ‘I’m going to go and get it,’ said Ron, looking at Hermione. ‘I\n",
      "Ep 8 (Step 005200): Train loss 2.535, Val loss 4.153\n",
      "Ep 8 (Step 005280): Train loss 2.511, Val loss 4.178\n",
      "Ep 8 (Step 005360): Train loss 2.462, Val loss 4.177\n",
      "Ep 8 (Step 005440): Train loss 2.441, Val loss 4.191\n",
      "Ep 8 (Step 005520): Train loss 2.407, Val loss 4.174\n",
      "Ep 8 (Step 005600): Train loss 2.424, Val loss 4.194\n",
      "Ep 8 (Step 005680): Train loss 2.361, Val loss 4.184\n",
      "Ep 8 (Step 005760): Train loss 2.326, Val loss 4.190\n",
      "Ep 8 (Step 005840): Train loss 2.302, Val loss 4.184\n",
      "Harry potter was stunned by the time he had seen in his life.  “I’m not going to be in a bit of time,” said Dumbledore, looking around at him. “I’ve just been wondering whether I’d just thought I’d have to do it.”  “I’m not,” said Harry, “but I’m sure you’re not going to be able to use it\n",
      "Ep 9 (Step 005920): Train loss 2.239, Val loss 4.222\n",
      "Ep 9 (Step 006000): Train loss 2.210, Val loss 4.268\n",
      "Ep 9 (Step 006080): Train loss 2.195, Val loss 4.266\n",
      "Ep 9 (Step 006160): Train loss 2.148, Val loss 4.272\n",
      "Ep 9 (Step 006240): Train loss 2.124, Val loss 4.269\n",
      "Ep 9 (Step 006320): Train loss 2.075, Val loss 4.279\n",
      "Ep 9 (Step 006400): Train loss 2.057, Val loss 4.280\n",
      "Ep 9 (Step 006480): Train loss 2.007, Val loss 4.272\n",
      "Ep 9 (Step 006560): Train loss 1.986, Val loss 4.271\n",
      "Harry potter was stunned.  “I’m not sure you’re in here,” said Professor McGonagall, in a very small, “but I’ve been a very good idea of a very long time. I’ve got to get a detention for you to. I’m not sure you’re not a bit more to be glad for you, but I’ve had a chance of a chance to do it, and I�\n",
      "Ep 10 (Step 006640): Train loss 1.936, Val loss 4.326\n",
      "Ep 10 (Step 006720): Train loss 1.902, Val loss 4.359\n",
      "Ep 10 (Step 006800): Train loss 1.861, Val loss 4.378\n",
      "Ep 10 (Step 006880): Train loss 1.819, Val loss 4.388\n",
      "Ep 10 (Step 006960): Train loss 1.815, Val loss 4.396\n",
      "Ep 10 (Step 007040): Train loss 1.767, Val loss 4.405\n",
      "Ep 10 (Step 007120): Train loss 1.754, Val loss 4.403\n",
      "Ep 10 (Step 007200): Train loss 1.697, Val loss 4.414\n",
      "Ep 10 (Step 007280): Train loss 1.687, Val loss 4.406\n",
      "Harry potter was stunned by a large amount of tea with a large amount of gold coins around the walls, covered with a large amount of gold coins. The walls were all staring at the ceiling. Harry wondered whether this was a lot of people in the room for the first time, but the only thing he knew was that he was in the first place.  “I'm not going to be in the library,” he said, and he turned his eyes into a low, “I'm not\n",
      "Training completed in 143.61 minutes.\n"
     ]
    }
   ],
   "source": [
    "import time\n",
    "start_time = time.time()\n",
    "\n",
    "torch.manual_seed(123)\n",
    "\n",
    "model = GPTModel(GPT_CONFIG_124M).to(device)\n",
    "optimizer = torch.optim.AdamW(model.parameters(), lr=1e-4, weight_decay=1e-2)\n",
    "\n",
    "num_epochs = 10\n",
    "\n",
    "train_losses, val_losses, track_tokens_seen = train_model_simple(\n",
    "    model, train_loader, val_loader, device, num_epochs = num_epochs,\n",
    "    optimizer = optimizer, eval_freq = 80, eval_iter = 80,\n",
    "    start_context = \"Harry potter was stunned\", tokenizer = tokenizer\n",
    ")\n",
    "\n",
    "end_time = time.time()\n",
    "execution_time_minutes = (end_time - start_time) / 60\n",
    "print(f\"Training completed in {execution_time_minutes:.2f} minutes.\")\n"
   ]
  },
  {
   "cell_type": "code",
   "execution_count": 105,
   "id": "06decc3f",
   "metadata": {
    "execution": {
     "iopub.execute_input": "2025-06-07T05:31:53.396902Z",
     "iopub.status.busy": "2025-06-07T05:31:53.396439Z",
     "iopub.status.idle": "2025-06-07T05:31:53.401771Z",
     "shell.execute_reply": "2025-06-07T05:31:53.400941Z",
     "shell.execute_reply.started": "2025-06-07T05:31:53.396868Z"
    },
    "trusted": true
   },
   "outputs": [
    {
     "name": "stdout",
     "output_type": "stream",
     "text": [
      "Train Perplexity: 5.403, Val Perplexity: 81.942\n"
     ]
    }
   ],
   "source": [
    "import math\n",
    "\n",
    "train_perplexity = math.exp(train_losses[-1])\n",
    "val_perplexity = math.exp(val_losses[-1])\n",
    "\n",
    "print(f\"Train Perplexity: {train_perplexity:.3f}, Val Perplexity: {val_perplexity:.3f}\")\n"
   ]
  },
  {
   "cell_type": "code",
   "execution_count": 106,
   "id": "e957b1b8",
   "metadata": {
    "execution": {
     "iopub.execute_input": "2025-06-07T05:31:53.402854Z",
     "iopub.status.busy": "2025-06-07T05:31:53.402580Z",
     "iopub.status.idle": "2025-06-07T05:31:55.093832Z",
     "shell.execute_reply": "2025-06-07T05:31:55.092932Z",
     "shell.execute_reply.started": "2025-06-07T05:31:53.402838Z"
    },
    "trusted": true
   },
   "outputs": [
    {
     "data": {
      "image/png": "[encoded data removed]",
      "text/plain": [
       "<Figure size 500x300 with 2 Axes>"
      ]
     },
     "metadata": {},
     "output_type": "display_data"
    }
   ],
   "source": [
    "import matplotlib.pyplot as plt\n",
    "from matplotlib.ticker import MaxNLocator\n",
    "\n",
    "\n",
    "def plot_losses(epochs_seen, tokens_seen, train_losses, val_losses):\n",
    "    fig, ax1 = plt.subplots(figsize=(5, 3))\n",
    "\n",
    "    # Plot training and validation loss against epochs\n",
    "    ax1.plot(epochs_seen, train_losses, label=\"Training loss\")\n",
    "    ax1.plot(epochs_seen, val_losses, linestyle=\"-.\", label=\"Validation loss\")\n",
    "    ax1.set_xlabel(\"Epochs\")\n",
    "    ax1.set_ylabel(\"Loss\")\n",
    "    ax1.legend(loc=\"upper right\")\n",
    "    ax1.xaxis.set_major_locator(MaxNLocator(integer=True))  # only show integer labels on x-axis\n",
    "\n",
    "    # Create a second x-axis for tokens seen\n",
    "    ax2 = ax1.twiny()  # Create a second x-axis that shares the same y-axis\n",
    "    ax2.plot(tokens_seen, train_losses, alpha=0)  # Invisible plot for aligning ticks\n",
    "    ax2.set_xlabel(\"Tokens seen\")\n",
    "\n",
    "    fig.tight_layout()  # Adjust layout to make room\n",
    "    plt.savefig(\"loss-plot.pdf\")\n",
    "    plt.show()\n",
    "\n",
    "epochs_tensor = torch.linspace(0, num_epochs, len(train_losses))\n",
    "plot_losses(epochs_tensor, track_tokens_seen, train_losses, val_losses)"
   ]
  },
  {
   "cell_type": "code",
   "execution_count": 117,
   "id": "ea496dc6",
   "metadata": {
    "execution": {
     "iopub.execute_input": "2025-06-07T05:46:27.888573Z",
     "iopub.status.busy": "2025-06-07T05:46:27.888294Z",
     "iopub.status.idle": "2025-06-07T05:46:27.895310Z",
     "shell.execute_reply": "2025-06-07T05:46:27.894461Z",
     "shell.execute_reply.started": "2025-06-07T05:46:27.888555Z"
    },
    "trusted": true
   },
   "outputs": [],
   "source": [
    "def generate(model, idx, max_new_tokens, context_size, temperature=0.0, top_k=None, eos_id=None):\n",
    "\n",
    "    for _ in range(max_new_tokens):\n",
    "        idx_cond = idx[:, -context_size:]\n",
    "        with torch.no_grad():\n",
    "            logits = model(idx_cond)\n",
    "        logits = logits[:, -1, :]\n",
    "\n",
    "        if top_k is not None:\n",
    "            top_logits, _ = torch.topk(logits, top_k)\n",
    "            min_val = top_logits[:, -1]\n",
    "            logits = torch.where(logits < min_val, torch.tensor(float(\"-inf\")).to(logits.device), logits)\n",
    "\n",
    "        if temperature > 0.0:\n",
    "            logits = logits / temperature\n",
    "            probs = torch.softmax(logits, dim=-1)  \n",
    "            idx_next = torch.multinomial(probs, num_samples=1) \n",
    "        else:\n",
    "            idx_next = torch.argmax(logits, dim=-1, keepdim=True)\n",
    "\n",
    "        if idx_next == eos_id:\n",
    "            break\n",
    "        idx = torch.cat((idx, idx_next), dim=1) \n",
    "\n",
    "    return idx"
   ]
  },
  {
   "cell_type": "code",
   "execution_count": 125,
   "id": "e16eedcd-a1ae-42be-81e6-6cb531afb65b",
   "metadata": {
    "execution": {
     "iopub.execute_input": "2025-06-07T05:48:55.363538Z",
     "iopub.status.busy": "2025-06-07T05:48:55.362927Z",
     "iopub.status.idle": "2025-06-07T05:48:57.132031Z",
     "shell.execute_reply": "2025-06-07T05:48:57.131323Z",
     "shell.execute_reply.started": "2025-06-07T05:48:55.363510Z"
    },
    "trusted": true
   },
   "outputs": [
    {
     "name": "stdout",
     "output_type": "stream",
     "text": [
      "Output text:\n",
      " Harry potter was stunned.\n",
      "\n",
      "Ron and Hermione was standingrofully with fury. This left the changing to the match, Ernie. The little witch and hugged her mouth shut behind them. She dropped Ron’s new robes on top of his robes.\n",
      "\n",
      "“Sorry, but you’re in ten seconds —” The girl began Hermione with great difficulty of a huge little fist like she’s girls.\n",
      "\n",
      "There was a loud, and she sat down the deserted corridor and\n"
     ]
    }
   ],
   "source": [
    "torch.manual_seed(123)\n",
    "\n",
    "token_ids = generate(\n",
    "    model=model,\n",
    "    idx=text_to_token_ids(\"Harry potter was stunned\", tokenizer).to(device),\n",
    "    max_new_tokens=100,\n",
    "    context_size=GPT_CONFIG_124M[\"context_length\"],\n",
    "    top_k=50,\n",
    "    temperature=1.2\n",
    ")\n",
    "\n",
    "print(\"Output text:\\n\", token_ids_to_text(token_ids, tokenizer))"
   ]
  },
  {
   "cell_type": "code",
   "execution_count": null,
   "id": "f280243d-2417-4ae1-881e-760f53784fbc",
   "metadata": {
    "trusted": true
   },
   "outputs": [],
   "source": []
  }
 ],
 "metadata": {
  "kaggle": {
   "accelerator": "nvidiaTeslaT4",
   "dataSources": [
    {
     "datasetId": 7607433,
     "sourceId": 12084801,
     "sourceType": "datasetVersion"
    }
   ],
   "dockerImageVersionId": 31041,
   "isGpuEnabled": true,
   "isInternetEnabled": true,
   "language": "python",
   "sourceType": "notebook"
  },
  "kernelspec": {
   "display_name": "Python 3",
   "language": "python",
   "name": "python3"
  },
  "language_info": {
   "codemirror_mode": {
    "name": "ipython",
    "version": 3
   },
   "file_extension": ".py",
   "mimetype": "text/x-python",
   "name": "python",
   "nbconvert_exporter": "python",
   "pygments_lexer": "ipython3",
   "version": "3.11.11"
  }
 },
 "nbformat": 4,
 "nbformat_minor": 5
}
